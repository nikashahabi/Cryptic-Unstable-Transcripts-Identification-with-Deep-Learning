{
  "nbformat": 4,
  "nbformat_minor": 0,
  "metadata": {
    "colab": {
      "provenance": [],
      "authorship_tag": "ABX9TyNjI8VLn87oZWpKV6IiyPzP",
      "include_colab_link": true
    },
    "kernelspec": {
      "name": "python3",
      "display_name": "Python 3"
    },
    "language_info": {
      "name": "python"
    }
  },
  "cells": [
    {
      "cell_type": "markdown",
      "metadata": {
        "id": "view-in-github",
        "colab_type": "text"
      },
      "source": [
        "<a href=\"https://colab.research.google.com/github/nikashahabi/Cryptic-Unstable-Transcripts-Identification-with-Deep-Learning/blob/main/%C2%ABPart6_TrainingClassifierWithNewData.ipynb\" target=\"_parent\"><img src=\"https://colab.research.google.com/assets/colab-badge.svg\" alt=\"Open In Colab\"/></a>"
      ]
    },
    {
      "cell_type": "code",
      "source": [
        "from google.colab import drive\n",
        "drive.mount('/content/drive')"
      ],
      "metadata": {
        "colab": {
          "base_uri": "https://localhost:8080/"
        },
        "id": "UQWypTWAfnMO",
        "outputId": "2b8516ec-d040-4755-e1d8-33496c28493f"
      },
      "execution_count": null,
      "outputs": [
        {
          "output_type": "stream",
          "name": "stdout",
          "text": [
            "Drive already mounted at /content/drive; to attempt to forcibly remount, call drive.mount(\"/content/drive\", force_remount=True).\n"
          ]
        }
      ]
    },
    {
      "cell_type": "code",
      "source": [
        "from sklearn.utils import resample\n",
        "import pandas as pd\n",
        "import numpy as np\n",
        "from sklearn.model_selection import train_test_split\n",
        "from sklearn.model_selection import KFold, StratifiedKFold\n",
        "from keras import backend as K\n",
        "from sklearn.utils import class_weight"
      ],
      "metadata": {
        "id": "quKJ7MGmfoVV"
      },
      "execution_count": null,
      "outputs": []
    },
    {
      "cell_type": "code",
      "source": [
        "# df = pd.read_pickle(\"/content/drive/MyDrive/Bioinformatics/shuffled_df_new_with_sequences_vectors_and_labels.pkl\")\n",
        "df = pd.read_pickle(\"/content/drive/MyDrive/Bioinformatics/snRNA + snoRNA + ncRNA + other ncRNAs from paper + overlapping cuts + nonoverlappingcuts (sequence, label and vector).csv\")"
      ],
      "metadata": {
        "id": "26B0IAtnfqxb"
      },
      "execution_count": null,
      "outputs": []
    },
    {
      "cell_type": "code",
      "source": [
        "df"
      ],
      "metadata": {
        "colab": {
          "base_uri": "https://localhost:8080/",
          "height": 419
        },
        "id": "sX8Aylg6gMFg",
        "outputId": "fce56285-7b06-442d-88c8-8c1537823d78"
      },
      "execution_count": null,
      "outputs": [
        {
          "output_type": "execute_result",
          "data": {
            "text/plain": [
              "                                               sequence  label  \\\n",
              "0     TATTTTCGAGAATAATTCTTTTTTTCAGGTTCATGGCACATTTTTC...      1   \n",
              "1     AAGAAATGTACACTATGTTTCTAAACACTGGCAGTGATCAGATTGA...      1   \n",
              "2     GTAAATGACGAGAAAAAAGCTGTGCACCAGTCTGAACATGGATGCC...      0   \n",
              "3     CCTGCCGTTTTTGTTTTGTAAGGGTGAGGAAAAACTGGGGACGATG...      0   \n",
              "4     AAGAAATTTAATAATTTTGAAAATGGATTTTTTTGTTTTGGCAAGA...      0   \n",
              "...                                                 ...    ...   \n",
              "1308  GGGCACATGGCGCAGTTGGTAGCGCGCTTCCCTTGCAAGGAAGAGG...      0   \n",
              "1309  CGTCAAGATATTTGAAAGTTAATAGACAGTTAACAATAATAACAAC...      1   \n",
              "1310  ACATTTAGGCCTAGCTATATATGCTACTATGTATCATTCAGTGAAA...      0   \n",
              "1311  TTGTCCCAAAAAAGATCACTTTCGTTGTGTTTATTGTCATTGGTAT...      1   \n",
              "1312  TAACATGATGACTAAGTTGTCGCCCCAAGCGGATCTTTGAAATGAC...      0   \n",
              "\n",
              "                                                vectors  \n",
              "0     [-0.19782084226608276, 0.03133830055594444, 0....  \n",
              "1     [-0.19980959594249725, 0.1672704517841339, -0....  \n",
              "2     [-0.0547851026058197, 0.0653567984700203, 0.64...  \n",
              "3     [-0.2736167013645172, -0.08636614680290222, 0....  \n",
              "4     [-0.12111446261405945, 0.06727982312440872, 0....  \n",
              "...                                                 ...  \n",
              "1308  [0.03973401337862015, 0.1697627753019333, 0.92...  \n",
              "1309                                               None  \n",
              "1310                                               None  \n",
              "1311  [0.19825679063796997, -0.08999010920524597, 0....  \n",
              "1312  [-0.15152060985565186, 0.12324952334165573, 0....  \n",
              "\n",
              "[1313 rows x 3 columns]"
            ],
            "text/html": [
              "\n",
              "  <div id=\"df-c0e147fa-f171-43b8-91e7-3cb9e68cffd3\">\n",
              "    <div class=\"colab-df-container\">\n",
              "      <div>\n",
              "<style scoped>\n",
              "    .dataframe tbody tr th:only-of-type {\n",
              "        vertical-align: middle;\n",
              "    }\n",
              "\n",
              "    .dataframe tbody tr th {\n",
              "        vertical-align: top;\n",
              "    }\n",
              "\n",
              "    .dataframe thead th {\n",
              "        text-align: right;\n",
              "    }\n",
              "</style>\n",
              "<table border=\"1\" class=\"dataframe\">\n",
              "  <thead>\n",
              "    <tr style=\"text-align: right;\">\n",
              "      <th></th>\n",
              "      <th>sequence</th>\n",
              "      <th>label</th>\n",
              "      <th>vectors</th>\n",
              "    </tr>\n",
              "  </thead>\n",
              "  <tbody>\n",
              "    <tr>\n",
              "      <th>0</th>\n",
              "      <td>TATTTTCGAGAATAATTCTTTTTTTCAGGTTCATGGCACATTTTTC...</td>\n",
              "      <td>1</td>\n",
              "      <td>[-0.19782084226608276, 0.03133830055594444, 0....</td>\n",
              "    </tr>\n",
              "    <tr>\n",
              "      <th>1</th>\n",
              "      <td>AAGAAATGTACACTATGTTTCTAAACACTGGCAGTGATCAGATTGA...</td>\n",
              "      <td>1</td>\n",
              "      <td>[-0.19980959594249725, 0.1672704517841339, -0....</td>\n",
              "    </tr>\n",
              "    <tr>\n",
              "      <th>2</th>\n",
              "      <td>GTAAATGACGAGAAAAAAGCTGTGCACCAGTCTGAACATGGATGCC...</td>\n",
              "      <td>0</td>\n",
              "      <td>[-0.0547851026058197, 0.0653567984700203, 0.64...</td>\n",
              "    </tr>\n",
              "    <tr>\n",
              "      <th>3</th>\n",
              "      <td>CCTGCCGTTTTTGTTTTGTAAGGGTGAGGAAAAACTGGGGACGATG...</td>\n",
              "      <td>0</td>\n",
              "      <td>[-0.2736167013645172, -0.08636614680290222, 0....</td>\n",
              "    </tr>\n",
              "    <tr>\n",
              "      <th>4</th>\n",
              "      <td>AAGAAATTTAATAATTTTGAAAATGGATTTTTTTGTTTTGGCAAGA...</td>\n",
              "      <td>0</td>\n",
              "      <td>[-0.12111446261405945, 0.06727982312440872, 0....</td>\n",
              "    </tr>\n",
              "    <tr>\n",
              "      <th>...</th>\n",
              "      <td>...</td>\n",
              "      <td>...</td>\n",
              "      <td>...</td>\n",
              "    </tr>\n",
              "    <tr>\n",
              "      <th>1308</th>\n",
              "      <td>GGGCACATGGCGCAGTTGGTAGCGCGCTTCCCTTGCAAGGAAGAGG...</td>\n",
              "      <td>0</td>\n",
              "      <td>[0.03973401337862015, 0.1697627753019333, 0.92...</td>\n",
              "    </tr>\n",
              "    <tr>\n",
              "      <th>1309</th>\n",
              "      <td>CGTCAAGATATTTGAAAGTTAATAGACAGTTAACAATAATAACAAC...</td>\n",
              "      <td>1</td>\n",
              "      <td>None</td>\n",
              "    </tr>\n",
              "    <tr>\n",
              "      <th>1310</th>\n",
              "      <td>ACATTTAGGCCTAGCTATATATGCTACTATGTATCATTCAGTGAAA...</td>\n",
              "      <td>0</td>\n",
              "      <td>None</td>\n",
              "    </tr>\n",
              "    <tr>\n",
              "      <th>1311</th>\n",
              "      <td>TTGTCCCAAAAAAGATCACTTTCGTTGTGTTTATTGTCATTGGTAT...</td>\n",
              "      <td>1</td>\n",
              "      <td>[0.19825679063796997, -0.08999010920524597, 0....</td>\n",
              "    </tr>\n",
              "    <tr>\n",
              "      <th>1312</th>\n",
              "      <td>TAACATGATGACTAAGTTGTCGCCCCAAGCGGATCTTTGAAATGAC...</td>\n",
              "      <td>0</td>\n",
              "      <td>[-0.15152060985565186, 0.12324952334165573, 0....</td>\n",
              "    </tr>\n",
              "  </tbody>\n",
              "</table>\n",
              "<p>1313 rows × 3 columns</p>\n",
              "</div>\n",
              "      <button class=\"colab-df-convert\" onclick=\"convertToInteractive('df-c0e147fa-f171-43b8-91e7-3cb9e68cffd3')\"\n",
              "              title=\"Convert this dataframe to an interactive table.\"\n",
              "              style=\"display:none;\">\n",
              "        \n",
              "  <svg xmlns=\"http://www.w3.org/2000/svg\" height=\"24px\"viewBox=\"0 0 24 24\"\n",
              "       width=\"24px\">\n",
              "    <path d=\"M0 0h24v24H0V0z\" fill=\"none\"/>\n",
              "    <path d=\"M18.56 5.44l.94 2.06.94-2.06 2.06-.94-2.06-.94-.94-2.06-.94 2.06-2.06.94zm-11 1L8.5 8.5l.94-2.06 2.06-.94-2.06-.94L8.5 2.5l-.94 2.06-2.06.94zm10 10l.94 2.06.94-2.06 2.06-.94-2.06-.94-.94-2.06-.94 2.06-2.06.94z\"/><path d=\"M17.41 7.96l-1.37-1.37c-.4-.4-.92-.59-1.43-.59-.52 0-1.04.2-1.43.59L10.3 9.45l-7.72 7.72c-.78.78-.78 2.05 0 2.83L4 21.41c.39.39.9.59 1.41.59.51 0 1.02-.2 1.41-.59l7.78-7.78 2.81-2.81c.8-.78.8-2.07 0-2.86zM5.41 20L4 18.59l7.72-7.72 1.47 1.35L5.41 20z\"/>\n",
              "  </svg>\n",
              "      </button>\n",
              "      \n",
              "  <style>\n",
              "    .colab-df-container {\n",
              "      display:flex;\n",
              "      flex-wrap:wrap;\n",
              "      gap: 12px;\n",
              "    }\n",
              "\n",
              "    .colab-df-convert {\n",
              "      background-color: #E8F0FE;\n",
              "      border: none;\n",
              "      border-radius: 50%;\n",
              "      cursor: pointer;\n",
              "      display: none;\n",
              "      fill: #1967D2;\n",
              "      height: 32px;\n",
              "      padding: 0 0 0 0;\n",
              "      width: 32px;\n",
              "    }\n",
              "\n",
              "    .colab-df-convert:hover {\n",
              "      background-color: #E2EBFA;\n",
              "      box-shadow: 0px 1px 2px rgba(60, 64, 67, 0.3), 0px 1px 3px 1px rgba(60, 64, 67, 0.15);\n",
              "      fill: #174EA6;\n",
              "    }\n",
              "\n",
              "    [theme=dark] .colab-df-convert {\n",
              "      background-color: #3B4455;\n",
              "      fill: #D2E3FC;\n",
              "    }\n",
              "\n",
              "    [theme=dark] .colab-df-convert:hover {\n",
              "      background-color: #434B5C;\n",
              "      box-shadow: 0px 1px 3px 1px rgba(0, 0, 0, 0.15);\n",
              "      filter: drop-shadow(0px 1px 2px rgba(0, 0, 0, 0.3));\n",
              "      fill: #FFFFFF;\n",
              "    }\n",
              "  </style>\n",
              "\n",
              "      <script>\n",
              "        const buttonEl =\n",
              "          document.querySelector('#df-c0e147fa-f171-43b8-91e7-3cb9e68cffd3 button.colab-df-convert');\n",
              "        buttonEl.style.display =\n",
              "          google.colab.kernel.accessAllowed ? 'block' : 'none';\n",
              "\n",
              "        async function convertToInteractive(key) {\n",
              "          const element = document.querySelector('#df-c0e147fa-f171-43b8-91e7-3cb9e68cffd3');\n",
              "          const dataTable =\n",
              "            await google.colab.kernel.invokeFunction('convertToInteractive',\n",
              "                                                     [key], {});\n",
              "          if (!dataTable) return;\n",
              "\n",
              "          const docLinkHtml = 'Like what you see? Visit the ' +\n",
              "            '<a target=\"_blank\" href=https://colab.research.google.com/notebooks/data_table.ipynb>data table notebook</a>'\n",
              "            + ' to learn more about interactive tables.';\n",
              "          element.innerHTML = '';\n",
              "          dataTable['output_type'] = 'display_data';\n",
              "          await google.colab.output.renderOutput(dataTable, element);\n",
              "          const docLink = document.createElement('div');\n",
              "          docLink.innerHTML = docLinkHtml;\n",
              "          element.appendChild(docLink);\n",
              "        }\n",
              "      </script>\n",
              "    </div>\n",
              "  </div>\n",
              "  "
            ]
          },
          "metadata": {},
          "execution_count": 34
        }
      ]
    },
    {
      "cell_type": "code",
      "source": [
        "df['vectors'] = df['vectors'].apply(np.squeeze)\n",
        "df = df[df['vectors'].notna()]\n",
        "df['vectors'].apply(lambda x:x.shape == (768,)).all()\n",
        "X = np.stack(df['vectors'])\n",
        "y = df['label']\n",
        "X_train, X_test, y_train, y_test = train_test_split(X, y, test_size=0.2, random_state=42)\n",
        "X_train_final, X_validation_final, y_train_final, y_validation_final = train_test_split(X_train, y_train, test_size=0.1, random_state=42)"
      ],
      "metadata": {
        "id": "I-yqZJ61gDUg"
      },
      "execution_count": null,
      "outputs": []
    },
    {
      "cell_type": "code",
      "source": [],
      "metadata": {
        "id": "JpS8UoTZgRvL"
      },
      "execution_count": null,
      "outputs": []
    },
    {
      "cell_type": "code",
      "source": [
        "kf = KFold(n_splits = 5)                         \n",
        "skf = StratifiedKFold(n_splits = 5, random_state = 7, shuffle = True) "
      ],
      "metadata": {
        "id": "jglgXX3dfGg-"
      },
      "execution_count": null,
      "outputs": []
    },
    {
      "cell_type": "code",
      "source": [
        "import tensorflow as tf\n",
        "from tensorflow import keras\n",
        "from tensorflow.keras import layers\n",
        "from sklearn.metrics import classification_report\n",
        "import matplotlib.pyplot as plt"
      ],
      "metadata": {
        "id": "fo0xfYmAyYwx"
      },
      "execution_count": null,
      "outputs": []
    },
    {
      "cell_type": "code",
      "source": [],
      "metadata": {
        "id": "Gfampe5aiSa8"
      },
      "execution_count": null,
      "outputs": []
    },
    {
      "cell_type": "code",
      "source": [
        "def create_new_model():\n",
        "  return keras.models.Sequential([\n",
        "        keras.layers.Dense(50,input_dim=768, activation=\"relu\"),\n",
        "      keras.layers.Dense(25, activation=\"relu\"),\n",
        "        keras.layers.Dense(1, activation=\"sigmoid\")\n",
        "    ])"
      ],
      "metadata": {
        "id": "NOeUqS-92dyt"
      },
      "execution_count": null,
      "outputs": []
    },
    {
      "cell_type": "code",
      "source": [
        "def plotLearningCurve(history, optimizer):\n",
        "    'plotting the learning curve'\n",
        "    pd.DataFrame(history.history).plot(figsize=(8, 5))\n",
        "    plt.grid(True)\n",
        "    plt.gca().set_ylim(0, 1)\n",
        "    plt.title(label=\"keras_learning_curves_plot_with_\" + optimizer + \"_optimizer\")\n",
        "    plt.show()\n",
        "    # plt.close(\"all\")"
      ],
      "metadata": {
        "id": "Cuj3Z8o92fiW"
      },
      "execution_count": null,
      "outputs": []
    },
    {
      "cell_type": "code",
      "source": [
        "def f1(y_true, y_pred):\n",
        "    def recall(y_true, y_pred):\n",
        "        \"\"\"Recall metric.\n",
        "\n",
        "        Only computes a batch-wise average of recall.\n",
        "\n",
        "        Computes the recall, a metric for multi-label classification of\n",
        "        how many relevant items are selected.\n",
        "        \"\"\"\n",
        "        true_positives = K.sum(K.round(K.clip(y_true * y_pred, 0, 1)))\n",
        "        possible_positives = K.sum(K.round(K.clip(y_true, 0, 1)))\n",
        "        recall = true_positives / (possible_positives + K.epsilon())\n",
        "        return recall\n",
        "\n",
        "    def precision(y_true, y_pred):\n",
        "        \"\"\"Precision metric.\n",
        "\n",
        "        Only computes a batch-wise average of precision.\n",
        "\n",
        "        Computes the precision, a metric for multi-label classification of\n",
        "        how many selected items are relevant.\n",
        "        \"\"\"\n",
        "        true_positives = K.sum(K.round(K.clip(y_true * y_pred, 0, 1)))\n",
        "        predicted_positives = K.sum(K.round(K.clip(y_pred, 0, 1)))\n",
        "        precision = true_positives / (predicted_positives + K.epsilon())\n",
        "        return precision\n",
        "    precision = precision(y_true, y_pred)\n",
        "    recall = recall(y_true, y_pred)\n",
        "    return 2*((precision*recall)/(precision+recall+K.epsilon()))"
      ],
      "metadata": {
        "id": "aA0na5h9nSO2"
      },
      "execution_count": null,
      "outputs": []
    },
    {
      "cell_type": "code",
      "source": [
        "EPOCHS = 50\n",
        "OPTIMIZER = \"adam\"\n",
        "METRICS=[\"accuracy\",f1]\n",
        "LOSS=\"binary_crossentropy\"\n",
        "create_new_model().summary()"
      ],
      "metadata": {
        "colab": {
          "base_uri": "https://localhost:8080/"
        },
        "id": "fNQcMMLwhpjq",
        "outputId": "5ee915ba-0e54-4b47-cbcb-a3533f26c12e"
      },
      "execution_count": null,
      "outputs": [
        {
          "output_type": "stream",
          "name": "stdout",
          "text": [
            "Model: \"sequential\"\n",
            "_________________________________________________________________\n",
            " Layer (type)                Output Shape              Param #   \n",
            "=================================================================\n",
            " dense (Dense)               (None, 50)                38450     \n",
            "                                                                 \n",
            " dense_1 (Dense)             (None, 25)                1275      \n",
            "                                                                 \n",
            " dense_2 (Dense)             (None, 1)                 26        \n",
            "                                                                 \n",
            "=================================================================\n",
            "Total params: 39,751\n",
            "Trainable params: 39,751\n",
            "Non-trainable params: 0\n",
            "_________________________________________________________________\n"
          ]
        }
      ]
    },
    {
      "cell_type": "markdown",
      "source": [
        "## Cross Validation"
      ],
      "metadata": {
        "id": "Hgpu2PmqTE_m"
      }
    },
    {
      "cell_type": "code",
      "source": [],
      "metadata": {
        "id": "UIEdNNK6W6XI"
      },
      "execution_count": null,
      "outputs": []
    },
    {
      "cell_type": "code",
      "source": [
        "\n",
        "VALIDATION_ACCURACY = []\n",
        "VALIDATION_LOSS = []\n",
        "fold_var = 1\n",
        "best_result = -1*np.inf\n",
        "\n",
        "for train_index, val_index in kf.split(np.zeros(len(y_train)),y_train):\n",
        "  print(f\"fold:{fold_var}\")\n",
        "  training_data = X_train[train_index]\n",
        "  training_data_y = y_train.iloc[train_index]\n",
        "  # Calculate the weights for each class so that we can balance the data\n",
        "  classes=np.unique(training_data_y)\n",
        "  weights = class_weight.compute_class_weight(class_weight='balanced',\n",
        "                                            classes=classes,\n",
        "                                            y=training_data_y)\n",
        "  class_weights = {i: weights[i] for i in classes}\n",
        "  validation_data = X_train[val_index]\n",
        "  validation_data_y = y_train.iloc[val_index]\n",
        "  # CREATE NEW MODEL\n",
        "  model = create_new_model()\n",
        "  # COMPILE NEW MODEL\n",
        "  model.compile(loss=LOSS,optimizer=OPTIMIZER,metrics=METRICS)\n",
        "\t# FIT THE MODEL\n",
        "  history = model.fit(training_data,training_data_y,epochs=EPOCHS,validation_data=(validation_data,validation_data_y),verbose=0, class_weight=class_weights)\n",
        "\t\n",
        "  results = model.evaluate(validation_data,validation_data_y)\n",
        "  results = dict(zip(model.metrics_names,results))\n",
        "\n",
        "  VALIDATION_ACCURACY.append(results['accuracy'])\n",
        "  VALIDATION_LOSS.append(results['loss'])\n",
        "\n",
        "  #saving best model yet\n",
        "  if results['f1'] > best_result:\n",
        "    print(f\"best performance increased. saving model: {best_result} -> {results['f1']}\")\n",
        "    best_result = results['f1']\n",
        "    model.save('./best_model.h5')\n",
        "\n",
        "  tf.keras.backend.clear_session()\n",
        "\t\n",
        "  fold_var += 1\n",
        "\t"
      ],
      "metadata": {
        "colab": {
          "base_uri": "https://localhost:8080/"
        },
        "id": "5HX8QXcn2hGk",
        "outputId": "c8342f7c-a229-40a7-f4bf-cadaa62e7725"
      },
      "execution_count": null,
      "outputs": [
        {
          "output_type": "stream",
          "name": "stdout",
          "text": [
            "fold:1\n",
            "5/5 [==============================] - 0s 3ms/step - loss: 0.5187 - accuracy: 0.8028 - f1: 0.8539\n",
            "best performance increased. saving model: -inf -> 0.8539144396781921\n",
            "fold:2\n",
            "5/5 [==============================] - 0s 3ms/step - loss: 0.6094 - accuracy: 0.7943 - f1: 0.8411\n",
            "fold:3\n",
            "5/5 [==============================] - 0s 3ms/step - loss: 0.4530 - accuracy: 0.8085 - f1: 0.8407\n",
            "fold:4\n",
            "5/5 [==============================] - 0s 4ms/step - loss: 0.4837 - accuracy: 0.8369 - f1: 0.8881\n",
            "best performance increased. saving model: 0.8539144396781921 -> 0.8881222605705261\n",
            "fold:5\n",
            "5/5 [==============================] - 0s 3ms/step - loss: 0.4897 - accuracy: 0.7801 - f1: 0.8316\n"
          ]
        }
      ]
    },
    {
      "cell_type": "markdown",
      "source": [
        "## Training Final Model"
      ],
      "metadata": {
        "id": "2WqJQKsfTJfw"
      }
    },
    {
      "cell_type": "code",
      "source": [
        "EPOCHS = 100\n",
        "callback = tf.keras.callbacks.EarlyStopping(monitor='loss', patience=5)\n",
        "classes=np.unique(y_train)\n",
        "weights = class_weight.compute_class_weight(class_weight='balanced',\n",
        "                                          classes=classes,\n",
        "                                          y=y_train)\n",
        "class_weights = {i: weights[i] for i in classes}\n",
        "# CREATE NEW MODEL\n",
        "model = create_new_model()\n",
        "# COMPILE NEW MODEL\n",
        "model.compile(loss=LOSS,optimizer=OPTIMIZER,metrics=METRICS)\n",
        "# FIT THE MODEL\n",
        "history = model.fit(X_train_final,y_train_final,epochs=EPOCHS,validation_data=(X_validation_final,y_validation_final),verbose=1, class_weight=class_weights, callbacks=[callback])\n",
        "model.save('./final_model.h5')\n",
        "\n",
        "tf.keras.backend.clear_session()\n"
      ],
      "metadata": {
        "colab": {
          "base_uri": "https://localhost:8080/"
        },
        "id": "zeTbreqtTJD4",
        "outputId": "cdb78684-9c71-4792-915f-eff272a9ad37"
      },
      "execution_count": null,
      "outputs": [
        {
          "output_type": "stream",
          "name": "stdout",
          "text": [
            "Epoch 1/100\n",
            "20/20 [==============================] - 2s 26ms/step - loss: 0.6209 - accuracy: 0.6472 - f1: 0.7146 - val_loss: 0.5725 - val_accuracy: 0.7324 - val_f1: 0.8243\n",
            "Epoch 2/100\n",
            "20/20 [==============================] - 0s 7ms/step - loss: 0.5619 - accuracy: 0.7339 - f1: 0.7835 - val_loss: 0.5142 - val_accuracy: 0.7606 - val_f1: 0.8672\n",
            "Epoch 3/100\n",
            "20/20 [==============================] - 0s 7ms/step - loss: 0.5259 - accuracy: 0.7795 - f1: 0.8365 - val_loss: 0.5419 - val_accuracy: 0.7183 - val_f1: 0.8122\n",
            "Epoch 4/100\n",
            "20/20 [==============================] - 0s 7ms/step - loss: 0.4985 - accuracy: 0.7795 - f1: 0.8174 - val_loss: 0.4961 - val_accuracy: 0.7746 - val_f1: 0.8692\n",
            "Epoch 5/100\n",
            "20/20 [==============================] - 0s 6ms/step - loss: 0.4952 - accuracy: 0.7528 - f1: 0.7869 - val_loss: 0.5992 - val_accuracy: 0.7042 - val_f1: 0.7609\n",
            "Epoch 6/100\n",
            "20/20 [==============================] - 0s 7ms/step - loss: 0.4750 - accuracy: 0.7827 - f1: 0.8222 - val_loss: 0.5225 - val_accuracy: 0.6901 - val_f1: 0.7878\n",
            "Epoch 7/100\n",
            "20/20 [==============================] - 0s 8ms/step - loss: 0.4410 - accuracy: 0.8063 - f1: 0.8427 - val_loss: 0.4674 - val_accuracy: 0.7606 - val_f1: 0.8386\n",
            "Epoch 8/100\n",
            "20/20 [==============================] - 0s 7ms/step - loss: 0.4259 - accuracy: 0.7937 - f1: 0.8346 - val_loss: 0.4819 - val_accuracy: 0.7324 - val_f1: 0.8209\n",
            "Epoch 9/100\n",
            "20/20 [==============================] - 0s 7ms/step - loss: 0.4149 - accuracy: 0.8079 - f1: 0.8492 - val_loss: 0.4535 - val_accuracy: 0.7465 - val_f1: 0.8318\n",
            "Epoch 10/100\n",
            "20/20 [==============================] - 0s 7ms/step - loss: 0.4143 - accuracy: 0.8016 - f1: 0.8305 - val_loss: 0.5541 - val_accuracy: 0.7606 - val_f1: 0.7928\n",
            "Epoch 11/100\n",
            "20/20 [==============================] - 0s 7ms/step - loss: 0.4057 - accuracy: 0.7953 - f1: 0.8287 - val_loss: 0.4410 - val_accuracy: 0.7606 - val_f1: 0.8358\n",
            "Epoch 12/100\n",
            "20/20 [==============================] - 0s 7ms/step - loss: 0.3812 - accuracy: 0.8362 - f1: 0.8728 - val_loss: 0.4552 - val_accuracy: 0.7324 - val_f1: 0.8225\n",
            "Epoch 13/100\n",
            "20/20 [==============================] - 0s 7ms/step - loss: 0.3621 - accuracy: 0.8394 - f1: 0.8687 - val_loss: 0.5228 - val_accuracy: 0.7606 - val_f1: 0.7827\n",
            "Epoch 14/100\n",
            "20/20 [==============================] - 0s 11ms/step - loss: 0.3560 - accuracy: 0.8283 - f1: 0.8559 - val_loss: 0.4483 - val_accuracy: 0.7606 - val_f1: 0.8618\n",
            "Epoch 15/100\n",
            "20/20 [==============================] - 0s 12ms/step - loss: 0.3749 - accuracy: 0.8315 - f1: 0.8606 - val_loss: 0.4750 - val_accuracy: 0.7465 - val_f1: 0.8157\n",
            "Epoch 16/100\n",
            "20/20 [==============================] - 0s 14ms/step - loss: 0.3440 - accuracy: 0.8472 - f1: 0.8783 - val_loss: 0.4597 - val_accuracy: 0.7746 - val_f1: 0.8672\n",
            "Epoch 17/100\n",
            "20/20 [==============================] - 0s 9ms/step - loss: 0.3508 - accuracy: 0.8472 - f1: 0.8787 - val_loss: 0.4974 - val_accuracy: 0.7183 - val_f1: 0.7627\n",
            "Epoch 18/100\n",
            "20/20 [==============================] - 0s 4ms/step - loss: 0.3340 - accuracy: 0.8535 - f1: 0.8861 - val_loss: 0.4786 - val_accuracy: 0.7324 - val_f1: 0.7804\n",
            "Epoch 19/100\n",
            "20/20 [==============================] - 0s 5ms/step - loss: 0.3409 - accuracy: 0.8394 - f1: 0.8697 - val_loss: 0.5682 - val_accuracy: 0.7465 - val_f1: 0.7504\n",
            "Epoch 20/100\n",
            "20/20 [==============================] - 0s 5ms/step - loss: 0.3795 - accuracy: 0.8031 - f1: 0.8257 - val_loss: 0.4570 - val_accuracy: 0.7746 - val_f1: 0.8685\n",
            "Epoch 21/100\n",
            "20/20 [==============================] - 0s 4ms/step - loss: 0.3263 - accuracy: 0.8583 - f1: 0.8796 - val_loss: 0.4576 - val_accuracy: 0.7324 - val_f1: 0.8175\n",
            "Epoch 22/100\n",
            "20/20 [==============================] - 0s 5ms/step - loss: 0.3129 - accuracy: 0.8520 - f1: 0.8821 - val_loss: 0.5176 - val_accuracy: 0.7746 - val_f1: 0.8685\n",
            "Epoch 23/100\n",
            "20/20 [==============================] - 0s 4ms/step - loss: 0.3465 - accuracy: 0.8299 - f1: 0.8618 - val_loss: 0.4636 - val_accuracy: 0.7606 - val_f1: 0.8303\n",
            "Epoch 24/100\n",
            "20/20 [==============================] - 0s 4ms/step - loss: 0.3208 - accuracy: 0.8630 - f1: 0.8912 - val_loss: 0.4968 - val_accuracy: 0.7324 - val_f1: 0.8104\n",
            "Epoch 25/100\n",
            "20/20 [==============================] - 0s 3ms/step - loss: 0.2989 - accuracy: 0.8567 - f1: 0.8810 - val_loss: 0.4795 - val_accuracy: 0.7042 - val_f1: 0.7720\n",
            "Epoch 26/100\n",
            "20/20 [==============================] - 0s 5ms/step - loss: 0.2904 - accuracy: 0.8693 - f1: 0.8960 - val_loss: 0.4822 - val_accuracy: 0.8028 - val_f1: 0.8558\n",
            "Epoch 27/100\n",
            "20/20 [==============================] - 0s 4ms/step - loss: 0.2926 - accuracy: 0.8740 - f1: 0.9017 - val_loss: 0.4788 - val_accuracy: 0.7324 - val_f1: 0.8118\n",
            "Epoch 28/100\n",
            "20/20 [==============================] - 0s 5ms/step - loss: 0.2846 - accuracy: 0.8772 - f1: 0.9015 - val_loss: 0.5033 - val_accuracy: 0.7887 - val_f1: 0.8740\n",
            "Epoch 29/100\n",
            "20/20 [==============================] - 0s 5ms/step - loss: 0.2868 - accuracy: 0.8819 - f1: 0.9028 - val_loss: 0.5433 - val_accuracy: 0.7183 - val_f1: 0.7625\n",
            "Epoch 30/100\n",
            "20/20 [==============================] - 0s 5ms/step - loss: 0.2929 - accuracy: 0.8630 - f1: 0.8869 - val_loss: 0.5163 - val_accuracy: 0.7746 - val_f1: 0.8441\n",
            "Epoch 31/100\n",
            "20/20 [==============================] - 0s 5ms/step - loss: 0.2715 - accuracy: 0.8630 - f1: 0.8906 - val_loss: 0.5073 - val_accuracy: 0.7465 - val_f1: 0.7940\n",
            "Epoch 32/100\n",
            "20/20 [==============================] - 0s 5ms/step - loss: 0.2824 - accuracy: 0.8630 - f1: 0.8931 - val_loss: 0.5333 - val_accuracy: 0.7042 - val_f1: 0.7624\n",
            "Epoch 33/100\n",
            "20/20 [==============================] - 0s 4ms/step - loss: 0.2737 - accuracy: 0.8803 - f1: 0.9032 - val_loss: 0.5255 - val_accuracy: 0.7746 - val_f1: 0.8361\n",
            "Epoch 34/100\n",
            "20/20 [==============================] - 0s 4ms/step - loss: 0.2613 - accuracy: 0.8724 - f1: 0.8964 - val_loss: 0.5224 - val_accuracy: 0.7887 - val_f1: 0.8462\n",
            "Epoch 35/100\n",
            "20/20 [==============================] - 0s 4ms/step - loss: 0.2637 - accuracy: 0.8882 - f1: 0.9111 - val_loss: 0.5255 - val_accuracy: 0.8028 - val_f1: 0.8797\n",
            "Epoch 36/100\n",
            "20/20 [==============================] - 0s 4ms/step - loss: 0.2651 - accuracy: 0.8677 - f1: 0.8946 - val_loss: 0.5194 - val_accuracy: 0.7887 - val_f1: 0.8462\n",
            "Epoch 37/100\n",
            "20/20 [==============================] - 0s 6ms/step - loss: 0.2646 - accuracy: 0.8772 - f1: 0.9007 - val_loss: 0.5560 - val_accuracy: 0.7887 - val_f1: 0.8498\n",
            "Epoch 38/100\n",
            "20/20 [==============================] - 0s 4ms/step - loss: 0.2488 - accuracy: 0.8866 - f1: 0.9094 - val_loss: 0.5519 - val_accuracy: 0.7746 - val_f1: 0.8361\n",
            "Epoch 39/100\n",
            "20/20 [==============================] - 0s 5ms/step - loss: 0.2351 - accuracy: 0.8961 - f1: 0.9156 - val_loss: 0.5728 - val_accuracy: 0.7606 - val_f1: 0.8294\n",
            "Epoch 40/100\n",
            "20/20 [==============================] - 0s 4ms/step - loss: 0.2314 - accuracy: 0.8976 - f1: 0.9188 - val_loss: 0.5852 - val_accuracy: 0.6901 - val_f1: 0.7250\n",
            "Epoch 41/100\n",
            "20/20 [==============================] - 0s 5ms/step - loss: 0.2396 - accuracy: 0.8929 - f1: 0.9166 - val_loss: 0.6142 - val_accuracy: 0.6761 - val_f1: 0.7139\n",
            "Epoch 42/100\n",
            "20/20 [==============================] - 0s 4ms/step - loss: 0.2513 - accuracy: 0.8898 - f1: 0.9047 - val_loss: 0.5907 - val_accuracy: 0.7746 - val_f1: 0.8361\n",
            "Epoch 43/100\n",
            "20/20 [==============================] - 0s 5ms/step - loss: 0.2457 - accuracy: 0.8835 - f1: 0.9046 - val_loss: 0.5865 - val_accuracy: 0.7887 - val_f1: 0.8462\n",
            "Epoch 44/100\n",
            "20/20 [==============================] - 0s 3ms/step - loss: 0.2250 - accuracy: 0.9102 - f1: 0.9283 - val_loss: 0.6558 - val_accuracy: 0.6761 - val_f1: 0.7118\n",
            "Epoch 45/100\n",
            "20/20 [==============================] - 0s 4ms/step - loss: 0.2156 - accuracy: 0.9071 - f1: 0.9230 - val_loss: 0.6140 - val_accuracy: 0.7746 - val_f1: 0.8361\n",
            "Epoch 46/100\n",
            "20/20 [==============================] - 0s 4ms/step - loss: 0.2265 - accuracy: 0.8835 - f1: 0.9049 - val_loss: 0.5775 - val_accuracy: 0.7465 - val_f1: 0.7982\n",
            "Epoch 47/100\n",
            "20/20 [==============================] - 0s 4ms/step - loss: 0.2101 - accuracy: 0.9039 - f1: 0.9216 - val_loss: 0.6126 - val_accuracy: 0.7465 - val_f1: 0.7940\n",
            "Epoch 48/100\n",
            "20/20 [==============================] - 0s 3ms/step - loss: 0.2063 - accuracy: 0.9008 - f1: 0.9158 - val_loss: 0.6366 - val_accuracy: 0.7746 - val_f1: 0.8361\n",
            "Epoch 49/100\n",
            "20/20 [==============================] - 0s 4ms/step - loss: 0.2097 - accuracy: 0.9102 - f1: 0.9272 - val_loss: 0.6168 - val_accuracy: 0.7887 - val_f1: 0.8702\n",
            "Epoch 50/100\n",
            "20/20 [==============================] - 0s 3ms/step - loss: 0.1907 - accuracy: 0.9260 - f1: 0.9408 - val_loss: 0.6852 - val_accuracy: 0.6761 - val_f1: 0.7170\n",
            "Epoch 51/100\n",
            "20/20 [==============================] - 0s 4ms/step - loss: 0.1888 - accuracy: 0.9197 - f1: 0.9363 - val_loss: 0.6595 - val_accuracy: 0.7887 - val_f1: 0.8462\n",
            "Epoch 52/100\n",
            "20/20 [==============================] - 0s 4ms/step - loss: 0.1876 - accuracy: 0.9260 - f1: 0.9398 - val_loss: 0.6389 - val_accuracy: 0.7465 - val_f1: 0.7584\n",
            "Epoch 53/100\n",
            "20/20 [==============================] - 0s 4ms/step - loss: 0.1777 - accuracy: 0.9339 - f1: 0.9484 - val_loss: 0.6910 - val_accuracy: 0.7887 - val_f1: 0.8462\n",
            "Epoch 54/100\n",
            "20/20 [==============================] - 0s 4ms/step - loss: 0.2090 - accuracy: 0.9118 - f1: 0.9294 - val_loss: 0.6735 - val_accuracy: 0.7746 - val_f1: 0.8403\n",
            "Epoch 55/100\n",
            "20/20 [==============================] - 0s 4ms/step - loss: 0.1892 - accuracy: 0.9276 - f1: 0.9420 - val_loss: 0.6809 - val_accuracy: 0.7606 - val_f1: 0.8008\n",
            "Epoch 56/100\n",
            "20/20 [==============================] - 0s 4ms/step - loss: 0.1612 - accuracy: 0.9465 - f1: 0.9562 - val_loss: 0.6950 - val_accuracy: 0.7465 - val_f1: 0.7584\n",
            "Epoch 57/100\n",
            "20/20 [==============================] - 0s 4ms/step - loss: 0.1722 - accuracy: 0.9228 - f1: 0.9396 - val_loss: 0.7479 - val_accuracy: 0.6620 - val_f1: 0.7059\n",
            "Epoch 58/100\n",
            "20/20 [==============================] - 0s 6ms/step - loss: 0.1722 - accuracy: 0.9323 - f1: 0.9457 - val_loss: 0.7073 - val_accuracy: 0.7183 - val_f1: 0.7446\n",
            "Epoch 59/100\n",
            "20/20 [==============================] - 0s 4ms/step - loss: 0.1816 - accuracy: 0.9228 - f1: 0.9368 - val_loss: 0.6901 - val_accuracy: 0.6901 - val_f1: 0.7267\n",
            "Epoch 60/100\n",
            "20/20 [==============================] - 0s 4ms/step - loss: 0.1606 - accuracy: 0.9402 - f1: 0.9528 - val_loss: 0.7716 - val_accuracy: 0.7324 - val_f1: 0.7478\n",
            "Epoch 61/100\n",
            "20/20 [==============================] - 0s 4ms/step - loss: 0.1938 - accuracy: 0.9213 - f1: 0.9373 - val_loss: 0.7420 - val_accuracy: 0.7887 - val_f1: 0.8702\n",
            "Epoch 62/100\n",
            "20/20 [==============================] - 0s 4ms/step - loss: 0.1864 - accuracy: 0.9276 - f1: 0.9422 - val_loss: 0.7388 - val_accuracy: 0.7465 - val_f1: 0.7902\n",
            "Epoch 63/100\n",
            "20/20 [==============================] - 0s 4ms/step - loss: 0.1552 - accuracy: 0.9433 - f1: 0.9561 - val_loss: 0.7815 - val_accuracy: 0.7183 - val_f1: 0.7400\n",
            "Epoch 64/100\n",
            "20/20 [==============================] - 0s 4ms/step - loss: 0.1574 - accuracy: 0.9465 - f1: 0.9573 - val_loss: 0.7987 - val_accuracy: 0.7042 - val_f1: 0.7293\n",
            "Epoch 65/100\n",
            "20/20 [==============================] - 0s 4ms/step - loss: 0.1727 - accuracy: 0.9244 - f1: 0.9390 - val_loss: 0.7437 - val_accuracy: 0.7324 - val_f1: 0.7516\n",
            "Epoch 66/100\n",
            "20/20 [==============================] - 0s 5ms/step - loss: 0.1484 - accuracy: 0.9386 - f1: 0.9520 - val_loss: 0.8030 - val_accuracy: 0.7465 - val_f1: 0.7538\n",
            "Epoch 67/100\n",
            "20/20 [==============================] - 0s 4ms/step - loss: 0.1334 - accuracy: 0.9528 - f1: 0.9621 - val_loss: 0.7423 - val_accuracy: 0.7606 - val_f1: 0.8008\n",
            "Epoch 68/100\n",
            "20/20 [==============================] - 0s 4ms/step - loss: 0.1335 - accuracy: 0.9496 - f1: 0.9603 - val_loss: 0.7880 - val_accuracy: 0.7465 - val_f1: 0.7584\n",
            "Epoch 69/100\n",
            "20/20 [==============================] - 0s 4ms/step - loss: 0.1336 - accuracy: 0.9449 - f1: 0.9569 - val_loss: 0.8055 - val_accuracy: 0.7183 - val_f1: 0.7458\n",
            "Epoch 70/100\n",
            "20/20 [==============================] - 0s 4ms/step - loss: 0.1481 - accuracy: 0.9433 - f1: 0.9540 - val_loss: 0.8873 - val_accuracy: 0.7746 - val_f1: 0.8361\n",
            "Epoch 71/100\n",
            "20/20 [==============================] - 0s 4ms/step - loss: 0.1477 - accuracy: 0.9433 - f1: 0.9558 - val_loss: 0.8370 - val_accuracy: 0.7465 - val_f1: 0.7584\n",
            "Epoch 72/100\n",
            "20/20 [==============================] - 0s 5ms/step - loss: 0.1205 - accuracy: 0.9638 - f1: 0.9718 - val_loss: 0.8058 - val_accuracy: 0.7324 - val_f1: 0.7471\n",
            "Epoch 73/100\n",
            "20/20 [==============================] - 0s 5ms/step - loss: 0.1181 - accuracy: 0.9638 - f1: 0.9710 - val_loss: 0.8411 - val_accuracy: 0.7183 - val_f1: 0.7400\n",
            "Epoch 74/100\n",
            "20/20 [==============================] - 0s 4ms/step - loss: 0.1179 - accuracy: 0.9669 - f1: 0.9748 - val_loss: 0.9480 - val_accuracy: 0.6901 - val_f1: 0.7250\n",
            "Epoch 75/100\n",
            "20/20 [==============================] - 0s 5ms/step - loss: 0.1106 - accuracy: 0.9654 - f1: 0.9723 - val_loss: 0.8352 - val_accuracy: 0.7465 - val_f1: 0.7584\n",
            "Epoch 76/100\n",
            "20/20 [==============================] - 0s 4ms/step - loss: 0.1280 - accuracy: 0.9559 - f1: 0.9651 - val_loss: 0.8798 - val_accuracy: 0.7465 - val_f1: 0.7584\n",
            "Epoch 77/100\n",
            "20/20 [==============================] - 0s 5ms/step - loss: 0.1246 - accuracy: 0.9465 - f1: 0.9572 - val_loss: 0.9974 - val_accuracy: 0.7465 - val_f1: 0.8248\n",
            "Epoch 78/100\n",
            "20/20 [==============================] - 0s 3ms/step - loss: 0.1486 - accuracy: 0.9323 - f1: 0.9450 - val_loss: 0.7969 - val_accuracy: 0.7887 - val_f1: 0.8462\n",
            "Epoch 79/100\n",
            "20/20 [==============================] - 0s 3ms/step - loss: 0.1532 - accuracy: 0.9307 - f1: 0.9435 - val_loss: 0.9062 - val_accuracy: 0.7324 - val_f1: 0.7471\n",
            "Epoch 80/100\n",
            "20/20 [==============================] - 0s 5ms/step - loss: 0.1182 - accuracy: 0.9606 - f1: 0.9675 - val_loss: 0.8960 - val_accuracy: 0.7042 - val_f1: 0.7327\n"
          ]
        }
      ]
    },
    {
      "cell_type": "code",
      "source": [
        "import matplotlib.pyplot as plt\n",
        "# plot learning curve\n",
        "plotLearningCurve(history, OPTIMIZER)"
      ],
      "metadata": {
        "colab": {
          "base_uri": "https://localhost:8080/",
          "height": 336
        },
        "id": "_dCRVSVACmdi",
        "outputId": "d0b40e30-2b3f-49a6-c152-b85ac4fdd21a"
      },
      "execution_count": null,
      "outputs": [
        {
          "output_type": "display_data",
          "data": {
            "text/plain": [
              "<Figure size 576x360 with 1 Axes>"
            ],
            "image/png": "[encoded data removed]"
          },
          "metadata": {
            "needs_background": "light"
          }
        }
      ]
    },
    {
      "cell_type": "code",
      "source": [
        "model = keras.models.load_model('./final_model.h5',custom_objects={\"f1\":f1})"
      ],
      "metadata": {
        "id": "OD1sXwOsoJAy"
      },
      "execution_count": null,
      "outputs": []
    },
    {
      "cell_type": "code",
      "source": [
        "# make prediction on test set\n",
        "y_prediction = model.predict(X_test)\n",
        "y_prediction_bool = (y_prediction > 0.5).astype(int)"
      ],
      "metadata": {
        "id": "ps7lZ8rb7FTs"
      },
      "execution_count": null,
      "outputs": []
    },
    {
      "cell_type": "code",
      "source": [
        "import tensorflow as tf\n",
        "def auc(y_true, y_pred):\n",
        "    auc = tf.metrics.auc(y_true, y_pred)[1]\n",
        "    # K.get_session().run(tf.local_variables_initializer())\n",
        "    return auc"
      ],
      "metadata": {
        "id": "HJGkm6wwer0C"
      },
      "execution_count": null,
      "outputs": []
    },
    {
      "cell_type": "code",
      "source": [
        "\n",
        "print(\"classification report with \"+ OPTIMIZER +  \"\\n\")\n",
        "from sklearn.metrics import classification_report\n",
        "# y_prediction_bool = y_prediction_bool.reshape((28,1))\n",
        "print(classification_report(y_test, y_prediction_bool))"
      ],
      "metadata": {
        "id": "wQgWW5JI2i0c",
        "colab": {
          "base_uri": "https://localhost:8080/"
        },
        "outputId": "9015bb14-065a-4e04-c7b0-a74069a14e62"
      },
      "execution_count": null,
      "outputs": [
        {
          "output_type": "stream",
          "name": "stdout",
          "text": [
            "classification report with adam\n",
            "\n",
            "              precision    recall  f1-score   support\n",
            "\n",
            "           0       0.60      0.70      0.65        57\n",
            "           1       0.85      0.78      0.81       120\n",
            "\n",
            "    accuracy                           0.75       177\n",
            "   macro avg       0.72      0.74      0.73       177\n",
            "weighted avg       0.77      0.75      0.76       177\n",
            "\n"
          ]
        }
      ]
    },
    {
      "cell_type": "code",
      "source": [
        "from sklearn.metrics import roc_curve\n",
        "from sklearn.metrics import roc_auc_score\n",
        "auc = roc_auc_score(y_test, y_prediction_bool)\n",
        "print('ROC AUC=%.3f' % (auc))"
      ],
      "metadata": {
        "colab": {
          "base_uri": "https://localhost:8080/"
        },
        "id": "CVVTsxuFLiMS",
        "outputId": "7fe297c2-b0e5-419f-9ec2-164f8eada335"
      },
      "execution_count": null,
      "outputs": [
        {
          "output_type": "stream",
          "name": "stdout",
          "text": [
            "ROC AUC=0.738\n"
          ]
        }
      ]
    },
    {
      "cell_type": "code",
      "source": [
        "# calculate roc curves\n",
        "fpr, tpr, _ = roc_curve(y_test, y_prediction_bool)\n",
        "# plot the roc curve for the model\n",
        "from matplotlib import pyplot\n",
        "pyplot.plot(fpr, tpr, linestyle='--', label='roc curve')\n",
        "# axis labels\n",
        "pyplot.xlabel('False Positive Rate')\n",
        "pyplot.ylabel('True Positive Rate')\n",
        "# show the legend\n",
        "pyplot.legend()\n",
        "# show the plot\n",
        "pyplot.show()"
      ],
      "metadata": {
        "colab": {
          "base_uri": "https://localhost:8080/",
          "height": 279
        },
        "id": "O2efNsqRMSem",
        "outputId": "8bd40dd8-6cb4-4b55-9c4b-ca3149802b19"
      },
      "execution_count": null,
      "outputs": [
        {
          "output_type": "display_data",
          "data": {
            "text/plain": [
              "<Figure size 432x288 with 1 Axes>"
            ],
            "image/png": "[encoded data removed]"
          },
          "metadata": {
            "needs_background": "light"
          }
        }
      ]
    },
    {
      "cell_type": "code",
      "source": [
        "from sklearn.metrics import roc_auc_score\n",
        "print(roc_auc_score(y_test, y_prediction_bool))"
      ],
      "metadata": {
        "colab": {
          "base_uri": "https://localhost:8080/"
        },
        "id": "IxmgFjT2Ynci",
        "outputId": "0731e243-4c10-4280-b0ce-9aa769e59cdf"
      },
      "execution_count": null,
      "outputs": [
        {
          "output_type": "stream",
          "name": "stdout",
          "text": [
            "0.7383771929824561\n"
          ]
        }
      ]
    },
    {
      "cell_type": "code",
      "source": [
        "len(X_test)"
      ],
      "metadata": {
        "id": "x1GGaaEqLdXI",
        "colab": {
          "base_uri": "https://localhost:8080/"
        },
        "outputId": "55ce0512-20a5-4f64-87e7-896193c6fa8c"
      },
      "execution_count": null,
      "outputs": [
        {
          "output_type": "execute_result",
          "data": {
            "text/plain": [
              "177"
            ]
          },
          "metadata": {},
          "execution_count": 80
        }
      ]
    },
    {
      "cell_type": "code",
      "source": [
        "len(X_train_final)"
      ],
      "metadata": {
        "colab": {
          "base_uri": "https://localhost:8080/"
        },
        "id": "ATDQIekOVXtY",
        "outputId": "5c7f17d7-5a65-4ca7-c9d6-72272841a2a1"
      },
      "execution_count": null,
      "outputs": [
        {
          "output_type": "execute_result",
          "data": {
            "text/plain": [
              "635"
            ]
          },
          "metadata": {},
          "execution_count": 81
        }
      ]
    },
    {
      "cell_type": "code",
      "source": [
        "len(X_validation_final)"
      ],
      "metadata": {
        "id": "pxaR7mEbVY6K",
        "colab": {
          "base_uri": "https://localhost:8080/"
        },
        "outputId": "a05b74ec-1109-485c-8909-37a6bbcf7d25"
      },
      "execution_count": null,
      "outputs": [
        {
          "output_type": "execute_result",
          "data": {
            "text/plain": [
              "71"
            ]
          },
          "metadata": {},
          "execution_count": 82
        }
      ]
    },
    {
      "cell_type": "code",
      "source": [
        "from sklearn import metrics\n",
        "confusion_matrix = metrics.confusion_matrix(y_prediction_bool, y_test)"
      ],
      "metadata": {
        "id": "euKmmcZykr3k"
      },
      "execution_count": null,
      "outputs": []
    },
    {
      "cell_type": "code",
      "source": [
        "confusion_matrix"
      ],
      "metadata": {
        "id": "T14yVs8Uuo9a",
        "colab": {
          "base_uri": "https://localhost:8080/"
        },
        "outputId": "6004681a-25b3-4636-c059-de858a1777f0"
      },
      "execution_count": null,
      "outputs": [
        {
          "output_type": "execute_result",
          "data": {
            "text/plain": [
              "array([[40, 27],\n",
              "       [17, 93]])"
            ]
          },
          "metadata": {},
          "execution_count": 84
        }
      ]
    },
    {
      "cell_type": "code",
      "source": [],
      "metadata": {
        "id": "2JpluzItgOij"
      },
      "execution_count": null,
      "outputs": []
    }
  ]
}
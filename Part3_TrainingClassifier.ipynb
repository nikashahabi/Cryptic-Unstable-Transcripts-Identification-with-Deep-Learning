{
  "nbformat": 4,
  "nbformat_minor": 0,
  "metadata": {
    "colab": {
      "provenance": [],
      "collapsed_sections": [],
      "include_colab_link": true
    },
    "kernelspec": {
      "name": "python3",
      "display_name": "Python 3"
    },
    "language_info": {
      "name": "python"
    },
    "accelerator": "GPU"
  },
  "cells": [
    {
      "cell_type": "markdown",
      "metadata": {
        "id": "view-in-github",
        "colab_type": "text"
      },
      "source": [
        "<a href=\"https://colab.research.google.com/github/nikashahabi/Cryptic-Unstable-Transcripts-Identification-with-Deep-Learning/blob/main/Part3_TrainingClassifier.ipynb\" target=\"_parent\"><img src=\"https://colab.research.google.com/assets/colab-badge.svg\" alt=\"Open In Colab\"/></a>"
      ]
    },
    {
      "cell_type": "code",
      "execution_count": null,
      "metadata": {
        "colab": {
          "base_uri": "https://localhost:8080/"
        },
        "id": "u3VZackbxQ2E",
        "outputId": "1e0f2614-e6f1-4b68-c939-8d829255779d"
      },
      "outputs": [
        {
          "output_type": "stream",
          "name": "stdout",
          "text": [
            "Mounted at /content/drive\n"
          ]
        }
      ],
      "source": [
        "from google.colab import drive\n",
        "drive.mount('/content/drive')"
      ]
    },
    {
      "cell_type": "code",
      "source": [
        "from sklearn.utils import resample\n",
        "import pandas as pd\n",
        "import numpy as np\n",
        "from sklearn.model_selection import train_test_split\n",
        "from sklearn.model_selection import KFold, StratifiedKFold\n",
        "from keras import backend as K\n",
        "from sklearn.utils import class_weight"
      ],
      "metadata": {
        "id": "vDD2d5sjdJz2"
      },
      "execution_count": null,
      "outputs": []
    },
    {
      "cell_type": "code",
      "source": [
        "\n",
        "noncoding_sq_df = pd.read_pickle(\"/content/drive/MyDrive/Bioinformatics/noncoding_sq_df.pkl\")\n",
        "cuts_sq_df = pd.read_pickle(\"/content/drive/MyDrive/Bioinformatics/cuts_sq_df.pkl\")\n",
        "all_sq_df = pd.concat([noncoding_sq_df, cuts_sq_df])\n",
        "shuffled_df = all_sq_df.sample(frac = 1)"
      ],
      "metadata": {
        "id": "aVrBNjKMxfWi"
      },
      "execution_count": null,
      "outputs": []
    },
    {
      "cell_type": "code",
      "source": [
        "shuffled_df.reset_index(drop=True,inplace=True)"
      ],
      "metadata": {
        "id": "uWKwov0PXxxk"
      },
      "execution_count": null,
      "outputs": []
    },
    {
      "cell_type": "code",
      "source": [
        "shuffled_df.info()"
      ],
      "metadata": {
        "colab": {
          "base_uri": "https://localhost:8080/"
        },
        "id": "4kbxaz-WVSgV",
        "outputId": "db3a7a0e-6cfe-44c5-fb68-6cec93aedcb9"
      },
      "execution_count": null,
      "outputs": [
        {
          "output_type": "stream",
          "name": "stdout",
          "text": [
            "<class 'pandas.core.frame.DataFrame'>\n",
            "RangeIndex: 1128 entries, 0 to 1127\n",
            "Data columns (total 5 columns):\n",
            " #   Column      Non-Null Count  Dtype  \n",
            "---  ------      --------------  -----  \n",
            " 0   Unnamed: 0  1128 non-null   int64  \n",
            " 1   sequence    1128 non-null   object \n",
            " 2   label       219 non-null    float64\n",
            " 3   vectors     776 non-null    object \n",
            " 4   labels      909 non-null    float64\n",
            "dtypes: float64(2), int64(1), object(2)\n",
            "memory usage: 44.2+ KB\n"
          ]
        }
      ]
    },
    {
      "cell_type": "code",
      "source": [
        "((shuffled_df['label'] == 0) | (shuffled_df['labels'] == 1)).all()"
      ],
      "metadata": {
        "colab": {
          "base_uri": "https://localhost:8080/"
        },
        "id": "WdguVLVNbRbo",
        "outputId": "9b8d6880-a705-4858-8d2f-0b000b6d534a"
      },
      "execution_count": null,
      "outputs": [
        {
          "output_type": "execute_result",
          "data": {
            "text/plain": [
              "True"
            ]
          },
          "metadata": {},
          "execution_count": 34
        }
      ]
    },
    {
      "cell_type": "markdown",
      "source": [
        "so in every row, either `label` is `0`, or `labels` is `1`."
      ],
      "metadata": {
        "id": "h5CjAiJlbqNE"
      }
    },
    {
      "cell_type": "markdown",
      "source": [
        "removing `labels` column"
      ],
      "metadata": {
        "id": "r2HCtzxNauNu"
      }
    },
    {
      "cell_type": "code",
      "source": [
        "shuffled_df.drop(columns=['labels'],inplace=True)"
      ],
      "metadata": {
        "id": "BTDu6tQBataz"
      },
      "execution_count": null,
      "outputs": []
    },
    {
      "cell_type": "markdown",
      "source": [
        "replacing `label` column `None`s with `1`"
      ],
      "metadata": {
        "id": "0GsMk3w4bIS4"
      }
    },
    {
      "cell_type": "code",
      "source": [
        "shuffled_df['label'] = shuffled_df['label'].fillna(1).astype(int)"
      ],
      "metadata": {
        "id": "RcfW_7PzbHVR"
      },
      "execution_count": null,
      "outputs": []
    },
    {
      "cell_type": "markdown",
      "source": [
        "removing rows with `None` value vector."
      ],
      "metadata": {
        "id": "VLKUVALOXMqa"
      }
    },
    {
      "cell_type": "code",
      "source": [
        "df = shuffled_df.drop(labels=shuffled_df[shuffled_df['vectors'].isna()].index)"
      ],
      "metadata": {
        "id": "JIS_K74QWoH3"
      },
      "execution_count": null,
      "outputs": []
    },
    {
      "cell_type": "code",
      "source": [
        "df.info()"
      ],
      "metadata": {
        "colab": {
          "base_uri": "https://localhost:8080/"
        },
        "id": "vxwCLdJfaM3k",
        "outputId": "ead779a0-87f4-4771-b699-f0e0403e04a9"
      },
      "execution_count": null,
      "outputs": [
        {
          "output_type": "stream",
          "name": "stdout",
          "text": [
            "<class 'pandas.core.frame.DataFrame'>\n",
            "Int64Index: 776 entries, 1 to 1125\n",
            "Data columns (total 4 columns):\n",
            " #   Column      Non-Null Count  Dtype \n",
            "---  ------      --------------  ----- \n",
            " 0   Unnamed: 0  776 non-null    int64 \n",
            " 1   sequence    776 non-null    object\n",
            " 2   label       776 non-null    int64 \n",
            " 3   vectors     776 non-null    object\n",
            "dtypes: int64(2), object(2)\n",
            "memory usage: 30.3+ KB\n"
          ]
        }
      ]
    },
    {
      "cell_type": "code",
      "source": [
        "# df['vectors'][0].shape"
      ],
      "metadata": {
        "colab": {
          "base_uri": "https://localhost:8080/",
          "height": 494
        },
        "id": "vwxwvGtlcRbJ",
        "outputId": "005f43e3-8bf3-4d10-9a9d-5c5bcc251f66"
      },
      "execution_count": null,
      "outputs": [
        {
          "output_type": "error",
          "ename": "KeyError",
          "evalue": "ignored",
          "traceback": [
            "\u001b[0;31m---------------------------------------------------------------------------\u001b[0m",
            "\u001b[0;31mKeyError\u001b[0m                                  Traceback (most recent call last)",
            "\u001b[0;32m/usr/local/lib/python3.7/dist-packages/pandas/core/indexes/base.py\u001b[0m in \u001b[0;36mget_loc\u001b[0;34m(self, key, method, tolerance)\u001b[0m\n\u001b[1;32m   3360\u001b[0m             \u001b[0;32mtry\u001b[0m\u001b[0;34m:\u001b[0m\u001b[0;34m\u001b[0m\u001b[0;34m\u001b[0m\u001b[0m\n\u001b[0;32m-> 3361\u001b[0;31m                 \u001b[0;32mreturn\u001b[0m \u001b[0mself\u001b[0m\u001b[0;34m.\u001b[0m\u001b[0m_engine\u001b[0m\u001b[0;34m.\u001b[0m\u001b[0mget_loc\u001b[0m\u001b[0;34m(\u001b[0m\u001b[0mcasted_key\u001b[0m\u001b[0;34m)\u001b[0m\u001b[0;34m\u001b[0m\u001b[0;34m\u001b[0m\u001b[0m\n\u001b[0m\u001b[1;32m   3362\u001b[0m             \u001b[0;32mexcept\u001b[0m \u001b[0mKeyError\u001b[0m \u001b[0;32mas\u001b[0m \u001b[0merr\u001b[0m\u001b[0;34m:\u001b[0m\u001b[0;34m\u001b[0m\u001b[0;34m\u001b[0m\u001b[0m\n",
            "\u001b[0;32m/usr/local/lib/python3.7/dist-packages/pandas/_libs/index.pyx\u001b[0m in \u001b[0;36mpandas._libs.index.IndexEngine.get_loc\u001b[0;34m()\u001b[0m\n",
            "\u001b[0;32m/usr/local/lib/python3.7/dist-packages/pandas/_libs/index.pyx\u001b[0m in \u001b[0;36mpandas._libs.index.IndexEngine.get_loc\u001b[0;34m()\u001b[0m\n",
            "\u001b[0;32mpandas/_libs/hashtable_class_helper.pxi\u001b[0m in \u001b[0;36mpandas._libs.hashtable.Int64HashTable.get_item\u001b[0;34m()\u001b[0m\n",
            "\u001b[0;32mpandas/_libs/hashtable_class_helper.pxi\u001b[0m in \u001b[0;36mpandas._libs.hashtable.Int64HashTable.get_item\u001b[0;34m()\u001b[0m\n",
            "\u001b[0;31mKeyError\u001b[0m: 0",
            "\nThe above exception was the direct cause of the following exception:\n",
            "\u001b[0;31mKeyError\u001b[0m                                  Traceback (most recent call last)",
            "\u001b[0;32m<ipython-input-39-553d9c5bcaed>\u001b[0m in \u001b[0;36m<module>\u001b[0;34m()\u001b[0m\n\u001b[0;32m----> 1\u001b[0;31m \u001b[0mdf\u001b[0m\u001b[0;34m[\u001b[0m\u001b[0;34m'vectors'\u001b[0m\u001b[0;34m]\u001b[0m\u001b[0;34m[\u001b[0m\u001b[0;36m0\u001b[0m\u001b[0;34m]\u001b[0m\u001b[0;34m.\u001b[0m\u001b[0mshape\u001b[0m\u001b[0;34m\u001b[0m\u001b[0;34m\u001b[0m\u001b[0m\n\u001b[0m",
            "\u001b[0;32m/usr/local/lib/python3.7/dist-packages/pandas/core/series.py\u001b[0m in \u001b[0;36m__getitem__\u001b[0;34m(self, key)\u001b[0m\n\u001b[1;32m    940\u001b[0m \u001b[0;34m\u001b[0m\u001b[0m\n\u001b[1;32m    941\u001b[0m         \u001b[0;32melif\u001b[0m \u001b[0mkey_is_scalar\u001b[0m\u001b[0;34m:\u001b[0m\u001b[0;34m\u001b[0m\u001b[0;34m\u001b[0m\u001b[0m\n\u001b[0;32m--> 942\u001b[0;31m             \u001b[0;32mreturn\u001b[0m \u001b[0mself\u001b[0m\u001b[0;34m.\u001b[0m\u001b[0m_get_value\u001b[0m\u001b[0;34m(\u001b[0m\u001b[0mkey\u001b[0m\u001b[0;34m)\u001b[0m\u001b[0;34m\u001b[0m\u001b[0;34m\u001b[0m\u001b[0m\n\u001b[0m\u001b[1;32m    943\u001b[0m \u001b[0;34m\u001b[0m\u001b[0m\n\u001b[1;32m    944\u001b[0m         \u001b[0;32mif\u001b[0m \u001b[0mis_hashable\u001b[0m\u001b[0;34m(\u001b[0m\u001b[0mkey\u001b[0m\u001b[0;34m)\u001b[0m\u001b[0;34m:\u001b[0m\u001b[0;34m\u001b[0m\u001b[0;34m\u001b[0m\u001b[0m\n",
            "\u001b[0;32m/usr/local/lib/python3.7/dist-packages/pandas/core/series.py\u001b[0m in \u001b[0;36m_get_value\u001b[0;34m(self, label, takeable)\u001b[0m\n\u001b[1;32m   1049\u001b[0m \u001b[0;34m\u001b[0m\u001b[0m\n\u001b[1;32m   1050\u001b[0m         \u001b[0;31m# Similar to Index.get_value, but we do not fall back to positional\u001b[0m\u001b[0;34m\u001b[0m\u001b[0;34m\u001b[0m\u001b[0;34m\u001b[0m\u001b[0m\n\u001b[0;32m-> 1051\u001b[0;31m         \u001b[0mloc\u001b[0m \u001b[0;34m=\u001b[0m \u001b[0mself\u001b[0m\u001b[0;34m.\u001b[0m\u001b[0mindex\u001b[0m\u001b[0;34m.\u001b[0m\u001b[0mget_loc\u001b[0m\u001b[0;34m(\u001b[0m\u001b[0mlabel\u001b[0m\u001b[0;34m)\u001b[0m\u001b[0;34m\u001b[0m\u001b[0;34m\u001b[0m\u001b[0m\n\u001b[0m\u001b[1;32m   1052\u001b[0m         \u001b[0;32mreturn\u001b[0m \u001b[0mself\u001b[0m\u001b[0;34m.\u001b[0m\u001b[0mindex\u001b[0m\u001b[0;34m.\u001b[0m\u001b[0m_get_values_for_loc\u001b[0m\u001b[0;34m(\u001b[0m\u001b[0mself\u001b[0m\u001b[0;34m,\u001b[0m \u001b[0mloc\u001b[0m\u001b[0;34m,\u001b[0m \u001b[0mlabel\u001b[0m\u001b[0;34m)\u001b[0m\u001b[0;34m\u001b[0m\u001b[0;34m\u001b[0m\u001b[0m\n\u001b[1;32m   1053\u001b[0m \u001b[0;34m\u001b[0m\u001b[0m\n",
            "\u001b[0;32m/usr/local/lib/python3.7/dist-packages/pandas/core/indexes/base.py\u001b[0m in \u001b[0;36mget_loc\u001b[0;34m(self, key, method, tolerance)\u001b[0m\n\u001b[1;32m   3361\u001b[0m                 \u001b[0;32mreturn\u001b[0m \u001b[0mself\u001b[0m\u001b[0;34m.\u001b[0m\u001b[0m_engine\u001b[0m\u001b[0;34m.\u001b[0m\u001b[0mget_loc\u001b[0m\u001b[0;34m(\u001b[0m\u001b[0mcasted_key\u001b[0m\u001b[0;34m)\u001b[0m\u001b[0;34m\u001b[0m\u001b[0;34m\u001b[0m\u001b[0m\n\u001b[1;32m   3362\u001b[0m             \u001b[0;32mexcept\u001b[0m \u001b[0mKeyError\u001b[0m \u001b[0;32mas\u001b[0m \u001b[0merr\u001b[0m\u001b[0;34m:\u001b[0m\u001b[0;34m\u001b[0m\u001b[0;34m\u001b[0m\u001b[0m\n\u001b[0;32m-> 3363\u001b[0;31m                 \u001b[0;32mraise\u001b[0m \u001b[0mKeyError\u001b[0m\u001b[0;34m(\u001b[0m\u001b[0mkey\u001b[0m\u001b[0;34m)\u001b[0m \u001b[0;32mfrom\u001b[0m \u001b[0merr\u001b[0m\u001b[0;34m\u001b[0m\u001b[0;34m\u001b[0m\u001b[0m\n\u001b[0m\u001b[1;32m   3364\u001b[0m \u001b[0;34m\u001b[0m\u001b[0m\n\u001b[1;32m   3365\u001b[0m         \u001b[0;32mif\u001b[0m \u001b[0mis_scalar\u001b[0m\u001b[0;34m(\u001b[0m\u001b[0mkey\u001b[0m\u001b[0;34m)\u001b[0m \u001b[0;32mand\u001b[0m \u001b[0misna\u001b[0m\u001b[0;34m(\u001b[0m\u001b[0mkey\u001b[0m\u001b[0;34m)\u001b[0m \u001b[0;32mand\u001b[0m \u001b[0;32mnot\u001b[0m \u001b[0mself\u001b[0m\u001b[0;34m.\u001b[0m\u001b[0mhasnans\u001b[0m\u001b[0;34m:\u001b[0m\u001b[0;34m\u001b[0m\u001b[0;34m\u001b[0m\u001b[0m\n",
            "\u001b[0;31mKeyError\u001b[0m: 0"
          ]
        }
      ]
    },
    {
      "cell_type": "code",
      "source": [
        "df['vectors'].apply(lambda x:x.shape == (768,1)).all()"
      ],
      "metadata": {
        "colab": {
          "base_uri": "https://localhost:8080/"
        },
        "id": "zE-sVBUDXRwV",
        "outputId": "59974237-df77-4417-c2fe-d0c1df25853a"
      },
      "execution_count": null,
      "outputs": [
        {
          "output_type": "execute_result",
          "data": {
            "text/plain": [
              "False"
            ]
          },
          "metadata": {},
          "execution_count": 40
        }
      ]
    },
    {
      "cell_type": "markdown",
      "source": [
        "so every vector in `vectors` column has $(768,1)$ shape,\n",
        "converting to $(768,)$ shape."
      ],
      "metadata": {
        "id": "wm5vLccPY_Eo"
      }
    },
    {
      "cell_type": "code",
      "source": [
        "df['vectors'] = df['vectors'].apply(np.squeeze)"
      ],
      "metadata": {
        "id": "FdQZq9w9XK_o"
      },
      "execution_count": null,
      "outputs": []
    },
    {
      "cell_type": "markdown",
      "source": [
        "now every vector has $(768,)$ shape"
      ],
      "metadata": {
        "id": "nP5q7m6-Zenq"
      }
    },
    {
      "cell_type": "code",
      "source": [
        "df['vectors'].apply(lambda x:x.shape == (768,)).all()"
      ],
      "metadata": {
        "colab": {
          "base_uri": "https://localhost:8080/"
        },
        "id": "hyUXkkWAZa8m",
        "outputId": "8bb23d65-d72d-4286-fd87-e5b68b3c2279"
      },
      "execution_count": null,
      "outputs": [
        {
          "output_type": "execute_result",
          "data": {
            "text/plain": [
              "True"
            ]
          },
          "metadata": {},
          "execution_count": 42
        }
      ]
    },
    {
      "cell_type": "code",
      "source": [],
      "metadata": {
        "colab": {
          "base_uri": "https://localhost:8080/",
          "height": 638
        },
        "id": "tgeG_nPfIrMK",
        "outputId": "af5be5d4-560b-45f8-828a-e2f810401d83"
      },
      "execution_count": null,
      "outputs": [
        {
          "output_type": "execute_result",
          "data": {
            "text/plain": [
              "      Unnamed: 0                                           sequence  label  \\\n",
              "1              2  GGTTGTTTGGCCGAGCGGTCTAAGGCGCCTGATTCAAGAAATATCT...      0   \n",
              "2            700  GTCATAGCATGCTGTGTTGTAAATGTGATCTGTCTGAGACGTGTCA...      1   \n",
              "5            272  CATCCTACGTAAAACCCGAATAGGTTATCTCTTAAACCTTGTTTTC...      1   \n",
              "7              3  GGGCGTGTGGTCTAGTGGTATGATTCTCGCTTTGGGCGACTTCCTG...      0   \n",
              "8            131  TTCCTCGTGGCCCAATGGTCACGGCGTCTGGCTACGAACCAGGAGA...      0   \n",
              "...          ...                                                ...    ...   \n",
              "1120         111  TCATAATGATGATTTCACTTATACCTATATGTTTTTTCTGGCATCT...      0   \n",
              "1122         418  GTGAAACTGTACAAGGTGCCTAAACAGAGATACGAACGCATACGCT...      1   \n",
              "1123         662  AATAATTGAGTATATGTTCGTATAGCATGGCGTGTCTTATTGGTAG...      1   \n",
              "1124         426  TTTTTTGACTTAAGGCATTAAGAGGAGATAAGGCTCCTAATGTCAC...      1   \n",
              "1125          22  GGTCCAATGGTCCAGTGGTTCAAGACGTCGCCTTTACACGGCGAAG...      0   \n",
              "\n",
              "                                                vectors  \n",
              "1     [0.33361390233039856, -0.23799723386764526, 1....  \n",
              "2     [0.0014860546216368675, 0.1138811931014061, 0....  \n",
              "5     [0.1040114015340805, -0.2792070508003235, 0.89...  \n",
              "7     [0.0976698249578476, -0.07576256990432739, 1.2...  \n",
              "8     [0.18842077255249023, 0.11721798032522202, 1.1...  \n",
              "...                                                 ...  \n",
              "1120  [-0.27484214305877686, 0.232264906167984, -0.2...  \n",
              "1122  [0.07412852346897125, -0.08573958277702332, 0....  \n",
              "1123  [-0.3331521451473236, 0.09635738283395767, 0.2...  \n",
              "1124  [0.05117061734199524, -0.36521729826927185, 0....  \n",
              "1125  [0.3162555396556854, 0.008370527066290379, 1.0...  \n",
              "\n",
              "[776 rows x 4 columns]"
            ],
            "text/html": [
              "\n",
              "  <div id=\"df-6a537110-3b79-43f2-988f-52063b813705\">\n",
              "    <div class=\"colab-df-container\">\n",
              "      <div>\n",
              "<style scoped>\n",
              "    .dataframe tbody tr th:only-of-type {\n",
              "        vertical-align: middle;\n",
              "    }\n",
              "\n",
              "    .dataframe tbody tr th {\n",
              "        vertical-align: top;\n",
              "    }\n",
              "\n",
              "    .dataframe thead th {\n",
              "        text-align: right;\n",
              "    }\n",
              "</style>\n",
              "<table border=\"1\" class=\"dataframe\">\n",
              "  <thead>\n",
              "    <tr style=\"text-align: right;\">\n",
              "      <th></th>\n",
              "      <th>Unnamed: 0</th>\n",
              "      <th>sequence</th>\n",
              "      <th>label</th>\n",
              "      <th>vectors</th>\n",
              "    </tr>\n",
              "  </thead>\n",
              "  <tbody>\n",
              "    <tr>\n",
              "      <th>1</th>\n",
              "      <td>2</td>\n",
              "      <td>GGTTGTTTGGCCGAGCGGTCTAAGGCGCCTGATTCAAGAAATATCT...</td>\n",
              "      <td>0</td>\n",
              "      <td>[0.33361390233039856, -0.23799723386764526, 1....</td>\n",
              "    </tr>\n",
              "    <tr>\n",
              "      <th>2</th>\n",
              "      <td>700</td>\n",
              "      <td>GTCATAGCATGCTGTGTTGTAAATGTGATCTGTCTGAGACGTGTCA...</td>\n",
              "      <td>1</td>\n",
              "      <td>[0.0014860546216368675, 0.1138811931014061, 0....</td>\n",
              "    </tr>\n",
              "    <tr>\n",
              "      <th>5</th>\n",
              "      <td>272</td>\n",
              "      <td>CATCCTACGTAAAACCCGAATAGGTTATCTCTTAAACCTTGTTTTC...</td>\n",
              "      <td>1</td>\n",
              "      <td>[0.1040114015340805, -0.2792070508003235, 0.89...</td>\n",
              "    </tr>\n",
              "    <tr>\n",
              "      <th>7</th>\n",
              "      <td>3</td>\n",
              "      <td>GGGCGTGTGGTCTAGTGGTATGATTCTCGCTTTGGGCGACTTCCTG...</td>\n",
              "      <td>0</td>\n",
              "      <td>[0.0976698249578476, -0.07576256990432739, 1.2...</td>\n",
              "    </tr>\n",
              "    <tr>\n",
              "      <th>8</th>\n",
              "      <td>131</td>\n",
              "      <td>TTCCTCGTGGCCCAATGGTCACGGCGTCTGGCTACGAACCAGGAGA...</td>\n",
              "      <td>0</td>\n",
              "      <td>[0.18842077255249023, 0.11721798032522202, 1.1...</td>\n",
              "    </tr>\n",
              "    <tr>\n",
              "      <th>...</th>\n",
              "      <td>...</td>\n",
              "      <td>...</td>\n",
              "      <td>...</td>\n",
              "      <td>...</td>\n",
              "    </tr>\n",
              "    <tr>\n",
              "      <th>1120</th>\n",
              "      <td>111</td>\n",
              "      <td>TCATAATGATGATTTCACTTATACCTATATGTTTTTTCTGGCATCT...</td>\n",
              "      <td>0</td>\n",
              "      <td>[-0.27484214305877686, 0.232264906167984, -0.2...</td>\n",
              "    </tr>\n",
              "    <tr>\n",
              "      <th>1122</th>\n",
              "      <td>418</td>\n",
              "      <td>GTGAAACTGTACAAGGTGCCTAAACAGAGATACGAACGCATACGCT...</td>\n",
              "      <td>1</td>\n",
              "      <td>[0.07412852346897125, -0.08573958277702332, 0....</td>\n",
              "    </tr>\n",
              "    <tr>\n",
              "      <th>1123</th>\n",
              "      <td>662</td>\n",
              "      <td>AATAATTGAGTATATGTTCGTATAGCATGGCGTGTCTTATTGGTAG...</td>\n",
              "      <td>1</td>\n",
              "      <td>[-0.3331521451473236, 0.09635738283395767, 0.2...</td>\n",
              "    </tr>\n",
              "    <tr>\n",
              "      <th>1124</th>\n",
              "      <td>426</td>\n",
              "      <td>TTTTTTGACTTAAGGCATTAAGAGGAGATAAGGCTCCTAATGTCAC...</td>\n",
              "      <td>1</td>\n",
              "      <td>[0.05117061734199524, -0.36521729826927185, 0....</td>\n",
              "    </tr>\n",
              "    <tr>\n",
              "      <th>1125</th>\n",
              "      <td>22</td>\n",
              "      <td>GGTCCAATGGTCCAGTGGTTCAAGACGTCGCCTTTACACGGCGAAG...</td>\n",
              "      <td>0</td>\n",
              "      <td>[0.3162555396556854, 0.008370527066290379, 1.0...</td>\n",
              "    </tr>\n",
              "  </tbody>\n",
              "</table>\n",
              "<p>776 rows × 4 columns</p>\n",
              "</div>\n",
              "      <button class=\"colab-df-convert\" onclick=\"convertToInteractive('df-6a537110-3b79-43f2-988f-52063b813705')\"\n",
              "              title=\"Convert this dataframe to an interactive table.\"\n",
              "              style=\"display:none;\">\n",
              "        \n",
              "  <svg xmlns=\"http://www.w3.org/2000/svg\" height=\"24px\"viewBox=\"0 0 24 24\"\n",
              "       width=\"24px\">\n",
              "    <path d=\"M0 0h24v24H0V0z\" fill=\"none\"/>\n",
              "    <path d=\"M18.56 5.44l.94 2.06.94-2.06 2.06-.94-2.06-.94-.94-2.06-.94 2.06-2.06.94zm-11 1L8.5 8.5l.94-2.06 2.06-.94-2.06-.94L8.5 2.5l-.94 2.06-2.06.94zm10 10l.94 2.06.94-2.06 2.06-.94-2.06-.94-.94-2.06-.94 2.06-2.06.94z\"/><path d=\"M17.41 7.96l-1.37-1.37c-.4-.4-.92-.59-1.43-.59-.52 0-1.04.2-1.43.59L10.3 9.45l-7.72 7.72c-.78.78-.78 2.05 0 2.83L4 21.41c.39.39.9.59 1.41.59.51 0 1.02-.2 1.41-.59l7.78-7.78 2.81-2.81c.8-.78.8-2.07 0-2.86zM5.41 20L4 18.59l7.72-7.72 1.47 1.35L5.41 20z\"/>\n",
              "  </svg>\n",
              "      </button>\n",
              "      \n",
              "  <style>\n",
              "    .colab-df-container {\n",
              "      display:flex;\n",
              "      flex-wrap:wrap;\n",
              "      gap: 12px;\n",
              "    }\n",
              "\n",
              "    .colab-df-convert {\n",
              "      background-color: #E8F0FE;\n",
              "      border: none;\n",
              "      border-radius: 50%;\n",
              "      cursor: pointer;\n",
              "      display: none;\n",
              "      fill: #1967D2;\n",
              "      height: 32px;\n",
              "      padding: 0 0 0 0;\n",
              "      width: 32px;\n",
              "    }\n",
              "\n",
              "    .colab-df-convert:hover {\n",
              "      background-color: #E2EBFA;\n",
              "      box-shadow: 0px 1px 2px rgba(60, 64, 67, 0.3), 0px 1px 3px 1px rgba(60, 64, 67, 0.15);\n",
              "      fill: #174EA6;\n",
              "    }\n",
              "\n",
              "    [theme=dark] .colab-df-convert {\n",
              "      background-color: #3B4455;\n",
              "      fill: #D2E3FC;\n",
              "    }\n",
              "\n",
              "    [theme=dark] .colab-df-convert:hover {\n",
              "      background-color: #434B5C;\n",
              "      box-shadow: 0px 1px 3px 1px rgba(0, 0, 0, 0.15);\n",
              "      filter: drop-shadow(0px 1px 2px rgba(0, 0, 0, 0.3));\n",
              "      fill: #FFFFFF;\n",
              "    }\n",
              "  </style>\n",
              "\n",
              "      <script>\n",
              "        const buttonEl =\n",
              "          document.querySelector('#df-6a537110-3b79-43f2-988f-52063b813705 button.colab-df-convert');\n",
              "        buttonEl.style.display =\n",
              "          google.colab.kernel.accessAllowed ? 'block' : 'none';\n",
              "\n",
              "        async function convertToInteractive(key) {\n",
              "          const element = document.querySelector('#df-6a537110-3b79-43f2-988f-52063b813705');\n",
              "          const dataTable =\n",
              "            await google.colab.kernel.invokeFunction('convertToInteractive',\n",
              "                                                     [key], {});\n",
              "          if (!dataTable) return;\n",
              "\n",
              "          const docLinkHtml = 'Like what you see? Visit the ' +\n",
              "            '<a target=\"_blank\" href=https://colab.research.google.com/notebooks/data_table.ipynb>data table notebook</a>'\n",
              "            + ' to learn more about interactive tables.';\n",
              "          element.innerHTML = '';\n",
              "          dataTable['output_type'] = 'display_data';\n",
              "          await google.colab.output.renderOutput(dataTable, element);\n",
              "          const docLink = document.createElement('div');\n",
              "          docLink.innerHTML = docLinkHtml;\n",
              "          element.appendChild(docLink);\n",
              "        }\n",
              "      </script>\n",
              "    </div>\n",
              "  </div>\n",
              "  "
            ]
          },
          "metadata": {},
          "execution_count": 47
        }
      ]
    },
    {
      "cell_type": "code",
      "source": [
        "df.drop([\"Unnamed: 0\"], axis=1)"
      ],
      "metadata": {
        "colab": {
          "base_uri": "https://localhost:8080/",
          "height": 451
        },
        "id": "dtsGK4q4K-K9",
        "outputId": "e36a2b1e-d325-4b25-c858-5d17e120e30f"
      },
      "execution_count": null,
      "outputs": [
        {
          "output_type": "execute_result",
          "data": {
            "text/plain": [
              "                                               sequence  label  \\\n",
              "1     GGTTGTTTGGCCGAGCGGTCTAAGGCGCCTGATTCAAGAAATATCT...      0   \n",
              "2     GTCATAGCATGCTGTGTTGTAAATGTGATCTGTCTGAGACGTGTCA...      1   \n",
              "5     CATCCTACGTAAAACCCGAATAGGTTATCTCTTAAACCTTGTTTTC...      1   \n",
              "7     GGGCGTGTGGTCTAGTGGTATGATTCTCGCTTTGGGCGACTTCCTG...      0   \n",
              "8     TTCCTCGTGGCCCAATGGTCACGGCGTCTGGCTACGAACCAGGAGA...      0   \n",
              "...                                                 ...    ...   \n",
              "1120  TCATAATGATGATTTCACTTATACCTATATGTTTTTTCTGGCATCT...      0   \n",
              "1122  GTGAAACTGTACAAGGTGCCTAAACAGAGATACGAACGCATACGCT...      1   \n",
              "1123  AATAATTGAGTATATGTTCGTATAGCATGGCGTGTCTTATTGGTAG...      1   \n",
              "1124  TTTTTTGACTTAAGGCATTAAGAGGAGATAAGGCTCCTAATGTCAC...      1   \n",
              "1125  GGTCCAATGGTCCAGTGGTTCAAGACGTCGCCTTTACACGGCGAAG...      0   \n",
              "\n",
              "                                                vectors  \n",
              "1     [0.33361390233039856, -0.23799723386764526, 1....  \n",
              "2     [0.0014860546216368675, 0.1138811931014061, 0....  \n",
              "5     [0.1040114015340805, -0.2792070508003235, 0.89...  \n",
              "7     [0.0976698249578476, -0.07576256990432739, 1.2...  \n",
              "8     [0.18842077255249023, 0.11721798032522202, 1.1...  \n",
              "...                                                 ...  \n",
              "1120  [-0.27484214305877686, 0.232264906167984, -0.2...  \n",
              "1122  [0.07412852346897125, -0.08573958277702332, 0....  \n",
              "1123  [-0.3331521451473236, 0.09635738283395767, 0.2...  \n",
              "1124  [0.05117061734199524, -0.36521729826927185, 0....  \n",
              "1125  [0.3162555396556854, 0.008370527066290379, 1.0...  \n",
              "\n",
              "[776 rows x 3 columns]"
            ],
            "text/html": [
              "\n",
              "  <div id=\"df-33c5e248-6234-4fde-9ccb-648af251af6f\">\n",
              "    <div class=\"colab-df-container\">\n",
              "      <div>\n",
              "<style scoped>\n",
              "    .dataframe tbody tr th:only-of-type {\n",
              "        vertical-align: middle;\n",
              "    }\n",
              "\n",
              "    .dataframe tbody tr th {\n",
              "        vertical-align: top;\n",
              "    }\n",
              "\n",
              "    .dataframe thead th {\n",
              "        text-align: right;\n",
              "    }\n",
              "</style>\n",
              "<table border=\"1\" class=\"dataframe\">\n",
              "  <thead>\n",
              "    <tr style=\"text-align: right;\">\n",
              "      <th></th>\n",
              "      <th>sequence</th>\n",
              "      <th>label</th>\n",
              "      <th>vectors</th>\n",
              "    </tr>\n",
              "  </thead>\n",
              "  <tbody>\n",
              "    <tr>\n",
              "      <th>1</th>\n",
              "      <td>GGTTGTTTGGCCGAGCGGTCTAAGGCGCCTGATTCAAGAAATATCT...</td>\n",
              "      <td>0</td>\n",
              "      <td>[0.33361390233039856, -0.23799723386764526, 1....</td>\n",
              "    </tr>\n",
              "    <tr>\n",
              "      <th>2</th>\n",
              "      <td>GTCATAGCATGCTGTGTTGTAAATGTGATCTGTCTGAGACGTGTCA...</td>\n",
              "      <td>1</td>\n",
              "      <td>[0.0014860546216368675, 0.1138811931014061, 0....</td>\n",
              "    </tr>\n",
              "    <tr>\n",
              "      <th>5</th>\n",
              "      <td>CATCCTACGTAAAACCCGAATAGGTTATCTCTTAAACCTTGTTTTC...</td>\n",
              "      <td>1</td>\n",
              "      <td>[0.1040114015340805, -0.2792070508003235, 0.89...</td>\n",
              "    </tr>\n",
              "    <tr>\n",
              "      <th>7</th>\n",
              "      <td>GGGCGTGTGGTCTAGTGGTATGATTCTCGCTTTGGGCGACTTCCTG...</td>\n",
              "      <td>0</td>\n",
              "      <td>[0.0976698249578476, -0.07576256990432739, 1.2...</td>\n",
              "    </tr>\n",
              "    <tr>\n",
              "      <th>8</th>\n",
              "      <td>TTCCTCGTGGCCCAATGGTCACGGCGTCTGGCTACGAACCAGGAGA...</td>\n",
              "      <td>0</td>\n",
              "      <td>[0.18842077255249023, 0.11721798032522202, 1.1...</td>\n",
              "    </tr>\n",
              "    <tr>\n",
              "      <th>...</th>\n",
              "      <td>...</td>\n",
              "      <td>...</td>\n",
              "      <td>...</td>\n",
              "    </tr>\n",
              "    <tr>\n",
              "      <th>1120</th>\n",
              "      <td>TCATAATGATGATTTCACTTATACCTATATGTTTTTTCTGGCATCT...</td>\n",
              "      <td>0</td>\n",
              "      <td>[-0.27484214305877686, 0.232264906167984, -0.2...</td>\n",
              "    </tr>\n",
              "    <tr>\n",
              "      <th>1122</th>\n",
              "      <td>GTGAAACTGTACAAGGTGCCTAAACAGAGATACGAACGCATACGCT...</td>\n",
              "      <td>1</td>\n",
              "      <td>[0.07412852346897125, -0.08573958277702332, 0....</td>\n",
              "    </tr>\n",
              "    <tr>\n",
              "      <th>1123</th>\n",
              "      <td>AATAATTGAGTATATGTTCGTATAGCATGGCGTGTCTTATTGGTAG...</td>\n",
              "      <td>1</td>\n",
              "      <td>[-0.3331521451473236, 0.09635738283395767, 0.2...</td>\n",
              "    </tr>\n",
              "    <tr>\n",
              "      <th>1124</th>\n",
              "      <td>TTTTTTGACTTAAGGCATTAAGAGGAGATAAGGCTCCTAATGTCAC...</td>\n",
              "      <td>1</td>\n",
              "      <td>[0.05117061734199524, -0.36521729826927185, 0....</td>\n",
              "    </tr>\n",
              "    <tr>\n",
              "      <th>1125</th>\n",
              "      <td>GGTCCAATGGTCCAGTGGTTCAAGACGTCGCCTTTACACGGCGAAG...</td>\n",
              "      <td>0</td>\n",
              "      <td>[0.3162555396556854, 0.008370527066290379, 1.0...</td>\n",
              "    </tr>\n",
              "  </tbody>\n",
              "</table>\n",
              "<p>776 rows × 3 columns</p>\n",
              "</div>\n",
              "      <button class=\"colab-df-convert\" onclick=\"convertToInteractive('df-33c5e248-6234-4fde-9ccb-648af251af6f')\"\n",
              "              title=\"Convert this dataframe to an interactive table.\"\n",
              "              style=\"display:none;\">\n",
              "        \n",
              "  <svg xmlns=\"http://www.w3.org/2000/svg\" height=\"24px\"viewBox=\"0 0 24 24\"\n",
              "       width=\"24px\">\n",
              "    <path d=\"M0 0h24v24H0V0z\" fill=\"none\"/>\n",
              "    <path d=\"M18.56 5.44l.94 2.06.94-2.06 2.06-.94-2.06-.94-.94-2.06-.94 2.06-2.06.94zm-11 1L8.5 8.5l.94-2.06 2.06-.94-2.06-.94L8.5 2.5l-.94 2.06-2.06.94zm10 10l.94 2.06.94-2.06 2.06-.94-2.06-.94-.94-2.06-.94 2.06-2.06.94z\"/><path d=\"M17.41 7.96l-1.37-1.37c-.4-.4-.92-.59-1.43-.59-.52 0-1.04.2-1.43.59L10.3 9.45l-7.72 7.72c-.78.78-.78 2.05 0 2.83L4 21.41c.39.39.9.59 1.41.59.51 0 1.02-.2 1.41-.59l7.78-7.78 2.81-2.81c.8-.78.8-2.07 0-2.86zM5.41 20L4 18.59l7.72-7.72 1.47 1.35L5.41 20z\"/>\n",
              "  </svg>\n",
              "      </button>\n",
              "      \n",
              "  <style>\n",
              "    .colab-df-container {\n",
              "      display:flex;\n",
              "      flex-wrap:wrap;\n",
              "      gap: 12px;\n",
              "    }\n",
              "\n",
              "    .colab-df-convert {\n",
              "      background-color: #E8F0FE;\n",
              "      border: none;\n",
              "      border-radius: 50%;\n",
              "      cursor: pointer;\n",
              "      display: none;\n",
              "      fill: #1967D2;\n",
              "      height: 32px;\n",
              "      padding: 0 0 0 0;\n",
              "      width: 32px;\n",
              "    }\n",
              "\n",
              "    .colab-df-convert:hover {\n",
              "      background-color: #E2EBFA;\n",
              "      box-shadow: 0px 1px 2px rgba(60, 64, 67, 0.3), 0px 1px 3px 1px rgba(60, 64, 67, 0.15);\n",
              "      fill: #174EA6;\n",
              "    }\n",
              "\n",
              "    [theme=dark] .colab-df-convert {\n",
              "      background-color: #3B4455;\n",
              "      fill: #D2E3FC;\n",
              "    }\n",
              "\n",
              "    [theme=dark] .colab-df-convert:hover {\n",
              "      background-color: #434B5C;\n",
              "      box-shadow: 0px 1px 3px 1px rgba(0, 0, 0, 0.15);\n",
              "      filter: drop-shadow(0px 1px 2px rgba(0, 0, 0, 0.3));\n",
              "      fill: #FFFFFF;\n",
              "    }\n",
              "  </style>\n",
              "\n",
              "      <script>\n",
              "        const buttonEl =\n",
              "          document.querySelector('#df-33c5e248-6234-4fde-9ccb-648af251af6f button.colab-df-convert');\n",
              "        buttonEl.style.display =\n",
              "          google.colab.kernel.accessAllowed ? 'block' : 'none';\n",
              "\n",
              "        async function convertToInteractive(key) {\n",
              "          const element = document.querySelector('#df-33c5e248-6234-4fde-9ccb-648af251af6f');\n",
              "          const dataTable =\n",
              "            await google.colab.kernel.invokeFunction('convertToInteractive',\n",
              "                                                     [key], {});\n",
              "          if (!dataTable) return;\n",
              "\n",
              "          const docLinkHtml = 'Like what you see? Visit the ' +\n",
              "            '<a target=\"_blank\" href=https://colab.research.google.com/notebooks/data_table.ipynb>data table notebook</a>'\n",
              "            + ' to learn more about interactive tables.';\n",
              "          element.innerHTML = '';\n",
              "          dataTable['output_type'] = 'display_data';\n",
              "          await google.colab.output.renderOutput(dataTable, element);\n",
              "          const docLink = document.createElement('div');\n",
              "          docLink.innerHTML = docLinkHtml;\n",
              "          element.appendChild(docLink);\n",
              "        }\n",
              "      </script>\n",
              "    </div>\n",
              "  </div>\n",
              "  "
            ]
          },
          "metadata": {},
          "execution_count": 48
        }
      ]
    },
    {
      "cell_type": "markdown",
      "source": [
        "counting `0` and `1` classes"
      ],
      "metadata": {
        "id": "5mWWzjuvckex"
      }
    },
    {
      "cell_type": "code",
      "source": [
        "df.to_pickle('/content/drive/MyDrive/Bioinformatics/shuffled_sq_with_labels_and_encodings.pkl')"
      ],
      "metadata": {
        "id": "O-ns_GVmIwIF"
      },
      "execution_count": null,
      "outputs": []
    },
    {
      "cell_type": "code",
      "source": [
        "df['label'].value_counts()"
      ],
      "metadata": {
        "colab": {
          "base_uri": "https://localhost:8080/"
        },
        "id": "QbPQF8jOcj-o",
        "outputId": "e44fd55d-fa3e-4273-ea07-c8e3f7346811"
      },
      "execution_count": null,
      "outputs": [
        {
          "output_type": "execute_result",
          "data": {
            "text/plain": [
              "1    589\n",
              "0    187\n",
              "Name: label, dtype: int64"
            ]
          },
          "metadata": {},
          "execution_count": 50
        }
      ]
    },
    {
      "cell_type": "code",
      "source": [],
      "metadata": {
        "id": "DwI_HeLyZe6V"
      },
      "execution_count": null,
      "outputs": []
    },
    {
      "cell_type": "markdown",
      "source": [
        "### Run from here if it is not your first time here"
      ],
      "metadata": {
        "id": "Y0fKfrg7ZfPX"
      }
    },
    {
      "cell_type": "code",
      "source": [
        "df = pd.read_pickle(\"/content/drive/MyDrive/Bioinformatics/shuffled_sq_with_labels_and_encodings.pkl\")"
      ],
      "metadata": {
        "id": "xZPlwlRXZTJv"
      },
      "execution_count": null,
      "outputs": []
    },
    {
      "cell_type": "markdown",
      "source": [
        "so data is highly unbalanced."
      ],
      "metadata": {
        "id": "gv5PBpFXcpFU"
      }
    },
    {
      "cell_type": "markdown",
      "source": [
        "## Oversampling"
      ],
      "metadata": {
        "id": "umuzVTOVdVyG"
      }
    },
    {
      "cell_type": "code",
      "source": [
        "# in ghesmat daashtam talash mikardam ke dasti upsample konam. comment kardam va az loss e amade estefade kardam"
      ],
      "metadata": {
        "id": "YlEBriJTLueb"
      },
      "execution_count": null,
      "outputs": []
    },
    {
      "cell_type": "code",
      "source": [
        "# df_majority = df[df.label==1]\n",
        "# df_minority = df[df.label==0]\n",
        "\n",
        "# # Upsample minority class\n",
        "# df_minority_upsampled = resample(df_minority, \n",
        "#                                  replace=True,     # sample with replacement\n",
        "#                                  n_samples=len(df_majority),    # to match majority class\n",
        "#                                  random_state=42) # reproducible results\n",
        "\n",
        "# # Combine majority class with upsampled minority class\n",
        "# df_upsampled = pd.concat([df_majority, df_minority_upsampled])"
      ],
      "metadata": {
        "id": "MGyhcgjvdXpA"
      },
      "execution_count": null,
      "outputs": []
    },
    {
      "cell_type": "code",
      "source": [
        "# Display new class counts\n",
        "# df_upsampled.label.value_counts()"
      ],
      "metadata": {
        "id": "CFvBAm-zdx9y"
      },
      "execution_count": null,
      "outputs": []
    },
    {
      "cell_type": "code",
      "source": [
        "# X = np.stack(df_upsampled['vectors'])\n",
        "# y = df_upsampled['label']"
      ],
      "metadata": {
        "id": "cXvNEqcXe1nT"
      },
      "execution_count": null,
      "outputs": []
    },
    {
      "cell_type": "code",
      "source": [
        "X = np.stack(df['vectors'])\n",
        "y = df['label']"
      ],
      "metadata": {
        "id": "_-bJ0gm-PYBH"
      },
      "execution_count": null,
      "outputs": []
    },
    {
      "cell_type": "code",
      "source": [
        "X_train, X_test, y_train, y_test = train_test_split(X, y, test_size=0.2, random_state=42)\n",
        "X_train_final, X_validation_final, y_train_final, y_validation_final = train_test_split(X_train, y_train, test_size=0.1, random_state=42)"
      ],
      "metadata": {
        "id": "hPx2KgLLekHx"
      },
      "execution_count": null,
      "outputs": []
    },
    {
      "cell_type": "markdown",
      "source": [
        "## Cross Validation start"
      ],
      "metadata": {
        "id": "gSHsOdLWifDJ"
      }
    },
    {
      "cell_type": "code",
      "source": [],
      "metadata": {
        "id": "MC_5SPTiNY_p"
      },
      "execution_count": null,
      "outputs": []
    },
    {
      "cell_type": "code",
      "source": [
        "kf = KFold(n_splits = 5)                         \n",
        "skf = StratifiedKFold(n_splits = 5, random_state = 7, shuffle = True) "
      ],
      "metadata": {
        "id": "jglgXX3dfGg-",
        "colab": {
          "base_uri": "https://localhost:8080/",
          "height": 181
        },
        "outputId": "47bf7d5d-2b77-41cd-a959-f7d01a39b242"
      },
      "execution_count": null,
      "outputs": [
        {
          "output_type": "error",
          "ename": "NameError",
          "evalue": "ignored",
          "traceback": [
            "\u001b[0;31m---------------------------------------------------------------------------\u001b[0m",
            "\u001b[0;31mNameError\u001b[0m                                 Traceback (most recent call last)",
            "\u001b[0;32m<ipython-input-1-2e45e41964ad>\u001b[0m in \u001b[0;36m<module>\u001b[0;34m()\u001b[0m\n\u001b[0;32m----> 1\u001b[0;31m \u001b[0mkf\u001b[0m \u001b[0;34m=\u001b[0m \u001b[0mKFold\u001b[0m\u001b[0;34m(\u001b[0m\u001b[0mn_splits\u001b[0m \u001b[0;34m=\u001b[0m \u001b[0;36m5\u001b[0m\u001b[0;34m)\u001b[0m\u001b[0;34m\u001b[0m\u001b[0;34m\u001b[0m\u001b[0m\n\u001b[0m\u001b[1;32m      2\u001b[0m \u001b[0mskf\u001b[0m \u001b[0;34m=\u001b[0m \u001b[0mStratifiedKFold\u001b[0m\u001b[0;34m(\u001b[0m\u001b[0mn_splits\u001b[0m \u001b[0;34m=\u001b[0m \u001b[0;36m5\u001b[0m\u001b[0;34m,\u001b[0m \u001b[0mrandom_state\u001b[0m \u001b[0;34m=\u001b[0m \u001b[0;36m7\u001b[0m\u001b[0;34m,\u001b[0m \u001b[0mshuffle\u001b[0m \u001b[0;34m=\u001b[0m \u001b[0;32mTrue\u001b[0m\u001b[0;34m)\u001b[0m\u001b[0;34m\u001b[0m\u001b[0;34m\u001b[0m\u001b[0m\n",
            "\u001b[0;31mNameError\u001b[0m: name 'KFold' is not defined"
          ]
        }
      ]
    },
    {
      "cell_type": "code",
      "source": [
        "import tensorflow as tf\n",
        "from tensorflow import keras\n",
        "from tensorflow.keras import layers\n",
        "from sklearn.metrics import classification_report\n",
        "import matplotlib.pyplot as plt"
      ],
      "metadata": {
        "id": "fo0xfYmAyYwx"
      },
      "execution_count": null,
      "outputs": []
    },
    {
      "cell_type": "code",
      "source": [],
      "metadata": {
        "id": "Gfampe5aiSa8"
      },
      "execution_count": null,
      "outputs": []
    },
    {
      "cell_type": "code",
      "source": [
        "def create_new_model():\n",
        "  return keras.models.Sequential([\n",
        "        keras.layers.Dense(50,input_dim=768, activation=\"relu\"),\n",
        "      keras.layers.Dense(25, activation=\"relu\"),\n",
        "        keras.layers.Dense(1, activation=\"sigmoid\")\n",
        "    ])"
      ],
      "metadata": {
        "id": "NOeUqS-92dyt"
      },
      "execution_count": null,
      "outputs": []
    },
    {
      "cell_type": "code",
      "source": [
        "def plotLearningCurve(history, optimizer):\n",
        "    'plotting the learning curve'\n",
        "    pd.DataFrame(history.history).plot(figsize=(8, 5))\n",
        "    plt.grid(True)\n",
        "    plt.gca().set_ylim(0, 1)\n",
        "    plt.title(label=\"keras_learning_curves_plot_with_\" + optimizer + \"_optimizer\")\n",
        "    plt.show()\n",
        "    # plt.close(\"all\")"
      ],
      "metadata": {
        "id": "Cuj3Z8o92fiW"
      },
      "execution_count": null,
      "outputs": []
    },
    {
      "cell_type": "code",
      "source": [
        "def f1(y_true, y_pred):\n",
        "    def recall(y_true, y_pred):\n",
        "        \"\"\"Recall metric.\n",
        "\n",
        "        Only computes a batch-wise average of recall.\n",
        "\n",
        "        Computes the recall, a metric for multi-label classification of\n",
        "        how many relevant items are selected.\n",
        "        \"\"\"\n",
        "        true_positives = K.sum(K.round(K.clip(y_true * y_pred, 0, 1)))\n",
        "        possible_positives = K.sum(K.round(K.clip(y_true, 0, 1)))\n",
        "        recall = true_positives / (possible_positives + K.epsilon())\n",
        "        return recall\n",
        "\n",
        "    def precision(y_true, y_pred):\n",
        "        \"\"\"Precision metric.\n",
        "\n",
        "        Only computes a batch-wise average of precision.\n",
        "\n",
        "        Computes the precision, a metric for multi-label classification of\n",
        "        how many selected items are relevant.\n",
        "        \"\"\"\n",
        "        true_positives = K.sum(K.round(K.clip(y_true * y_pred, 0, 1)))\n",
        "        predicted_positives = K.sum(K.round(K.clip(y_pred, 0, 1)))\n",
        "        precision = true_positives / (predicted_positives + K.epsilon())\n",
        "        return precision\n",
        "    precision = precision(y_true, y_pred)\n",
        "    recall = recall(y_true, y_pred)\n",
        "    return 2*((precision*recall)/(precision+recall+K.epsilon()))"
      ],
      "metadata": {
        "id": "aA0na5h9nSO2"
      },
      "execution_count": null,
      "outputs": []
    },
    {
      "cell_type": "code",
      "source": [
        "EPOCHS = 50\n",
        "OPTIMIZER = \"adam\"\n",
        "METRICS=[\"accuracy\",f1]\n",
        "LOSS=\"binary_crossentropy\"\n",
        "create_new_model().summary()"
      ],
      "metadata": {
        "colab": {
          "base_uri": "https://localhost:8080/"
        },
        "id": "fNQcMMLwhpjq",
        "outputId": "275fd2ab-4040-4bcb-d6c2-281616d7aeb6"
      },
      "execution_count": null,
      "outputs": [
        {
          "output_type": "stream",
          "name": "stdout",
          "text": [
            "Model: \"sequential\"\n",
            "_________________________________________________________________\n",
            " Layer (type)                Output Shape              Param #   \n",
            "=================================================================\n",
            " dense (Dense)               (None, 50)                38450     \n",
            "                                                                 \n",
            " dense_1 (Dense)             (None, 25)                1275      \n",
            "                                                                 \n",
            " dense_2 (Dense)             (None, 1)                 26        \n",
            "                                                                 \n",
            "=================================================================\n",
            "Total params: 39,751\n",
            "Trainable params: 39,751\n",
            "Non-trainable params: 0\n",
            "_________________________________________________________________\n"
          ]
        }
      ]
    },
    {
      "cell_type": "markdown",
      "source": [
        "## Cross Validation"
      ],
      "metadata": {
        "id": "Hgpu2PmqTE_m"
      }
    },
    {
      "cell_type": "code",
      "source": [],
      "metadata": {
        "id": "UIEdNNK6W6XI"
      },
      "execution_count": null,
      "outputs": []
    },
    {
      "cell_type": "code",
      "source": [
        "\n",
        "VALIDATION_ACCURACY = []\n",
        "VALIDATION_LOSS = []\n",
        "fold_var = 1\n",
        "best_result = -1*np.inf\n",
        "\n",
        "for train_index, val_index in kf.split(np.zeros(len(y_train)),y_train):\n",
        "  print(f\"fold:{fold_var}\")\n",
        "  training_data = X_train[train_index]\n",
        "  training_data_y = y_train.iloc[train_index]\n",
        "  # Calculate the weights for each class so that we can balance the data\n",
        "  classes=np.unique(training_data_y)\n",
        "  weights = class_weight.compute_class_weight(class_weight='balanced',\n",
        "                                            classes=classes,\n",
        "                                            y=training_data_y)\n",
        "  class_weights = {i: weights[i] for i in classes}\n",
        "  validation_data = X_train[val_index]\n",
        "  validation_data_y = y_train.iloc[val_index]\n",
        "  # CREATE NEW MODEL\n",
        "  model = create_new_model()\n",
        "  # COMPILE NEW MODEL\n",
        "  model.compile(loss=LOSS,optimizer=OPTIMIZER,metrics=METRICS)\n",
        "\t# FIT THE MODEL\n",
        "  history = model.fit(training_data,training_data_y,epochs=EPOCHS,validation_data=(validation_data,validation_data_y),verbose=0, class_weight=class_weights)\n",
        "\t\n",
        "  results = model.evaluate(validation_data,validation_data_y)\n",
        "  results = dict(zip(model.metrics_names,results))\n",
        "\n",
        "  VALIDATION_ACCURACY.append(results['accuracy'])\n",
        "  VALIDATION_LOSS.append(results['loss'])\n",
        "\n",
        "  #saving best model yet\n",
        "  if results['f1'] > best_result:\n",
        "    print(f\"best performance increased. saving model: {best_result} -> {results['f1']}\")\n",
        "    best_result = results['f1']\n",
        "    model.save('./best_model.h5')\n",
        "\n",
        "  tf.keras.backend.clear_session()\n",
        "\t\n",
        "  fold_var += 1\n",
        "\t"
      ],
      "metadata": {
        "colab": {
          "base_uri": "https://localhost:8080/"
        },
        "id": "5HX8QXcn2hGk",
        "outputId": "75241c0f-502f-4a00-b2ab-5843266b20bb"
      },
      "execution_count": null,
      "outputs": [
        {
          "metadata": {
            "tags": null
          },
          "name": "stdout",
          "output_type": "stream",
          "text": [
            "fold:1\n",
            "4/4 [==============================] - 0s 4ms/step - loss: 0.2335 - accuracy: 0.8871 - f1: 0.9311\n",
            "best performance increased. saving model: -inf -> 0.9311201572418213\n",
            "fold:2\n",
            "4/4 [==============================] - 0s 4ms/step - loss: 0.3966 - accuracy: 0.8790 - f1: 0.9219\n",
            "fold:3\n",
            "4/4 [==============================] - 0s 4ms/step - loss: 0.3042 - accuracy: 0.9194 - f1: 0.9501\n",
            "best performance increased. saving model: 0.9311201572418213 -> 0.9501156806945801\n",
            "fold:4\n",
            "4/4 [==============================] - 0s 4ms/step - loss: 0.4564 - accuracy: 0.7823 - f1: 0.8351\n",
            "fold:5\n",
            "4/4 [==============================] - 0s 4ms/step - loss: 0.4654 - accuracy: 0.8548 - f1: 0.8950\n"
          ]
        }
      ]
    },
    {
      "cell_type": "markdown",
      "source": [
        "## Training Final Model"
      ],
      "metadata": {
        "id": "2WqJQKsfTJfw"
      }
    },
    {
      "cell_type": "code",
      "source": [
        "EPOCHS = 100\n",
        "callback = tf.keras.callbacks.EarlyStopping(monitor='loss', patience=5)\n",
        "classes=np.unique(y_train)\n",
        "weights = class_weight.compute_class_weight(class_weight='balanced',\n",
        "                                          classes=classes,\n",
        "                                          y=y_train)\n",
        "class_weights = {i: weights[i] for i in classes}\n",
        "# CREATE NEW MODEL\n",
        "model = create_new_model()\n",
        "# COMPILE NEW MODEL\n",
        "model.compile(loss=LOSS,optimizer=OPTIMIZER,metrics=METRICS)\n",
        "# FIT THE MODEL\n",
        "history = model.fit(X_train_final,y_train_final,epochs=EPOCHS,validation_data=(X_validation_final,y_validation_final),verbose=1, class_weight=class_weights, callbacks=[callback])\n",
        "model.save('./final_model.h5')\n",
        "\n",
        "tf.keras.backend.clear_session()\n"
      ],
      "metadata": {
        "colab": {
          "base_uri": "https://localhost:8080/"
        },
        "id": "zeTbreqtTJD4",
        "outputId": "8c73d5e9-b1b2-44ad-fa13-b39bf701e785"
      },
      "execution_count": null,
      "outputs": [
        {
          "output_type": "stream",
          "name": "stdout",
          "text": [
            "Epoch 1/100\n",
            "18/18 [==============================] - 1s 14ms/step - loss: 0.6142 - accuracy: 0.6846 - f1: 0.7516 - val_loss: 0.4513 - val_accuracy: 0.8226 - val_f1: 0.8863\n",
            "Epoch 2/100\n",
            "18/18 [==============================] - 0s 5ms/step - loss: 0.5258 - accuracy: 0.8136 - f1: 0.8719 - val_loss: 0.6137 - val_accuracy: 0.6613 - val_f1: 0.7286\n",
            "Epoch 3/100\n",
            "18/18 [==============================] - 0s 5ms/step - loss: 0.4965 - accuracy: 0.8082 - f1: 0.8645 - val_loss: 0.5682 - val_accuracy: 0.7742 - val_f1: 0.8417\n",
            "Epoch 4/100\n",
            "18/18 [==============================] - 0s 4ms/step - loss: 0.4599 - accuracy: 0.8351 - f1: 0.8861 - val_loss: 0.4723 - val_accuracy: 0.8548 - val_f1: 0.9034\n",
            "Epoch 5/100\n",
            "18/18 [==============================] - 0s 5ms/step - loss: 0.4150 - accuracy: 0.8548 - f1: 0.8938 - val_loss: 0.5153 - val_accuracy: 0.7742 - val_f1: 0.8377\n",
            "Epoch 6/100\n",
            "18/18 [==============================] - 0s 5ms/step - loss: 0.4140 - accuracy: 0.8710 - f1: 0.9129 - val_loss: 0.3712 - val_accuracy: 0.8710 - val_f1: 0.9179\n",
            "Epoch 7/100\n",
            "18/18 [==============================] - 0s 5ms/step - loss: 0.3980 - accuracy: 0.8297 - f1: 0.8780 - val_loss: 0.2792 - val_accuracy: 0.9516 - val_f1: 0.9704\n",
            "Epoch 8/100\n",
            "18/18 [==============================] - 0s 5ms/step - loss: 0.3531 - accuracy: 0.8674 - f1: 0.9099 - val_loss: 0.2738 - val_accuracy: 0.9355 - val_f1: 0.9606\n",
            "Epoch 9/100\n",
            "18/18 [==============================] - 0s 5ms/step - loss: 0.3487 - accuracy: 0.8763 - f1: 0.9159 - val_loss: 0.3544 - val_accuracy: 0.8871 - val_f1: 0.9272\n",
            "Epoch 10/100\n",
            "18/18 [==============================] - 0s 4ms/step - loss: 0.3278 - accuracy: 0.8871 - f1: 0.9230 - val_loss: 0.6425 - val_accuracy: 0.6290 - val_f1: 0.6903\n",
            "Epoch 11/100\n",
            "18/18 [==============================] - 0s 5ms/step - loss: 0.3375 - accuracy: 0.8566 - f1: 0.9019 - val_loss: 0.3354 - val_accuracy: 0.9032 - val_f1: 0.9394\n",
            "Epoch 12/100\n",
            "18/18 [==============================] - 0s 4ms/step - loss: 0.2868 - accuracy: 0.8943 - f1: 0.9224 - val_loss: 0.2977 - val_accuracy: 0.9032 - val_f1: 0.9394\n",
            "Epoch 13/100\n",
            "18/18 [==============================] - 0s 5ms/step - loss: 0.2729 - accuracy: 0.9068 - f1: 0.9355 - val_loss: 0.2892 - val_accuracy: 0.9032 - val_f1: 0.9394\n",
            "Epoch 14/100\n",
            "18/18 [==============================] - 0s 5ms/step - loss: 0.2708 - accuracy: 0.9050 - f1: 0.9350 - val_loss: 0.3339 - val_accuracy: 0.8710 - val_f1: 0.9169\n",
            "Epoch 15/100\n",
            "18/18 [==============================] - 0s 5ms/step - loss: 0.2443 - accuracy: 0.9265 - f1: 0.9504 - val_loss: 0.2258 - val_accuracy: 0.9355 - val_f1: 0.9606\n",
            "Epoch 16/100\n",
            "18/18 [==============================] - 0s 5ms/step - loss: 0.2837 - accuracy: 0.8871 - f1: 0.9217 - val_loss: 0.4080 - val_accuracy: 0.7742 - val_f1: 0.8377\n",
            "Epoch 17/100\n",
            "18/18 [==============================] - 0s 4ms/step - loss: 0.2515 - accuracy: 0.8943 - f1: 0.9265 - val_loss: 0.2324 - val_accuracy: 0.9516 - val_f1: 0.9717\n",
            "Epoch 18/100\n",
            "18/18 [==============================] - 0s 5ms/step - loss: 0.2333 - accuracy: 0.9247 - f1: 0.9471 - val_loss: 0.3148 - val_accuracy: 0.8871 - val_f1: 0.9284\n",
            "Epoch 19/100\n",
            "18/18 [==============================] - 0s 4ms/step - loss: 0.2180 - accuracy: 0.9301 - f1: 0.9526 - val_loss: 0.2283 - val_accuracy: 0.9516 - val_f1: 0.9717\n",
            "Epoch 20/100\n",
            "18/18 [==============================] - 0s 5ms/step - loss: 0.2154 - accuracy: 0.9211 - f1: 0.9464 - val_loss: 0.3541 - val_accuracy: 0.8226 - val_f1: 0.8804\n",
            "Epoch 21/100\n",
            "18/18 [==============================] - 0s 5ms/step - loss: 0.2010 - accuracy: 0.9283 - f1: 0.9494 - val_loss: 0.4130 - val_accuracy: 0.7419 - val_f1: 0.8054\n",
            "Epoch 22/100\n",
            "18/18 [==============================] - 0s 5ms/step - loss: 0.2366 - accuracy: 0.8907 - f1: 0.9234 - val_loss: 0.3034 - val_accuracy: 0.8871 - val_f1: 0.9284\n",
            "Epoch 23/100\n",
            "18/18 [==============================] - 0s 4ms/step - loss: 0.2480 - accuracy: 0.8925 - f1: 0.9252 - val_loss: 0.1915 - val_accuracy: 0.9355 - val_f1: 0.9606\n",
            "Epoch 24/100\n",
            "18/18 [==============================] - 0s 5ms/step - loss: 0.1840 - accuracy: 0.9409 - f1: 0.9604 - val_loss: 0.2594 - val_accuracy: 0.9032 - val_f1: 0.9400\n",
            "Epoch 25/100\n",
            "18/18 [==============================] - 0s 5ms/step - loss: 0.1876 - accuracy: 0.9337 - f1: 0.9528 - val_loss: 0.1952 - val_accuracy: 0.9516 - val_f1: 0.9717\n",
            "Epoch 26/100\n",
            "18/18 [==============================] - 0s 5ms/step - loss: 0.1867 - accuracy: 0.9355 - f1: 0.9540 - val_loss: 0.2955 - val_accuracy: 0.8710 - val_f1: 0.9139\n",
            "Epoch 27/100\n",
            "18/18 [==============================] - 0s 5ms/step - loss: 0.1682 - accuracy: 0.9355 - f1: 0.9573 - val_loss: 0.2664 - val_accuracy: 0.9194 - val_f1: 0.9510\n",
            "Epoch 28/100\n",
            "18/18 [==============================] - 0s 5ms/step - loss: 0.1575 - accuracy: 0.9588 - f1: 0.9680 - val_loss: 0.2176 - val_accuracy: 0.9355 - val_f1: 0.9600\n",
            "Epoch 29/100\n",
            "18/18 [==============================] - 0s 5ms/step - loss: 0.1976 - accuracy: 0.9229 - f1: 0.9436 - val_loss: 0.4109 - val_accuracy: 0.7742 - val_f1: 0.8359\n",
            "Epoch 30/100\n",
            "18/18 [==============================] - 0s 5ms/step - loss: 0.2002 - accuracy: 0.9194 - f1: 0.9439 - val_loss: 0.2102 - val_accuracy: 0.9355 - val_f1: 0.9615\n",
            "Epoch 31/100\n",
            "18/18 [==============================] - 0s 5ms/step - loss: 0.1479 - accuracy: 0.9427 - f1: 0.9621 - val_loss: 0.2647 - val_accuracy: 0.9194 - val_f1: 0.9510\n",
            "Epoch 32/100\n",
            "18/18 [==============================] - 0s 4ms/step - loss: 0.1434 - accuracy: 0.9427 - f1: 0.9610 - val_loss: 0.1769 - val_accuracy: 0.9516 - val_f1: 0.9717\n",
            "Epoch 33/100\n",
            "18/18 [==============================] - 0s 5ms/step - loss: 0.1508 - accuracy: 0.9498 - f1: 0.9641 - val_loss: 0.3129 - val_accuracy: 0.8871 - val_f1: 0.9259\n",
            "Epoch 34/100\n",
            "18/18 [==============================] - 0s 5ms/step - loss: 0.1369 - accuracy: 0.9516 - f1: 0.9657 - val_loss: 0.2038 - val_accuracy: 0.9355 - val_f1: 0.9615\n",
            "Epoch 35/100\n",
            "18/18 [==============================] - 0s 5ms/step - loss: 0.1368 - accuracy: 0.9552 - f1: 0.9701 - val_loss: 0.2140 - val_accuracy: 0.9355 - val_f1: 0.9615\n",
            "Epoch 36/100\n",
            "18/18 [==============================] - 0s 5ms/step - loss: 0.1424 - accuracy: 0.9498 - f1: 0.9648 - val_loss: 0.2466 - val_accuracy: 0.9516 - val_f1: 0.9706\n",
            "Epoch 37/100\n",
            "18/18 [==============================] - 0s 5ms/step - loss: 0.1690 - accuracy: 0.9265 - f1: 0.9475 - val_loss: 0.1827 - val_accuracy: 0.9516 - val_f1: 0.9704\n",
            "Epoch 38/100\n",
            "18/18 [==============================] - 0s 5ms/step - loss: 0.1605 - accuracy: 0.9391 - f1: 0.9582 - val_loss: 0.2277 - val_accuracy: 0.9355 - val_f1: 0.9615\n",
            "Epoch 39/100\n",
            "18/18 [==============================] - 0s 5ms/step - loss: 0.1252 - accuracy: 0.9516 - f1: 0.9658 - val_loss: 0.1715 - val_accuracy: 0.9677 - val_f1: 0.9808\n",
            "Epoch 40/100\n",
            "18/18 [==============================] - 0s 4ms/step - loss: 0.1281 - accuracy: 0.9480 - f1: 0.9649 - val_loss: 0.2192 - val_accuracy: 0.9355 - val_f1: 0.9615\n",
            "Epoch 41/100\n",
            "18/18 [==============================] - 0s 4ms/step - loss: 0.1117 - accuracy: 0.9642 - f1: 0.9764 - val_loss: 0.2579 - val_accuracy: 0.9355 - val_f1: 0.9590\n",
            "Epoch 42/100\n",
            "18/18 [==============================] - 0s 4ms/step - loss: 0.1103 - accuracy: 0.9606 - f1: 0.9731 - val_loss: 0.3154 - val_accuracy: 0.9032 - val_f1: 0.9374\n",
            "Epoch 43/100\n",
            "18/18 [==============================] - 0s 5ms/step - loss: 0.1203 - accuracy: 0.9713 - f1: 0.9791 - val_loss: 0.2119 - val_accuracy: 0.9355 - val_f1: 0.9615\n",
            "Epoch 44/100\n",
            "18/18 [==============================] - 0s 5ms/step - loss: 0.1053 - accuracy: 0.9642 - f1: 0.9739 - val_loss: 0.3248 - val_accuracy: 0.9032 - val_f1: 0.9374\n",
            "Epoch 45/100\n",
            "18/18 [==============================] - 0s 5ms/step - loss: 0.1178 - accuracy: 0.9516 - f1: 0.9661 - val_loss: 0.4018 - val_accuracy: 0.8387 - val_f1: 0.8875\n",
            "Epoch 46/100\n",
            "18/18 [==============================] - 0s 5ms/step - loss: 0.1319 - accuracy: 0.9516 - f1: 0.9673 - val_loss: 0.1837 - val_accuracy: 0.9516 - val_f1: 0.9717\n",
            "Epoch 47/100\n",
            "18/18 [==============================] - 0s 5ms/step - loss: 0.1022 - accuracy: 0.9642 - f1: 0.9767 - val_loss: 0.2134 - val_accuracy: 0.9516 - val_f1: 0.9706\n",
            "Epoch 48/100\n",
            "18/18 [==============================] - 0s 5ms/step - loss: 0.0959 - accuracy: 0.9659 - f1: 0.9770 - val_loss: 0.2300 - val_accuracy: 0.9516 - val_f1: 0.9706\n",
            "Epoch 49/100\n",
            "18/18 [==============================] - 0s 5ms/step - loss: 0.0868 - accuracy: 0.9731 - f1: 0.9805 - val_loss: 0.2886 - val_accuracy: 0.9355 - val_f1: 0.9590\n",
            "Epoch 50/100\n",
            "18/18 [==============================] - 0s 5ms/step - loss: 0.0998 - accuracy: 0.9624 - f1: 0.9750 - val_loss: 0.1917 - val_accuracy: 0.9677 - val_f1: 0.9808\n",
            "Epoch 51/100\n",
            "18/18 [==============================] - 0s 5ms/step - loss: 0.1088 - accuracy: 0.9588 - f1: 0.9718 - val_loss: 0.2095 - val_accuracy: 0.9355 - val_f1: 0.9615\n",
            "Epoch 52/100\n",
            "18/18 [==============================] - 0s 5ms/step - loss: 0.0919 - accuracy: 0.9695 - f1: 0.9796 - val_loss: 0.2531 - val_accuracy: 0.9355 - val_f1: 0.9590\n",
            "Epoch 53/100\n",
            "18/18 [==============================] - 0s 5ms/step - loss: 0.0815 - accuracy: 0.9713 - f1: 0.9814 - val_loss: 0.1900 - val_accuracy: 0.9355 - val_f1: 0.9615\n",
            "Epoch 54/100\n",
            "18/18 [==============================] - 0s 5ms/step - loss: 0.1086 - accuracy: 0.9588 - f1: 0.9705 - val_loss: 0.3057 - val_accuracy: 0.9194 - val_f1: 0.9484\n",
            "Epoch 55/100\n",
            "18/18 [==============================] - 0s 4ms/step - loss: 0.0876 - accuracy: 0.9677 - f1: 0.9782 - val_loss: 0.2522 - val_accuracy: 0.9516 - val_f1: 0.9706\n",
            "Epoch 56/100\n",
            "18/18 [==============================] - 0s 5ms/step - loss: 0.0764 - accuracy: 0.9713 - f1: 0.9800 - val_loss: 0.2429 - val_accuracy: 0.9355 - val_f1: 0.9590\n",
            "Epoch 57/100\n",
            "18/18 [==============================] - 0s 5ms/step - loss: 0.0825 - accuracy: 0.9749 - f1: 0.9838 - val_loss: 0.2287 - val_accuracy: 0.9355 - val_f1: 0.9615\n",
            "Epoch 58/100\n",
            "18/18 [==============================] - 0s 5ms/step - loss: 0.0693 - accuracy: 0.9821 - f1: 0.9876 - val_loss: 0.2565 - val_accuracy: 0.9194 - val_f1: 0.9484\n",
            "Epoch 59/100\n",
            "18/18 [==============================] - 0s 5ms/step - loss: 0.0660 - accuracy: 0.9803 - f1: 0.9867 - val_loss: 0.2524 - val_accuracy: 0.9194 - val_f1: 0.9484\n",
            "Epoch 60/100\n",
            "18/18 [==============================] - 0s 5ms/step - loss: 0.0640 - accuracy: 0.9785 - f1: 0.9862 - val_loss: 0.2752 - val_accuracy: 0.9194 - val_f1: 0.9484\n",
            "Epoch 61/100\n",
            "18/18 [==============================] - 0s 6ms/step - loss: 0.0641 - accuracy: 0.9785 - f1: 0.9850 - val_loss: 0.2066 - val_accuracy: 0.9355 - val_f1: 0.9615\n",
            "Epoch 62/100\n",
            "18/18 [==============================] - 0s 5ms/step - loss: 0.0612 - accuracy: 0.9803 - f1: 0.9855 - val_loss: 0.2319 - val_accuracy: 0.9516 - val_f1: 0.9706\n",
            "Epoch 63/100\n",
            "18/18 [==============================] - 0s 5ms/step - loss: 0.0775 - accuracy: 0.9659 - f1: 0.9770 - val_loss: 0.2092 - val_accuracy: 0.9516 - val_f1: 0.9706\n",
            "Epoch 64/100\n",
            "18/18 [==============================] - 0s 5ms/step - loss: 0.1038 - accuracy: 0.9552 - f1: 0.9687 - val_loss: 0.3027 - val_accuracy: 0.9032 - val_f1: 0.9394\n",
            "Epoch 65/100\n",
            "18/18 [==============================] - 0s 5ms/step - loss: 0.0653 - accuracy: 0.9749 - f1: 0.9825 - val_loss: 0.2209 - val_accuracy: 0.9355 - val_f1: 0.9600\n",
            "Epoch 66/100\n",
            "18/18 [==============================] - 0s 5ms/step - loss: 0.0602 - accuracy: 0.9749 - f1: 0.9821 - val_loss: 0.2272 - val_accuracy: 0.9355 - val_f1: 0.9615\n",
            "Epoch 67/100\n",
            "18/18 [==============================] - 0s 5ms/step - loss: 0.0547 - accuracy: 0.9857 - f1: 0.9904 - val_loss: 0.2455 - val_accuracy: 0.9194 - val_f1: 0.9484\n",
            "Epoch 68/100\n",
            "18/18 [==============================] - 0s 5ms/step - loss: 0.0633 - accuracy: 0.9803 - f1: 0.9857 - val_loss: 0.2705 - val_accuracy: 0.9355 - val_f1: 0.9590\n",
            "Epoch 69/100\n",
            "18/18 [==============================] - 0s 5ms/step - loss: 0.0528 - accuracy: 0.9803 - f1: 0.9838 - val_loss: 0.2639 - val_accuracy: 0.9194 - val_f1: 0.9484\n",
            "Epoch 70/100\n",
            "18/18 [==============================] - 0s 5ms/step - loss: 0.0500 - accuracy: 0.9857 - f1: 0.9899 - val_loss: 0.2587 - val_accuracy: 0.9355 - val_f1: 0.9590\n",
            "Epoch 71/100\n",
            "18/18 [==============================] - 0s 5ms/step - loss: 0.0488 - accuracy: 0.9821 - f1: 0.9886 - val_loss: 0.2411 - val_accuracy: 0.9516 - val_f1: 0.9706\n",
            "Epoch 72/100\n",
            "18/18 [==============================] - 0s 5ms/step - loss: 0.0486 - accuracy: 0.9857 - f1: 0.9909 - val_loss: 0.2189 - val_accuracy: 0.9516 - val_f1: 0.9717\n",
            "Epoch 73/100\n",
            "18/18 [==============================] - 0s 5ms/step - loss: 0.0670 - accuracy: 0.9749 - f1: 0.9835 - val_loss: 0.2678 - val_accuracy: 0.9355 - val_f1: 0.9600\n",
            "Epoch 74/100\n",
            "18/18 [==============================] - 0s 5ms/step - loss: 0.0480 - accuracy: 0.9803 - f1: 0.9869 - val_loss: 0.2213 - val_accuracy: 0.9355 - val_f1: 0.9615\n",
            "Epoch 75/100\n",
            "18/18 [==============================] - 0s 5ms/step - loss: 0.0448 - accuracy: 0.9857 - f1: 0.9903 - val_loss: 0.2790 - val_accuracy: 0.9194 - val_f1: 0.9484\n",
            "Epoch 76/100\n",
            "18/18 [==============================] - 0s 5ms/step - loss: 0.0424 - accuracy: 0.9910 - f1: 0.9936 - val_loss: 0.2581 - val_accuracy: 0.9355 - val_f1: 0.9590\n",
            "Epoch 77/100\n",
            "18/18 [==============================] - 0s 5ms/step - loss: 0.0383 - accuracy: 0.9910 - f1: 0.9944 - val_loss: 0.2746 - val_accuracy: 0.9194 - val_f1: 0.9484\n",
            "Epoch 78/100\n",
            "18/18 [==============================] - 0s 5ms/step - loss: 0.0397 - accuracy: 0.9875 - f1: 0.9919 - val_loss: 0.3088 - val_accuracy: 0.9032 - val_f1: 0.9362\n",
            "Epoch 79/100\n",
            "18/18 [==============================] - 0s 5ms/step - loss: 0.0408 - accuracy: 0.9857 - f1: 0.9885 - val_loss: 0.5000 - val_accuracy: 0.8226 - val_f1: 0.8734\n",
            "Epoch 80/100\n",
            "18/18 [==============================] - 0s 5ms/step - loss: 0.0487 - accuracy: 0.9857 - f1: 0.9892 - val_loss: 0.2403 - val_accuracy: 0.9516 - val_f1: 0.9706\n",
            "Epoch 81/100\n",
            "18/18 [==============================] - 0s 5ms/step - loss: 0.0378 - accuracy: 0.9875 - f1: 0.9899 - val_loss: 0.2895 - val_accuracy: 0.9194 - val_f1: 0.9484\n",
            "Epoch 82/100\n",
            "18/18 [==============================] - 0s 5ms/step - loss: 0.0412 - accuracy: 0.9892 - f1: 0.9919 - val_loss: 0.2361 - val_accuracy: 0.9355 - val_f1: 0.9600\n",
            "Epoch 83/100\n",
            "18/18 [==============================] - 0s 5ms/step - loss: 0.0833 - accuracy: 0.9659 - f1: 0.9772 - val_loss: 0.2433 - val_accuracy: 0.9516 - val_f1: 0.9706\n",
            "Epoch 84/100\n",
            "18/18 [==============================] - 0s 5ms/step - loss: 0.1072 - accuracy: 0.9659 - f1: 0.9771 - val_loss: 0.2573 - val_accuracy: 0.9355 - val_f1: 0.9600\n",
            "Epoch 85/100\n",
            "18/18 [==============================] - 0s 5ms/step - loss: 0.1410 - accuracy: 0.9319 - f1: 0.9547 - val_loss: 0.2599 - val_accuracy: 0.9516 - val_f1: 0.9717\n",
            "Epoch 86/100\n",
            "18/18 [==============================] - 0s 5ms/step - loss: 0.0752 - accuracy: 0.9695 - f1: 0.9784 - val_loss: 0.3075 - val_accuracy: 0.9355 - val_f1: 0.9600\n"
          ]
        }
      ]
    },
    {
      "cell_type": "code",
      "source": [
        "import matplotlib.pyplot as plt\n",
        "# plot learning curve\n",
        "plotLearningCurve(history, OPTIMIZER)"
      ],
      "metadata": {
        "colab": {
          "base_uri": "https://localhost:8080/",
          "height": 336
        },
        "id": "_dCRVSVACmdi",
        "outputId": "bf88efa3-3459-4fe8-c708-f91539e537bf"
      },
      "execution_count": null,
      "outputs": [
        {
          "output_type": "display_data",
          "data": {
            "text/plain": [
              "<Figure size 576x360 with 1 Axes>"
            ],
            "image/png": "[encoded data removed]"
          },
          "metadata": {
            "needs_background": "light"
          }
        }
      ]
    },
    {
      "cell_type": "code",
      "source": [
        "model = keras.models.load_model('./final_model.h5',custom_objects={\"f1\":f1})"
      ],
      "metadata": {
        "id": "OD1sXwOsoJAy"
      },
      "execution_count": null,
      "outputs": []
    },
    {
      "cell_type": "code",
      "source": [
        "# make prediction on test set\n",
        "y_prediction = model.predict(X_test)\n",
        "y_prediction_bool = (y_prediction > 0.5).astype(int)"
      ],
      "metadata": {
        "id": "ps7lZ8rb7FTs"
      },
      "execution_count": null,
      "outputs": []
    },
    {
      "cell_type": "code",
      "source": [
        "import tensorflow as tf\n",
        "def auc(y_true, y_pred):\n",
        "    auc = tf.metrics.auc(y_true, y_pred)[1]\n",
        "    # K.get_session().run(tf.local_variables_initializer())\n",
        "    return auc"
      ],
      "metadata": {
        "id": "HJGkm6wwer0C"
      },
      "execution_count": null,
      "outputs": []
    },
    {
      "cell_type": "code",
      "source": [
        "\n",
        "print(\"classification report with \"+ OPTIMIZER +  \"\\n\")\n",
        "from sklearn.metrics import classification_report\n",
        "# y_prediction_bool = y_prediction_bool.reshape((28,1))\n",
        "print(classification_report(y_test, y_prediction_bool))"
      ],
      "metadata": {
        "id": "wQgWW5JI2i0c",
        "colab": {
          "base_uri": "https://localhost:8080/"
        },
        "outputId": "a7845e79-7e10-44b5-8fec-0973e9e7f6b9"
      },
      "execution_count": null,
      "outputs": [
        {
          "output_type": "stream",
          "name": "stdout",
          "text": [
            "classification report with adam\n",
            "\n",
            "              precision    recall  f1-score   support\n",
            "\n",
            "           0       0.69      0.86      0.77        36\n",
            "           1       0.95      0.88      0.92       120\n",
            "\n",
            "    accuracy                           0.88       156\n",
            "   macro avg       0.82      0.87      0.84       156\n",
            "weighted avg       0.89      0.88      0.88       156\n",
            "\n"
          ]
        }
      ]
    },
    {
      "cell_type": "code",
      "source": [
        "from sklearn.metrics import roc_curve\n",
        "from sklearn.metrics import roc_auc_score\n",
        "auc = roc_auc_score(y_test, y_prediction_bool)\n",
        "print('ROC AUC=%.3f' % (auc))"
      ],
      "metadata": {
        "colab": {
          "base_uri": "https://localhost:8080/"
        },
        "id": "CVVTsxuFLiMS",
        "outputId": "a9074a4f-7e10-4937-ff8d-e1b8ffac47f4"
      },
      "execution_count": null,
      "outputs": [
        {
          "output_type": "stream",
          "name": "stdout",
          "text": [
            "ROC AUC=0.872\n"
          ]
        }
      ]
    },
    {
      "cell_type": "code",
      "source": [
        "# calculate roc curves\n",
        "fpr, tpr, _ = roc_curve(y_test, y_prediction_bool)\n",
        "# plot the roc curve for the model\n",
        "from matplotlib import pyplot\n",
        "pyplot.plot(fpr, tpr, linestyle='--', label='roc curve')\n",
        "# axis labels\n",
        "pyplot.xlabel('False Positive Rate')\n",
        "pyplot.ylabel('True Positive Rate')\n",
        "# show the legend\n",
        "pyplot.legend()\n",
        "# show the plot\n",
        "pyplot.show()"
      ],
      "metadata": {
        "colab": {
          "base_uri": "https://localhost:8080/",
          "height": 279
        },
        "id": "O2efNsqRMSem",
        "outputId": "b7e792c7-138e-4224-f802-00c42325b5b4"
      },
      "execution_count": null,
      "outputs": [
        {
          "output_type": "display_data",
          "data": {
            "text/plain": [
              "<Figure size 432x288 with 1 Axes>"
            ],
            "image/png": "[encoded data removed]"
          },
          "metadata": {
            "needs_background": "light"
          }
        }
      ]
    },
    {
      "cell_type": "code",
      "source": [
        "from sklearn.metrics import roc_auc_score\n",
        "print(roc_auc_score(y_test, y_prediction_bool))"
      ],
      "metadata": {
        "colab": {
          "base_uri": "https://localhost:8080/"
        },
        "id": "IxmgFjT2Ynci",
        "outputId": "9d1eecc0-1a8d-4904-a1b5-bf0e8f0271d1"
      },
      "execution_count": null,
      "outputs": [
        {
          "output_type": "stream",
          "name": "stdout",
          "text": [
            "0.8722222222222222\n"
          ]
        }
      ]
    },
    {
      "cell_type": "code",
      "source": [
        "len(X_test)"
      ],
      "metadata": {
        "id": "x1GGaaEqLdXI",
        "colab": {
          "base_uri": "https://localhost:8080/"
        },
        "outputId": "5cd4027c-4aec-47b8-bef4-c43abc4db830"
      },
      "execution_count": null,
      "outputs": [
        {
          "output_type": "execute_result",
          "data": {
            "text/plain": [
              "156"
            ]
          },
          "metadata": {},
          "execution_count": 78
        }
      ]
    },
    {
      "cell_type": "code",
      "source": [
        "len(X_train_final)"
      ],
      "metadata": {
        "colab": {
          "base_uri": "https://localhost:8080/"
        },
        "id": "ATDQIekOVXtY",
        "outputId": "e51b596e-44bc-4b23-e856-1bd92883762c"
      },
      "execution_count": null,
      "outputs": [
        {
          "output_type": "execute_result",
          "data": {
            "text/plain": [
              "558"
            ]
          },
          "metadata": {},
          "execution_count": 79
        }
      ]
    },
    {
      "cell_type": "code",
      "source": [
        "len(X_validation_final)"
      ],
      "metadata": {
        "id": "pxaR7mEbVY6K",
        "colab": {
          "base_uri": "https://localhost:8080/"
        },
        "outputId": "ce83d3ae-0ebb-470e-ab67-08216799d4b0"
      },
      "execution_count": null,
      "outputs": [
        {
          "output_type": "execute_result",
          "data": {
            "text/plain": [
              "62"
            ]
          },
          "metadata": {},
          "execution_count": 80
        }
      ]
    }
  ]
}
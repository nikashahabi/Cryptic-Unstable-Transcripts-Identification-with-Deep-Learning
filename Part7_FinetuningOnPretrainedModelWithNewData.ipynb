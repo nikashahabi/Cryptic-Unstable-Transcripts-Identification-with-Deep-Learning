{
  "cells": [
    {
      "cell_type": "markdown",
      "metadata": {
        "id": "view-in-github",
        "colab_type": "text"
      },
      "source": [
        "<a href=\"https://colab.research.google.com/github/nikashahabi/Cryptic-Unstable-Transcripts-Identification-with-Deep-Learning/blob/main/Part7_FinetuningOnPretrainedModelWithNewData.ipynb\" target=\"_parent\"><img src=\"https://colab.research.google.com/assets/colab-badge.svg\" alt=\"Open In Colab\"/></a>"
      ]
    },
    {
      "cell_type": "markdown",
      "metadata": {
        "id": "VHr1CCVZgkB-"
      },
      "source": [
        "## Connecting to drive and connecting to dnabert github files"
      ]
    },
    {
      "cell_type": "code",
      "source": [
        "import numpy as np\n",
        "i = np.zeros(10)\n",
        "i"
      ],
      "metadata": {
        "colab": {
          "base_uri": "https://localhost:8080/"
        },
        "id": "T79YPDWTUtms",
        "outputId": "32cf1774-035b-422b-ef20-2439ee2d7cee"
      },
      "execution_count": null,
      "outputs": [
        {
          "output_type": "execute_result",
          "data": {
            "text/plain": [
              "array([0., 0., 0., 0., 0., 0., 0., 0., 0., 0.])"
            ]
          },
          "metadata": {},
          "execution_count": 1
        }
      ]
    },
    {
      "cell_type": "code",
      "source": [
        "i[9] = 1\n",
        "score = i\n",
        "cond1 = (score > np.mean(score))\n",
        "\n",
        "print(cond1)\n",
        "cond1.shape\n",
        "cond2 = (score >= 10*np.min(score))\n",
        "cond = [cond1, cond2]\n",
        "cond = np.asarray(cond)\n",
        "print(cond)"
      ],
      "metadata": {
        "colab": {
          "base_uri": "https://localhost:8080/"
        },
        "id": "lWSfOxHdU5-k",
        "outputId": "841b70f5-c439-4d44-9f3d-b4ba4f13d555"
      },
      "execution_count": null,
      "outputs": [
        {
          "output_type": "stream",
          "name": "stdout",
          "text": [
            "[False False False False False False False False False  True]\n",
            "[[False False False False False False False False False  True]\n",
            " [ True  True  True  True  True  True  True  True  True  True]]\n"
          ]
        }
      ]
    },
    {
      "cell_type": "code",
      "execution_count": null,
      "metadata": {
        "id": "Z3-JN-n8gpd3",
        "colab": {
          "base_uri": "https://localhost:8080/"
        },
        "outputId": "b4f508ff-399f-4fa6-9d84-c3a30fdd6590"
      },
      "outputs": [
        {
          "output_type": "stream",
          "name": "stdout",
          "text": [
            "Mounted at /content/drive\n"
          ]
        }
      ],
      "source": [
        "from google.colab import drive\n",
        "drive.mount('/content/drive')"
      ]
    },
    {
      "cell_type": "code",
      "execution_count": null,
      "metadata": {
        "colab": {
          "base_uri": "https://localhost:8080/"
        },
        "id": "JTm5o7ook7Vg",
        "outputId": "371c9286-4e4f-4cf4-ed3d-a27ee45bb1f9"
      },
      "outputs": [
        {
          "output_type": "stream",
          "name": "stdout",
          "text": [
            "/content/drive/MyDrive/Bioinformatics/DNABERT-master\n"
          ]
        }
      ],
      "source": [
        "cd /content/drive/MyDrive/Bioinformatics/DNABERT-master"
      ]
    },
    {
      "cell_type": "code",
      "execution_count": null,
      "metadata": {
        "colab": {
          "base_uri": "https://localhost:8080/"
        },
        "id": "jMXLCvNahGC7",
        "outputId": "e18b05ca-606b-409b-8c4e-7d8d6c8c33b1"
      },
      "outputs": [
        {
          "output_type": "stream",
          "name": "stdout",
          "text": [
            "Looking in indexes: https://pypi.org/simple, https://us-python.pkg.dev/colab-wheels/public/simple/\n",
            "Obtaining file:///content/drive/MyDrive/Bioinformatics/DNABERT-master\n",
            "Requirement already satisfied: numpy in /usr/local/lib/python3.7/dist-packages (from transformers==2.5.0) (1.21.6)\n",
            "Collecting tokenizers==0.5.0\n",
            "  Downloading tokenizers-0.5.0-cp37-cp37m-manylinux1_x86_64.whl (5.7 MB)\n",
            "\u001b[K     |████████████████████████████████| 5.7 MB 13.9 MB/s \n",
            "\u001b[?25hCollecting boto3\n",
            "  Downloading boto3-1.24.95-py3-none-any.whl (132 kB)\n",
            "\u001b[K     |████████████████████████████████| 132 kB 66.7 MB/s \n",
            "\u001b[?25hRequirement already satisfied: filelock in /usr/local/lib/python3.7/dist-packages (from transformers==2.5.0) (3.8.0)\n",
            "Requirement already satisfied: requests in /usr/local/lib/python3.7/dist-packages (from transformers==2.5.0) (2.23.0)\n",
            "Requirement already satisfied: tqdm>=4.27 in /usr/local/lib/python3.7/dist-packages (from transformers==2.5.0) (4.64.1)\n",
            "Requirement already satisfied: regex!=2019.12.17 in /usr/local/lib/python3.7/dist-packages (from transformers==2.5.0) (2022.6.2)\n",
            "Collecting sentencepiece\n",
            "  Downloading sentencepiece-0.1.97-cp37-cp37m-manylinux_2_17_x86_64.manylinux2014_x86_64.whl (1.3 MB)\n",
            "\u001b[K     |████████████████████████████████| 1.3 MB 65.6 MB/s \n",
            "\u001b[?25hCollecting sacremoses\n",
            "  Downloading sacremoses-0.0.53.tar.gz (880 kB)\n",
            "\u001b[K     |████████████████████████████████| 880 kB 51.9 MB/s \n",
            "\u001b[?25hCollecting botocore<1.28.0,>=1.27.95\n",
            "  Downloading botocore-1.27.95-py3-none-any.whl (9.3 MB)\n",
            "\u001b[K     |████████████████████████████████| 9.3 MB 35.9 MB/s \n",
            "\u001b[?25hCollecting s3transfer<0.7.0,>=0.6.0\n",
            "  Downloading s3transfer-0.6.0-py3-none-any.whl (79 kB)\n",
            "\u001b[K     |████████████████████████████████| 79 kB 9.9 MB/s \n",
            "\u001b[?25hCollecting jmespath<2.0.0,>=0.7.1\n",
            "  Downloading jmespath-1.0.1-py3-none-any.whl (20 kB)\n",
            "Requirement already satisfied: python-dateutil<3.0.0,>=2.1 in /usr/local/lib/python3.7/dist-packages (from botocore<1.28.0,>=1.27.95->boto3->transformers==2.5.0) (2.8.2)\n",
            "Collecting urllib3<1.27,>=1.25.4\n",
            "  Downloading urllib3-1.26.12-py2.py3-none-any.whl (140 kB)\n",
            "\u001b[K     |████████████████████████████████| 140 kB 77.6 MB/s \n",
            "\u001b[?25hRequirement already satisfied: six>=1.5 in /usr/local/lib/python3.7/dist-packages (from python-dateutil<3.0.0,>=2.1->botocore<1.28.0,>=1.27.95->boto3->transformers==2.5.0) (1.15.0)\n",
            "Requirement already satisfied: idna<3,>=2.5 in /usr/local/lib/python3.7/dist-packages (from requests->transformers==2.5.0) (2.10)\n",
            "  Downloading urllib3-1.25.11-py2.py3-none-any.whl (127 kB)\n",
            "\u001b[K     |████████████████████████████████| 127 kB 69.9 MB/s \n",
            "\u001b[?25hRequirement already satisfied: certifi>=2017.4.17 in /usr/local/lib/python3.7/dist-packages (from requests->transformers==2.5.0) (2022.9.24)\n",
            "Requirement already satisfied: chardet<4,>=3.0.2 in /usr/local/lib/python3.7/dist-packages (from requests->transformers==2.5.0) (3.0.4)\n",
            "Requirement already satisfied: click in /usr/local/lib/python3.7/dist-packages (from sacremoses->transformers==2.5.0) (7.1.2)\n",
            "Requirement already satisfied: joblib in /usr/local/lib/python3.7/dist-packages (from sacremoses->transformers==2.5.0) (1.2.0)\n",
            "Building wheels for collected packages: sacremoses\n",
            "  Building wheel for sacremoses (setup.py) ... \u001b[?25l\u001b[?25hdone\n",
            "  Created wheel for sacremoses: filename=sacremoses-0.0.53-py3-none-any.whl size=895260 sha256=390db155cb8e28f92fef75d2e7fb23b2f8501ebf86a044ee838b3fba3e0faef4\n",
            "  Stored in directory: /root/.cache/pip/wheels/87/39/dd/a83eeef36d0bf98e7a4d1933a4ad2d660295a40613079bafc9\n",
            "Successfully built sacremoses\n",
            "Installing collected packages: urllib3, jmespath, botocore, s3transfer, tokenizers, sentencepiece, sacremoses, boto3, transformers\n",
            "  Attempting uninstall: urllib3\n",
            "    Found existing installation: urllib3 1.24.3\n",
            "    Uninstalling urllib3-1.24.3:\n",
            "      Successfully uninstalled urllib3-1.24.3\n",
            "  Running setup.py develop for transformers\n",
            "Successfully installed boto3-1.24.95 botocore-1.27.95 jmespath-1.0.1 s3transfer-0.6.0 sacremoses-0.0.53 sentencepiece-0.1.97 tokenizers-0.5.0 transformers-2.5.0 urllib3-1.25.11\n"
          ]
        }
      ],
      "source": [
        "!python3 -m pip install --editable ."
      ]
    },
    {
      "cell_type": "code",
      "execution_count": null,
      "metadata": {
        "colab": {
          "base_uri": "https://localhost:8080/"
        },
        "id": "Gf7cgvwGlCym",
        "outputId": "0ef82066-141c-476d-8c3a-7ba8f6269968"
      },
      "outputs": [
        {
          "output_type": "stream",
          "name": "stdout",
          "text": [
            "/content/drive/MyDrive/Bioinformatics/DNABERT-master/examples\n"
          ]
        }
      ],
      "source": [
        "cd /content/drive/MyDrive/Bioinformatics/DNABERT-master/examples/"
      ]
    },
    {
      "cell_type": "code",
      "execution_count": null,
      "metadata": {
        "colab": {
          "base_uri": "https://localhost:8080/"
        },
        "id": "u_GvctmWl43h",
        "outputId": "025cca1a-8c5c-4fec-ef24-055e064d3e21"
      },
      "outputs": [
        {
          "output_type": "stream",
          "name": "stdout",
          "text": [
            "Looking in indexes: https://pypi.org/simple, https://us-python.pkg.dev/colab-wheels/public/simple/\n",
            "Collecting tensorboardX\n",
            "  Downloading tensorboardX-2.5.1-py2.py3-none-any.whl (125 kB)\n",
            "\u001b[K     |████████████████████████████████| 125 kB 14.7 MB/s \n",
            "\u001b[?25hRequirement already satisfied: tensorboard in /usr/local/lib/python3.7/dist-packages (from -r requirements.txt (line 2)) (2.9.1)\n",
            "Requirement already satisfied: scikit-learn>=0.22.2 in /usr/local/lib/python3.7/dist-packages (from -r requirements.txt (line 3)) (1.0.2)\n",
            "Collecting seqeval\n",
            "  Downloading seqeval-1.2.2.tar.gz (43 kB)\n",
            "\u001b[K     |████████████████████████████████| 43 kB 2.5 MB/s \n",
            "\u001b[?25hCollecting pyahocorasick\n",
            "  Downloading pyahocorasick-1.4.4-cp37-cp37m-manylinux_2_17_x86_64.manylinux2014_x86_64.whl (106 kB)\n",
            "\u001b[K     |████████████████████████████████| 106 kB 61.3 MB/s \n",
            "\u001b[?25hRequirement already satisfied: scipy in /usr/local/lib/python3.7/dist-packages (from -r requirements.txt (line 6)) (1.7.3)\n",
            "Requirement already satisfied: statsmodels in /usr/local/lib/python3.7/dist-packages (from -r requirements.txt (line 7)) (0.12.2)\n",
            "Collecting biopython\n",
            "  Downloading biopython-1.79-cp37-cp37m-manylinux_2_17_x86_64.manylinux2014_x86_64.whl (2.6 MB)\n",
            "\u001b[K     |████████████████████████████████| 2.6 MB 69.9 MB/s \n",
            "\u001b[?25hRequirement already satisfied: pandas in /usr/local/lib/python3.7/dist-packages (from -r requirements.txt (line 9)) (1.3.5)\n",
            "Collecting pybedtools\n",
            "  Downloading pybedtools-0.9.0.tar.gz (12.5 MB)\n",
            "\u001b[K     |████████████████████████████████| 12.5 MB 52.7 MB/s \n",
            "\u001b[?25hCollecting sentencepiece==0.1.91\n",
            "  Downloading sentencepiece-0.1.91-cp37-cp37m-manylinux1_x86_64.whl (1.1 MB)\n",
            "\u001b[K     |████████████████████████████████| 1.1 MB 57.9 MB/s \n",
            "\u001b[?25hRequirement already satisfied: joblib>=0.11 in /usr/local/lib/python3.7/dist-packages (from scikit-learn>=0.22.2->-r requirements.txt (line 3)) (1.2.0)\n",
            "Requirement already satisfied: threadpoolctl>=2.0.0 in /usr/local/lib/python3.7/dist-packages (from scikit-learn>=0.22.2->-r requirements.txt (line 3)) (3.1.0)\n",
            "Requirement already satisfied: numpy>=1.14.6 in /usr/local/lib/python3.7/dist-packages (from scikit-learn>=0.22.2->-r requirements.txt (line 3)) (1.21.6)\n",
            "Requirement already satisfied: protobuf<=3.20.1,>=3.8.0 in /usr/local/lib/python3.7/dist-packages (from tensorboardX->-r requirements.txt (line 1)) (3.17.3)\n",
            "Requirement already satisfied: six>=1.9 in /usr/local/lib/python3.7/dist-packages (from protobuf<=3.20.1,>=3.8.0->tensorboardX->-r requirements.txt (line 1)) (1.15.0)\n",
            "Requirement already satisfied: grpcio>=1.24.3 in /usr/local/lib/python3.7/dist-packages (from tensorboard->-r requirements.txt (line 2)) (1.49.1)\n",
            "Requirement already satisfied: absl-py>=0.4 in /usr/local/lib/python3.7/dist-packages (from tensorboard->-r requirements.txt (line 2)) (1.3.0)\n",
            "Requirement already satisfied: google-auth<3,>=1.6.3 in /usr/local/lib/python3.7/dist-packages (from tensorboard->-r requirements.txt (line 2)) (1.35.0)\n",
            "Requirement already satisfied: requests<3,>=2.21.0 in /usr/local/lib/python3.7/dist-packages (from tensorboard->-r requirements.txt (line 2)) (2.23.0)\n",
            "Requirement already satisfied: wheel>=0.26 in /usr/local/lib/python3.7/dist-packages (from tensorboard->-r requirements.txt (line 2)) (0.37.1)\n",
            "Requirement already satisfied: markdown>=2.6.8 in /usr/local/lib/python3.7/dist-packages (from tensorboard->-r requirements.txt (line 2)) (3.4.1)\n",
            "Requirement already satisfied: tensorboard-data-server<0.7.0,>=0.6.0 in /usr/local/lib/python3.7/dist-packages (from tensorboard->-r requirements.txt (line 2)) (0.6.1)\n",
            "Requirement already satisfied: setuptools>=41.0.0 in /usr/local/lib/python3.7/dist-packages (from tensorboard->-r requirements.txt (line 2)) (57.4.0)\n",
            "Requirement already satisfied: tensorboard-plugin-wit>=1.6.0 in /usr/local/lib/python3.7/dist-packages (from tensorboard->-r requirements.txt (line 2)) (1.8.1)\n",
            "Requirement already satisfied: werkzeug>=1.0.1 in /usr/local/lib/python3.7/dist-packages (from tensorboard->-r requirements.txt (line 2)) (1.0.1)\n",
            "Requirement already satisfied: google-auth-oauthlib<0.5,>=0.4.1 in /usr/local/lib/python3.7/dist-packages (from tensorboard->-r requirements.txt (line 2)) (0.4.6)\n",
            "Requirement already satisfied: rsa<5,>=3.1.4 in /usr/local/lib/python3.7/dist-packages (from google-auth<3,>=1.6.3->tensorboard->-r requirements.txt (line 2)) (4.9)\n",
            "Requirement already satisfied: pyasn1-modules>=0.2.1 in /usr/local/lib/python3.7/dist-packages (from google-auth<3,>=1.6.3->tensorboard->-r requirements.txt (line 2)) (0.2.8)\n",
            "Requirement already satisfied: cachetools<5.0,>=2.0.0 in /usr/local/lib/python3.7/dist-packages (from google-auth<3,>=1.6.3->tensorboard->-r requirements.txt (line 2)) (4.2.4)\n",
            "Requirement already satisfied: requests-oauthlib>=0.7.0 in /usr/local/lib/python3.7/dist-packages (from google-auth-oauthlib<0.5,>=0.4.1->tensorboard->-r requirements.txt (line 2)) (1.3.1)\n",
            "Requirement already satisfied: importlib-metadata>=4.4 in /usr/local/lib/python3.7/dist-packages (from markdown>=2.6.8->tensorboard->-r requirements.txt (line 2)) (4.13.0)\n",
            "Requirement already satisfied: typing-extensions>=3.6.4 in /usr/local/lib/python3.7/dist-packages (from importlib-metadata>=4.4->markdown>=2.6.8->tensorboard->-r requirements.txt (line 2)) (4.1.1)\n",
            "Requirement already satisfied: zipp>=0.5 in /usr/local/lib/python3.7/dist-packages (from importlib-metadata>=4.4->markdown>=2.6.8->tensorboard->-r requirements.txt (line 2)) (3.9.0)\n",
            "Requirement already satisfied: pyasn1<0.5.0,>=0.4.6 in /usr/local/lib/python3.7/dist-packages (from pyasn1-modules>=0.2.1->google-auth<3,>=1.6.3->tensorboard->-r requirements.txt (line 2)) (0.4.8)\n",
            "Requirement already satisfied: idna<3,>=2.5 in /usr/local/lib/python3.7/dist-packages (from requests<3,>=2.21.0->tensorboard->-r requirements.txt (line 2)) (2.10)\n",
            "Requirement already satisfied: chardet<4,>=3.0.2 in /usr/local/lib/python3.7/dist-packages (from requests<3,>=2.21.0->tensorboard->-r requirements.txt (line 2)) (3.0.4)\n",
            "Requirement already satisfied: certifi>=2017.4.17 in /usr/local/lib/python3.7/dist-packages (from requests<3,>=2.21.0->tensorboard->-r requirements.txt (line 2)) (2022.9.24)\n",
            "Requirement already satisfied: urllib3!=1.25.0,!=1.25.1,<1.26,>=1.21.1 in /usr/local/lib/python3.7/dist-packages (from requests<3,>=2.21.0->tensorboard->-r requirements.txt (line 2)) (1.25.11)\n",
            "Requirement already satisfied: oauthlib>=3.0.0 in /usr/local/lib/python3.7/dist-packages (from requests-oauthlib>=0.7.0->google-auth-oauthlib<0.5,>=0.4.1->tensorboard->-r requirements.txt (line 2)) (3.2.1)\n",
            "Requirement already satisfied: patsy>=0.5 in /usr/local/lib/python3.7/dist-packages (from statsmodels->-r requirements.txt (line 7)) (0.5.3)\n",
            "Requirement already satisfied: pytz>=2017.3 in /usr/local/lib/python3.7/dist-packages (from pandas->-r requirements.txt (line 9)) (2022.4)\n",
            "Requirement already satisfied: python-dateutil>=2.7.3 in /usr/local/lib/python3.7/dist-packages (from pandas->-r requirements.txt (line 9)) (2.8.2)\n",
            "Collecting pysam\n",
            "  Downloading pysam-0.19.1-cp37-cp37m-manylinux_2_24_x86_64.whl (15.1 MB)\n",
            "\u001b[K     |████████████████████████████████| 15.1 MB 41.3 MB/s \n",
            "\u001b[?25hBuilding wheels for collected packages: seqeval, pybedtools\n",
            "  Building wheel for seqeval (setup.py) ... \u001b[?25l\u001b[?25hdone\n",
            "  Created wheel for seqeval: filename=seqeval-1.2.2-py3-none-any.whl size=16180 sha256=3e07d92e59e10205d00fac447e0ffcccf428b4e06508c9dfda1b50f772be3f2a\n",
            "  Stored in directory: /root/.cache/pip/wheels/05/96/ee/7cac4e74f3b19e3158dce26a20a1c86b3533c43ec72a549fd7\n",
            "  Building wheel for pybedtools (setup.py) ... \u001b[?25l\u001b[?25hdone\n",
            "  Created wheel for pybedtools: filename=pybedtools-0.9.0-cp37-cp37m-linux_x86_64.whl size=13616804 sha256=9da2ae57cad1d9750cbedb48dffcb9b8c15453fc0548d929cd977b5f1a358424\n",
            "  Stored in directory: /root/.cache/pip/wheels/7a/44/0d/3a7449885adaf8ebb157da8c3c834a712f48b3b3b84ba51dda\n",
            "Successfully built seqeval pybedtools\n",
            "Installing collected packages: pysam, tensorboardX, seqeval, sentencepiece, pybedtools, pyahocorasick, biopython\n",
            "  Attempting uninstall: sentencepiece\n",
            "    Found existing installation: sentencepiece 0.1.97\n",
            "    Uninstalling sentencepiece-0.1.97:\n",
            "      Successfully uninstalled sentencepiece-0.1.97\n",
            "Successfully installed biopython-1.79 pyahocorasick-1.4.4 pybedtools-0.9.0 pysam-0.19.1 sentencepiece-0.1.91 seqeval-1.2.2 tensorboardX-2.5.1\n"
          ]
        }
      ],
      "source": [
        "!python3 -m pip install -r requirements.txt"
      ]
    },
    {
      "cell_type": "code",
      "execution_count": null,
      "metadata": {
        "colab": {
          "base_uri": "https://localhost:8080/"
        },
        "id": "l0hkNG7pphSV",
        "outputId": "a8a44f98-baa8-44dd-d694-729e82abc1de"
      },
      "outputs": [
        {
          "output_type": "stream",
          "name": "stdout",
          "text": [
            "/content/drive/MyDrive/Bioinformatics\n"
          ]
        }
      ],
      "source": [
        "cd /content/drive/MyDrive/Bioinformatics"
      ]
    },
    {
      "cell_type": "code",
      "execution_count": null,
      "metadata": {
        "id": "UTz2ZZOzpuCT"
      },
      "outputs": [],
      "source": [
        "# !unzip 6-new-12w-0.zip"
      ]
    },
    {
      "cell_type": "code",
      "execution_count": null,
      "metadata": {
        "colab": {
          "base_uri": "https://localhost:8080/"
        },
        "id": "JmXjt1ksp-f-",
        "outputId": "2eac7502-bcb5-4fa6-8eeb-8c1dec39dc2e"
      },
      "outputs": [
        {
          "output_type": "stream",
          "name": "stdout",
          "text": [
            "/content/drive/MyDrive/Bioinformatics/DNABERT-master/examples\n"
          ]
        }
      ],
      "source": [
        "cd /content/drive/MyDrive/Bioinformatics/DNABERT-master/examples\n"
      ]
    },
    {
      "cell_type": "markdown",
      "metadata": {
        "id": "yJLcCDYXgIzb"
      },
      "source": [
        "# Making data in 6mer format/ fetching the data and getting some insights"
      ]
    },
    {
      "cell_type": "code",
      "execution_count": null,
      "metadata": {
        "id": "4kgkz1eeAaUQ"
      },
      "outputs": [],
      "source": [
        "# KMER = \"6\""
      ]
    },
    {
      "cell_type": "code",
      "execution_count": null,
      "metadata": {
        "id": "g895mXbagArl"
      },
      "outputs": [],
      "source": [
        "def seq2kmer(seq, k=6):\n",
        "    \"\"\"\n",
        "    Convert original sequence to kmers\n",
        "    \n",
        "    Arguments:\n",
        "    seq -- str, original sequence.\n",
        "    k -- int, kmer of length k specified.\n",
        "    \n",
        "    Returns:\n",
        "    kmers -- str, kmers separated by space\n",
        "    \"\"\"\n",
        "    kmer = [seq[x:x+k] for x in range(len(seq)+1-k)]\n",
        "    kmers = \" \".join(kmer)\n",
        "    return kmers"
      ]
    },
    {
      "cell_type": "code",
      "execution_count": null,
      "metadata": {
        "id": "pmlSjhYNhyR4"
      },
      "outputs": [],
      "source": [
        "\n"
      ]
    },
    {
      "cell_type": "code",
      "execution_count": null,
      "metadata": {
        "id": "LKykIct3nPWH"
      },
      "outputs": [],
      "source": [
        "# snRNA = pd.read_csv(\"/content/drive/MyDrive/Bioinformatics/snRNA.csv\", header = None)\n",
        "# snoRNA = pd.read_csv(\"/content/drive/MyDrive/Bioinformatics/snoRNA.csv\", header = None)\n",
        "# noncoding = pd.read_csv(\"/content/drive/MyDrive/Bioinformatics/noncoding_sequences.csv\")\n",
        "# overlapping_cuts = pd.read_csv(\"/content/drive/MyDrive/Bioinformatics/overlapping_cut_sequences.csv\")\n",
        "# nonoverlapping_cuts = pd.read_csv(\"/content/drive/MyDrive/Bioinformatics/nonoverlapping_cut_sequences.csv\")\n"
      ]
    },
    {
      "cell_type": "code",
      "execution_count": null,
      "metadata": {
        "id": "nRt1ewkoVTVq"
      },
      "outputs": [],
      "source": []
    },
    {
      "cell_type": "code",
      "execution_count": null,
      "metadata": {
        "id": "tnrogjUinzKo"
      },
      "outputs": [],
      "source": [
        "# snRNA.rename(columns={0:'sequence'},inplace=True)\n",
        "# snRNA['label'] = 0"
      ]
    },
    {
      "cell_type": "code",
      "execution_count": null,
      "metadata": {
        "id": "il-zC0ZFohYt"
      },
      "outputs": [],
      "source": [
        "# snoRNA.rename(columns={0:'sequence'},inplace=True)\n",
        "# snoRNA['label'] = 0"
      ]
    },
    {
      "cell_type": "code",
      "execution_count": null,
      "metadata": {
        "id": "MSEHjWl5on9c"
      },
      "outputs": [],
      "source": [
        "# noncoding.drop(columns=['Unnamed: 0'],inplace=True)\n",
        "# noncoding['label'] = 0"
      ]
    },
    {
      "cell_type": "code",
      "execution_count": null,
      "metadata": {
        "id": "bepwDCGyo1wZ"
      },
      "outputs": [],
      "source": [
        "# overlapping_cuts.drop(columns=['Unnamed: 0'],inplace=True)\n",
        "# overlapping_cuts['label'] = 1"
      ]
    },
    {
      "cell_type": "code",
      "execution_count": null,
      "metadata": {
        "id": "RC5VNXf0pHAH"
      },
      "outputs": [],
      "source": [
        "# nonoverlapping_cuts.drop(columns=['Unnamed: 0'],inplace=True)\n",
        "# nonoverlapping_cuts['label'] = 1"
      ]
    },
    {
      "cell_type": "code",
      "execution_count": null,
      "metadata": {
        "id": "a8K41coQWy_k"
      },
      "outputs": [],
      "source": [
        "# overlapping_cuts.drop_duplicates(inplace = True)\n",
        "# nonoverlapping_cuts.drop_duplicates(inplace = True)\n",
        "# noncoding.drop_duplicates(inplace = True)\n",
        "# snRNA.drop_duplicates(inplace = True)\n",
        "# snoRNA.drop_duplicates(inplace = True)"
      ]
    },
    {
      "cell_type": "code",
      "execution_count": null,
      "metadata": {
        "id": "rkB2T8twnut3"
      },
      "outputs": [],
      "source": [
        "# shuffled_df = pd.concat([snRNA,snoRNA,noncoding,overlapping_cuts,nonoverlapping_cuts]).sample(frac=1)\n",
        "# shuffled_df['label'] = shuffled_df['label'].astype(int)"
      ]
    },
    {
      "cell_type": "code",
      "execution_count": null,
      "metadata": {
        "id": "-8_WTihmno2W"
      },
      "outputs": [],
      "source": [
        "# shuffled_df['label'].value_counts()"
      ]
    },
    {
      "cell_type": "code",
      "execution_count": null,
      "metadata": {
        "id": "ihPB3U_pYaTE"
      },
      "outputs": [],
      "source": [
        "# shuffled_df.drop_duplicates() ['label'].value_counts()\n"
      ]
    },
    {
      "cell_type": "code",
      "execution_count": null,
      "metadata": {
        "id": "yECvQu37aNW3"
      },
      "outputs": [],
      "source": [
        "# shuffled_df.drop_duplicates(inplace = True)"
      ]
    },
    {
      "cell_type": "code",
      "execution_count": null,
      "metadata": {
        "id": "QK2TqjFDAB42"
      },
      "outputs": [],
      "source": [
        "# shuffled_df.to_pickle('/content/drive/MyDrive/Bioinformatics/shuffled_sd_with_labels_and_sequences_with_new_data')\n",
        "# import numpy as np\n",
        "# lengths = shuffled_df[\"sequence\"].str.len()\n",
        "# lengths.mean()\n"
      ]
    },
    {
      "cell_type": "code",
      "execution_count": null,
      "metadata": {
        "id": "r61xf7JgqBNQ"
      },
      "outputs": [],
      "source": [
        "# shuffled_df['sequence'] = shuffled_df['sequence'].apply(seq2kmer)\n",
        "# shuffled_df.to_pickle('/content/drive/MyDrive/Bioinformatics/shuffled_sd_with_labels_and_sequences_with_new_data_with_kmer')"
      ]
    },
    {
      "cell_type": "code",
      "execution_count": null,
      "metadata": {
        "id": "uxAApQKaVmCt"
      },
      "outputs": [],
      "source": [
        "import pandas as pd\n",
        "# shuffled_df = pd.read_pickle('/content/drive/MyDrive/Bioinformatics/shuffled_sd_with_labels_and_sequences_with_new_data_with_kmer')\n",
        "shuffled_df = pd.read_csv('/content/drive/MyDrive/Bioinformatics/snRNA + snoRNA + ncRNA + other ncRNAs from paper + overlapping cuts + nonoverlappingcuts (kmer formats and labels).csv')\n"
      ]
    },
    {
      "cell_type": "code",
      "source": [
        "shuffled_df"
      ],
      "metadata": {
        "colab": {
          "base_uri": "https://localhost:8080/",
          "height": 433
        },
        "id": "UVK_837ObDVI",
        "outputId": "ad2b149b-94a3-4ad6-de9e-7d3d168abe62"
      },
      "execution_count": null,
      "outputs": [
        {
          "output_type": "execute_result",
          "data": {
            "text/plain": [
              "      Unnamed: 0                                           sequence  label\n",
              "0              0  TAAAAT AAAATG AAATGA AATGAT ATGATG TGATGA GATG...      0\n",
              "1              1  AAGCGG AGCGGA GCGGAA CGGAAT GGAATC GAATCG AATC...      1\n",
              "2              2  TAACAA AACAAC ACAACT CAACTC AACTCA ACTCAC CTCA...      0\n",
              "3              3  TGTAAT GTAATT TAATTA AATTAA ATTAAC TTAACA TAAC...      1\n",
              "4              4  AATATA ATATAA TATAAT ATAATG TAATGT AATGTG ATGT...      1\n",
              "...          ...                                                ...    ...\n",
              "1307        1308  GGTCCT GTCCTA TCCTAT CCTATA CTATAG TATAGT ATAG...      0\n",
              "1308        1309  TTTATT TTATTC TATTCT ATTCTA TTCTAC TCTACT CTAC...      1\n",
              "1309        1310  GTAATA TAATAC AATACA ATACAT TACATC ACATCA CATC...      0\n",
              "1310        1311  AGAGGA GAGGAA AGGAAA GGAAAA GAAAAC AAAACA AAAC...      0\n",
              "1311        1312  GACATA ACATAA CATAAA ATAAAA TAAAAA AAAAAG AAAA...      1\n",
              "\n",
              "[1312 rows x 3 columns]"
            ],
            "text/html": [
              "\n",
              "  <div id=\"df-9462f75f-5f2c-454e-a5fc-984f071571b9\">\n",
              "    <div class=\"colab-df-container\">\n",
              "      <div>\n",
              "<style scoped>\n",
              "    .dataframe tbody tr th:only-of-type {\n",
              "        vertical-align: middle;\n",
              "    }\n",
              "\n",
              "    .dataframe tbody tr th {\n",
              "        vertical-align: top;\n",
              "    }\n",
              "\n",
              "    .dataframe thead th {\n",
              "        text-align: right;\n",
              "    }\n",
              "</style>\n",
              "<table border=\"1\" class=\"dataframe\">\n",
              "  <thead>\n",
              "    <tr style=\"text-align: right;\">\n",
              "      <th></th>\n",
              "      <th>Unnamed: 0</th>\n",
              "      <th>sequence</th>\n",
              "      <th>label</th>\n",
              "    </tr>\n",
              "  </thead>\n",
              "  <tbody>\n",
              "    <tr>\n",
              "      <th>0</th>\n",
              "      <td>0</td>\n",
              "      <td>TAAAAT AAAATG AAATGA AATGAT ATGATG TGATGA GATG...</td>\n",
              "      <td>0</td>\n",
              "    </tr>\n",
              "    <tr>\n",
              "      <th>1</th>\n",
              "      <td>1</td>\n",
              "      <td>AAGCGG AGCGGA GCGGAA CGGAAT GGAATC GAATCG AATC...</td>\n",
              "      <td>1</td>\n",
              "    </tr>\n",
              "    <tr>\n",
              "      <th>2</th>\n",
              "      <td>2</td>\n",
              "      <td>TAACAA AACAAC ACAACT CAACTC AACTCA ACTCAC CTCA...</td>\n",
              "      <td>0</td>\n",
              "    </tr>\n",
              "    <tr>\n",
              "      <th>3</th>\n",
              "      <td>3</td>\n",
              "      <td>TGTAAT GTAATT TAATTA AATTAA ATTAAC TTAACA TAAC...</td>\n",
              "      <td>1</td>\n",
              "    </tr>\n",
              "    <tr>\n",
              "      <th>4</th>\n",
              "      <td>4</td>\n",
              "      <td>AATATA ATATAA TATAAT ATAATG TAATGT AATGTG ATGT...</td>\n",
              "      <td>1</td>\n",
              "    </tr>\n",
              "    <tr>\n",
              "      <th>...</th>\n",
              "      <td>...</td>\n",
              "      <td>...</td>\n",
              "      <td>...</td>\n",
              "    </tr>\n",
              "    <tr>\n",
              "      <th>1307</th>\n",
              "      <td>1308</td>\n",
              "      <td>GGTCCT GTCCTA TCCTAT CCTATA CTATAG TATAGT ATAG...</td>\n",
              "      <td>0</td>\n",
              "    </tr>\n",
              "    <tr>\n",
              "      <th>1308</th>\n",
              "      <td>1309</td>\n",
              "      <td>TTTATT TTATTC TATTCT ATTCTA TTCTAC TCTACT CTAC...</td>\n",
              "      <td>1</td>\n",
              "    </tr>\n",
              "    <tr>\n",
              "      <th>1309</th>\n",
              "      <td>1310</td>\n",
              "      <td>GTAATA TAATAC AATACA ATACAT TACATC ACATCA CATC...</td>\n",
              "      <td>0</td>\n",
              "    </tr>\n",
              "    <tr>\n",
              "      <th>1310</th>\n",
              "      <td>1311</td>\n",
              "      <td>AGAGGA GAGGAA AGGAAA GGAAAA GAAAAC AAAACA AAAC...</td>\n",
              "      <td>0</td>\n",
              "    </tr>\n",
              "    <tr>\n",
              "      <th>1311</th>\n",
              "      <td>1312</td>\n",
              "      <td>GACATA ACATAA CATAAA ATAAAA TAAAAA AAAAAG AAAA...</td>\n",
              "      <td>1</td>\n",
              "    </tr>\n",
              "  </tbody>\n",
              "</table>\n",
              "<p>1312 rows × 3 columns</p>\n",
              "</div>\n",
              "      <button class=\"colab-df-convert\" onclick=\"convertToInteractive('df-9462f75f-5f2c-454e-a5fc-984f071571b9')\"\n",
              "              title=\"Convert this dataframe to an interactive table.\"\n",
              "              style=\"display:none;\">\n",
              "        \n",
              "  <svg xmlns=\"http://www.w3.org/2000/svg\" height=\"24px\"viewBox=\"0 0 24 24\"\n",
              "       width=\"24px\">\n",
              "    <path d=\"M0 0h24v24H0V0z\" fill=\"none\"/>\n",
              "    <path d=\"M18.56 5.44l.94 2.06.94-2.06 2.06-.94-2.06-.94-.94-2.06-.94 2.06-2.06.94zm-11 1L8.5 8.5l.94-2.06 2.06-.94-2.06-.94L8.5 2.5l-.94 2.06-2.06.94zm10 10l.94 2.06.94-2.06 2.06-.94-2.06-.94-.94-2.06-.94 2.06-2.06.94z\"/><path d=\"M17.41 7.96l-1.37-1.37c-.4-.4-.92-.59-1.43-.59-.52 0-1.04.2-1.43.59L10.3 9.45l-7.72 7.72c-.78.78-.78 2.05 0 2.83L4 21.41c.39.39.9.59 1.41.59.51 0 1.02-.2 1.41-.59l7.78-7.78 2.81-2.81c.8-.78.8-2.07 0-2.86zM5.41 20L4 18.59l7.72-7.72 1.47 1.35L5.41 20z\"/>\n",
              "  </svg>\n",
              "      </button>\n",
              "      \n",
              "  <style>\n",
              "    .colab-df-container {\n",
              "      display:flex;\n",
              "      flex-wrap:wrap;\n",
              "      gap: 12px;\n",
              "    }\n",
              "\n",
              "    .colab-df-convert {\n",
              "      background-color: #E8F0FE;\n",
              "      border: none;\n",
              "      border-radius: 50%;\n",
              "      cursor: pointer;\n",
              "      display: none;\n",
              "      fill: #1967D2;\n",
              "      height: 32px;\n",
              "      padding: 0 0 0 0;\n",
              "      width: 32px;\n",
              "    }\n",
              "\n",
              "    .colab-df-convert:hover {\n",
              "      background-color: #E2EBFA;\n",
              "      box-shadow: 0px 1px 2px rgba(60, 64, 67, 0.3), 0px 1px 3px 1px rgba(60, 64, 67, 0.15);\n",
              "      fill: #174EA6;\n",
              "    }\n",
              "\n",
              "    [theme=dark] .colab-df-convert {\n",
              "      background-color: #3B4455;\n",
              "      fill: #D2E3FC;\n",
              "    }\n",
              "\n",
              "    [theme=dark] .colab-df-convert:hover {\n",
              "      background-color: #434B5C;\n",
              "      box-shadow: 0px 1px 3px 1px rgba(0, 0, 0, 0.15);\n",
              "      filter: drop-shadow(0px 1px 2px rgba(0, 0, 0, 0.3));\n",
              "      fill: #FFFFFF;\n",
              "    }\n",
              "  </style>\n",
              "\n",
              "      <script>\n",
              "        const buttonEl =\n",
              "          document.querySelector('#df-9462f75f-5f2c-454e-a5fc-984f071571b9 button.colab-df-convert');\n",
              "        buttonEl.style.display =\n",
              "          google.colab.kernel.accessAllowed ? 'block' : 'none';\n",
              "\n",
              "        async function convertToInteractive(key) {\n",
              "          const element = document.querySelector('#df-9462f75f-5f2c-454e-a5fc-984f071571b9');\n",
              "          const dataTable =\n",
              "            await google.colab.kernel.invokeFunction('convertToInteractive',\n",
              "                                                     [key], {});\n",
              "          if (!dataTable) return;\n",
              "\n",
              "          const docLinkHtml = 'Like what you see? Visit the ' +\n",
              "            '<a target=\"_blank\" href=https://colab.research.google.com/notebooks/data_table.ipynb>data table notebook</a>'\n",
              "            + ' to learn more about interactive tables.';\n",
              "          element.innerHTML = '';\n",
              "          dataTable['output_type'] = 'display_data';\n",
              "          await google.colab.output.renderOutput(dataTable, element);\n",
              "          const docLink = document.createElement('div');\n",
              "          docLink.innerHTML = docLinkHtml;\n",
              "          element.appendChild(docLink);\n",
              "        }\n",
              "      </script>\n",
              "    </div>\n",
              "  </div>\n",
              "  "
            ]
          },
          "metadata": {},
          "execution_count": 12
        }
      ]
    },
    {
      "cell_type": "code",
      "execution_count": null,
      "metadata": {
        "colab": {
          "base_uri": "https://localhost:8080/"
        },
        "id": "PeBUxQi_V8QM",
        "outputId": "6c4c4a44-d235-4232-9126-315b31101deb"
      },
      "outputs": [
        {
          "output_type": "execute_result",
          "data": {
            "text/plain": [
              "16790975.67927515"
            ]
          },
          "metadata": {},
          "execution_count": 10
        }
      ],
      "source": [
        "lengths = shuffled_df[\"sequence\"].str.len()\n",
        "import statistics\n",
        "statistics.variance(lengths)"
      ]
    },
    {
      "cell_type": "code",
      "execution_count": null,
      "metadata": {
        "colab": {
          "base_uri": "https://localhost:8080/"
        },
        "id": "ZsQfnIz4HSMr",
        "outputId": "31134854-89c0-411d-a485-b4ebea20ff79"
      },
      "outputs": [
        {
          "output_type": "stream",
          "name": "stdout",
          "text": [
            "<class 'pandas.core.frame.DataFrame'>\n",
            "RangeIndex: 1312 entries, 0 to 1311\n",
            "Data columns (total 3 columns):\n",
            " #   Column      Non-Null Count  Dtype \n",
            "---  ------      --------------  ----- \n",
            " 0   Unnamed: 0  1312 non-null   int64 \n",
            " 1   sequence    1312 non-null   object\n",
            " 2   label       1312 non-null   int64 \n",
            "dtypes: int64(2), object(1)\n",
            "memory usage: 30.9+ KB\n"
          ]
        }
      ],
      "source": [
        "shuffled_df.info()"
      ]
    },
    {
      "cell_type": "code",
      "execution_count": null,
      "metadata": {
        "colab": {
          "base_uri": "https://localhost:8080/"
        },
        "id": "aeD4LWPM5zj6",
        "outputId": "f4a1446a-f65d-4e14-cdb7-3ed6d4583559"
      },
      "outputs": [
        {
          "output_type": "execute_result",
          "data": {
            "text/plain": [
              "41"
            ]
          },
          "metadata": {},
          "execution_count": 12
        }
      ],
      "source": [
        "import numpy as np\n",
        "lengths = shuffled_df[\"sequence\"].str.len()\n",
        "lengths.min()"
      ]
    },
    {
      "cell_type": "code",
      "execution_count": null,
      "metadata": {
        "id": "sHiVC-cw6N1r"
      },
      "outputs": [],
      "source": [
        "shuffled_df = shuffled_df.drop('Unnamed: 0', axis = 1)"
      ]
    },
    {
      "cell_type": "code",
      "execution_count": null,
      "metadata": {
        "colab": {
          "base_uri": "https://localhost:8080/",
          "height": 347
        },
        "id": "1bVnTWYrvRsq",
        "outputId": "3d1638c5-1052-4a8e-a259-359dd9d65462"
      },
      "outputs": [
        {
          "output_type": "stream",
          "name": "stderr",
          "text": [
            "/usr/local/lib/python3.7/dist-packages/seaborn/distributions.py:2619: FutureWarning: `distplot` is a deprecated function and will be removed in a future version. Please adapt your code to use either `displot` (a figure-level function with similar flexibility) or `histplot` (an axes-level function for histograms).\n",
            "  warnings.warn(msg, FutureWarning)\n"
          ]
        },
        {
          "output_type": "execute_result",
          "data": {
            "text/plain": [
              "<matplotlib.axes._subplots.AxesSubplot at 0x7f5dc02704d0>"
            ]
          },
          "metadata": {},
          "execution_count": 14
        },
        {
          "output_type": "display_data",
          "data": {
            "text/plain": [
              "<Figure size 432x288 with 1 Axes>"
            ],
            "image/png": "[encoded data removed]"
          },
          "metadata": {
            "needs_background": "light"
          }
        }
      ],
      "source": [
        "import seaborn as sns\n",
        "sns.distplot(lengths)"
      ]
    },
    {
      "cell_type": "code",
      "execution_count": null,
      "metadata": {
        "id": "ybUoauAFB0jZ"
      },
      "outputs": [],
      "source": []
    },
    {
      "cell_type": "code",
      "source": [],
      "metadata": {
        "id": "44gglXFd9cHs"
      },
      "execution_count": null,
      "outputs": []
    },
    {
      "cell_type": "code",
      "execution_count": null,
      "metadata": {
        "id": "tt_f5qIBqGBb"
      },
      "outputs": [],
      "source": [
        "# from sklearn.model_selection import train_test_split\n",
        "# train, test = train_test_split(shuffled_df, test_size=0.2)\n",
        "# test, validation = train_test_split(test, test_size=0.5)\n",
        "# train.to_csv('/content/drive/MyDrive/Bioinformatics/snRNA + snoRNA + ncRNA + other ncRNAs from paper + overlapping cuts + nonoverlappingcuts train set for finetuning.csv')\n",
        "# test.to_csv('/content/drive/MyDrive/Bioinformatics/snRNA + snoRNA + ncRNA + other ncRNAs from paper + overlapping cuts + nonoverlappingcuts test set for finetuning.csv')\n",
        "# validation.to_csv('/content/drive/MyDrive/Bioinformatics/snRNA + snoRNA + ncRNA + other ncRNAs from paper + overlapping cuts + nonoverlappingcuts validation set for finetuning.csv')\n",
        "# # from imblearn.over_sampling import SMOTE\n",
        "\n",
        "# # # create artificial data with SMOTE\n",
        "# # oversample = SMOTE()\n",
        "# # X_train_smote, y_train_smote = oversample.fit_resample(train_2['sequence'], train_2['label'])\n",
        "# # # count number of records in each class\n",
        "# # count = Counter(y_train_smote)\n",
        "# # print(count)\n"
      ]
    },
    {
      "cell_type": "code",
      "execution_count": null,
      "metadata": {
        "colab": {
          "base_uri": "https://localhost:8080/"
        },
        "id": "Fs0ROS0veh1Y",
        "outputId": "9ca380d1-6ff1-472f-ee9f-814f52036b33"
      },
      "outputs": [
        {
          "output_type": "stream",
          "name": "stdout",
          "text": [
            "1    734\n",
            "0    315\n",
            "Name: label, dtype: int64\n",
            "1    83\n",
            "0    48\n",
            "Name: label, dtype: int64\n",
            "1    89\n",
            "0    43\n",
            "Name: label, dtype: int64\n",
            "2.3301587301587303\n"
          ]
        }
      ],
      "source": [
        "# print(train['label'].value_counts())\n",
        "# print(test['label'].value_counts())\n",
        "# print(validation['label'].value_counts())\n",
        "# print(train[train.label == 1].shape[0] /(train[train.label == 0].shape[0] ))"
      ]
    },
    {
      "cell_type": "markdown",
      "metadata": {
        "id": "NNofQCwS7wwm"
      },
      "source": [
        "### Naive oversampling"
      ]
    },
    {
      "cell_type": "code",
      "execution_count": null,
      "metadata": {
        "colab": {
          "base_uri": "https://localhost:8080/"
        },
        "id": "WP2TXFn-Bv3a",
        "outputId": "a17ba956-bcbe-4ad6-b02b-624b987e35f6"
      },
      "outputs": [
        {
          "output_type": "stream",
          "name": "stdout",
          "text": [
            "Counter({1: 734, 0: 734})\n"
          ]
        }
      ],
      "source": [
        "# from imblearn.over_sampling import RandomOverSampler\n",
        "# oversample = RandomOverSampler(sampling_strategy='minority')\n",
        "# # fit and apply the transform\n",
        "# X_train = train['sequence'].to_numpy().reshape(-1, 1)\n",
        "# y_train = train['label'].to_numpy().reshape(-1, 1)\n",
        "# X_over, y_over = oversample.fit_resample(X_train, y_train)\n",
        "# from collections import Counter\n",
        "# # summarize class distribution\n",
        "# print(Counter(y_over))"
      ]
    },
    {
      "cell_type": "code",
      "execution_count": null,
      "metadata": {
        "colab": {
          "base_uri": "https://localhost:8080/"
        },
        "id": "037sAbVTGmJb",
        "outputId": "73c39378-9f89-40cc-9e81-e7c3e073963f"
      },
      "outputs": [
        {
          "output_type": "stream",
          "name": "stdout",
          "text": [
            "(1468,) (1468,)\n",
            "                                               sequence  label\n",
            "0     AGTACT GTACTG TACTGC ACTGCC CTGCCC TGCCCT GCCC...      1\n",
            "1     TAACAT AACATG ACATGG CATGGT ATGGTG TGGTGT GGTG...      1\n",
            "2     CCTTGT CTTGTT TTGTTT TGTTTT GTTTTA TTTTAT TTTA...      1\n",
            "3     GGTGGT GTGGTG TGGTGA GGTGAT GTGATA TGATAA GATA...      1\n",
            "4     CAGACT AGACTG GACTGA ACTGAA CTGAAG TGAAGA GAAG...      0\n",
            "...                                                 ...    ...\n",
            "1463  GGGCGT GGCGTG GCGTGT CGTGTG GTGTGG TGTGGT GTGG...      0\n",
            "1464  CTTTCA TTTCAG TTCAGC TCAGCT CAGCTC AGCTCG GCTC...      0\n",
            "1465  TCCAAC CCAACA CAACAA AACAAG ACAAGT CAAGTT AAGT...      0\n",
            "1466  ATTTGT TTTGTT TTGTTA TGTTAT GTTATA TTATAT TATA...      0\n",
            "1467  GTTCGC TTCGCG TCGCGA CGCGAA GCGAAG CGAAGT GAAG...      0\n",
            "\n",
            "[1468 rows x 2 columns]\n"
          ]
        }
      ],
      "source": [
        "# from re import X\n",
        "# # importiong the modules\n",
        "# import pandas as pd\n",
        "# import numpy as np\n",
        "# print(X_over.flatten().shape,  y_over.shape)\n",
        "# data = {\n",
        "#   \"sequence\": X_over.flatten().tolist(),\n",
        "#   \"label\": y_over.flatten().tolist()\n",
        "# }\n",
        "\n",
        "# #load data into a DataFrame object:\n",
        "# df_train_oversample = pd.DataFrame(data)\n",
        "# # displaying the dataframe\n",
        "# print(df_train_oversample)\n"
      ]
    },
    {
      "cell_type": "markdown",
      "metadata": {
        "id": "YG0OwgQrbxmb"
      },
      "source": [
        "make a folder named data, output and prediction in content"
      ]
    },
    {
      "cell_type": "code",
      "source": [
        "os.environ['no'] = \"3\""
      ],
      "metadata": {
        "id": "-90z6qKnpa1x"
      },
      "execution_count": null,
      "outputs": []
    },
    {
      "cell_type": "code",
      "source": [
        "import pandas as pd\n",
        "train = pd.read_csv('/content/drive/MyDrive/Bioinformatics/danbert_fintune_results/1/data/train.tsv', encoding='utf-8', sep='\\t')\n",
        "test = pd.read_csv('/content/drive/MyDrive/Bioinformatics/danbert_fintune_results/1/data/test.tsv', encoding='utf-8', sep='\\t')\n",
        "validation = pd.read_csv(\"/content/drive/MyDrive/Bioinformatics/danbert_fintune_results/1/data/dev.tsv\", encoding='utf-8', sep='\\t')"
      ],
      "metadata": {
        "id": "63q2V-1LQkkK"
      },
      "execution_count": null,
      "outputs": []
    },
    {
      "cell_type": "code",
      "execution_count": null,
      "metadata": {
        "id": "lubH-MD0n7l8"
      },
      "outputs": [],
      "source": [
        "# df_train_oversample.to_csv(\"/content/drive/MyDrive/Bioinformatics/danbert_fintune_results/4/data/oversampled_train.tsv\" ,index=False,encoding='utf-8', sep='\\t')\n",
        "test.to_csv(\"/content/drive/MyDrive/Bioinformatics/danbert_fintune_results/5/data/test.tsv\" ,index=False,encoding='utf-8', sep='\\t')\n",
        "train.to_csv(\"/content/drive/MyDrive/Bioinformatics/danbert_fintune_results/5/data/train.tsv\" ,index=False,encoding='utf-8', sep='\\t')\n",
        "validation.to_csv(\"/content/drive/MyDrive/Bioinformatics/danbert_fintune_results/5/data/dev.tsv\" ,index=False,encoding='utf-8', sep='\\t')"
      ]
    },
    {
      "cell_type": "code",
      "source": [
        "# import torch\n",
        "# from sklearn.utils import class_weight\n",
        "\n",
        "# x = torch.randn(20, 5) #The input is expected to contain raw, unnormalized scores for each class.\n",
        " \n",
        "# y = torch.randint(0, 5, (20,))\n",
        " \n",
        "# print(Counter(y.numpy())) #Counter({1: 5, 4: 5, 1: 4, 0: 4, 3: 2})\n",
        "# class_weights = class_weight.compute_class_weight('balanced',\n",
        "#                                                  np.unique(train['label']),\n",
        "#                                                  train['label'])"
      ],
      "metadata": {
        "id": "vU03-MFtCBr4"
      },
      "execution_count": null,
      "outputs": []
    },
    {
      "cell_type": "markdown",
      "metadata": {
        "id": "YZN8mMuO8uVa"
      },
      "source": [
        "### Using weighted loss instead"
      ]
    },
    {
      "cell_type": "code",
      "execution_count": null,
      "metadata": {
        "id": "IiZoOMEnqkOG"
      },
      "outputs": [],
      "source": [
        "import os\n",
        "KMER = \"6\"\n",
        "os.environ['MODEL_PATH'] = \"/content/drive/MyDrive/Bioinformatics/6-new-12w-0\"\n",
        "os.environ['DATA_PATH'] = \"/content/drive/MyDrive/Bioinformatics/danbert_fintune_results/1/data\"\n",
        "os.environ['OUTPUT_PATH'] = \"/content/output\"\n",
        "# os.environ['MODEL_PATH'] = \"/content/drive/MyDrive/Bioinformatics/6-new-12w-0\"\n",
        "# os.environ['DATA_PATH'] = \"/content/data\"\n",
        "# os.environ['OUTPUT_PATH'] = \"/content/output2\""
      ]
    },
    {
      "cell_type": "markdown",
      "metadata": {
        "id": "-1CqMed4_Ssm"
      },
      "source": [
        "## Finetuning DNABert"
      ]
    },
    {
      "cell_type": "code",
      "execution_count": null,
      "metadata": {
        "colab": {
          "base_uri": "https://localhost:8080/"
        },
        "id": "Sf4p4xYTqjRS",
        "outputId": "f87d781e-b205-4213-88aa-6efc92df49ca"
      },
      "outputs": [
        {
          "output_type": "stream",
          "name": "stdout",
          "text": [
            "WARNING:__main__:Process rank: -1, device: cuda, n_gpu: 1, distributed training: False, 16-bits training: False\n",
            "============================================================\n",
            "<class 'transformers.tokenization_dna.DNATokenizer'>\n",
            "Epoch:   0% 0/1 [00:00<?, ?it/s]\n",
            "Iteration:   0% 0/59 [00:00<?, ?it/s]\u001b[A/content/drive/MyDrive/Bioinformatics/DNABERT-master/src/transformers/optimization.py:155: UserWarning: This overload of add_ is deprecated:\n",
            "\tadd_(Number alpha, Tensor other)\n",
            "Consider using one of the following signatures instead:\n",
            "\tadd_(Tensor other, *, Number alpha) (Triggered internally at  ../torch/csrc/utils/python_arg_parser.cpp:1174.)\n",
            "  exp_avg.mul_(beta1).add_(1.0 - beta1, grad)\n",
            "\n",
            "Iteration:   2% 1/59 [00:02<02:05,  2.16s/it]\u001b[A\n",
            "Iteration:   3% 2/59 [00:03<01:42,  1.80s/it]\u001b[A\n",
            "Iteration:   5% 3/59 [00:05<01:34,  1.70s/it]\u001b[A\n",
            "Iteration:   7% 4/59 [00:06<01:30,  1.64s/it]\u001b[A\n",
            "Iteration:   8% 5/59 [00:08<01:27,  1.61s/it]\u001b[A\n",
            "Iteration:  10% 6/59 [00:09<01:24,  1.60s/it]\u001b[A\n",
            "Iteration:  12% 7/59 [00:11<01:22,  1.59s/it]\u001b[A\n",
            "Iteration:  14% 8/59 [00:13<01:20,  1.58s/it]\u001b[A\n",
            "Iteration:  15% 9/59 [00:14<01:18,  1.57s/it]\u001b[A\n",
            "Iteration:  17% 10/59 [00:16<01:17,  1.58s/it]\u001b[A\n",
            "Iteration:  19% 11/59 [00:17<01:15,  1.57s/it]\u001b[A\n",
            "Iteration:  20% 12/59 [00:19<01:14,  1.58s/it]\u001b[A\n",
            "Iteration:  22% 13/59 [00:20<01:12,  1.57s/it]\u001b[A\n",
            "Iteration:  24% 14/59 [00:22<01:10,  1.58s/it]\u001b[A\n",
            "Iteration:  25% 15/59 [00:24<01:09,  1.58s/it]\u001b[A\n",
            "Iteration:  27% 16/59 [00:25<01:08,  1.58s/it]\u001b[A\n",
            "Iteration:  29% 17/59 [00:27<01:06,  1.58s/it]\u001b[A\n",
            "Iteration:  31% 18/59 [00:28<01:04,  1.58s/it]\u001b[A\n",
            "Iteration:  32% 19/59 [00:30<01:03,  1.58s/it]\u001b[A\n",
            "Iteration:  34% 20/59 [00:32<01:01,  1.59s/it]\u001b[A\n",
            "Iteration:  36% 21/59 [00:33<01:00,  1.59s/it]\u001b[A\n",
            "Iteration:  37% 22/59 [00:35<00:59,  1.60s/it]\u001b[A\n",
            "Iteration:  39% 23/59 [00:36<00:57,  1.60s/it]\u001b[A\n",
            "Iteration:  41% 24/59 [00:38<00:55,  1.60s/it]\u001b[A\n",
            "Iteration:  42% 25/59 [00:40<00:54,  1.60s/it]\u001b[A\n",
            "Iteration:  44% 26/59 [00:41<00:52,  1.60s/it]\u001b[A\n",
            "Iteration:  46% 27/59 [00:43<00:51,  1.60s/it]\u001b[A\n",
            "Iteration:  47% 28/59 [00:44<00:49,  1.60s/it]\u001b[A\n",
            "Iteration:  49% 29/59 [00:46<00:48,  1.60s/it]\u001b[A\n",
            "Iteration:  51% 30/59 [00:48<00:46,  1.60s/it]\u001b[A\n",
            "Iteration:  53% 31/59 [00:49<00:44,  1.60s/it]\u001b[A\n",
            "Iteration:  54% 32/59 [00:51<00:43,  1.60s/it]\u001b[A\n",
            "Iteration:  56% 33/59 [00:52<00:41,  1.60s/it]\u001b[A\n",
            "Iteration:  58% 34/59 [00:54<00:40,  1.61s/it]\u001b[A\n",
            "Iteration:  59% 35/59 [00:56<00:38,  1.61s/it]\u001b[A\n",
            "Iteration:  61% 36/59 [00:57<00:37,  1.61s/it]\u001b[A\n",
            "Iteration:  63% 37/59 [00:59<00:35,  1.62s/it]\u001b[A\n",
            "Iteration:  64% 38/59 [01:01<00:34,  1.62s/it]\u001b[A\n",
            "Iteration:  66% 39/59 [01:02<00:32,  1.63s/it]\u001b[A\n",
            "Iteration:  68% 40/59 [01:04<00:30,  1.63s/it]\u001b[A\n",
            "Iteration:  69% 41/59 [01:05<00:29,  1.64s/it]\u001b[A\n",
            "Iteration:  71% 42/59 [01:07<00:27,  1.64s/it]\u001b[A\n",
            "Iteration:  73% 43/59 [01:09<00:26,  1.64s/it]\u001b[A\n",
            "Iteration:  75% 44/59 [01:10<00:24,  1.64s/it]\u001b[A\n",
            "Iteration:  76% 45/59 [01:12<00:23,  1.64s/it]\u001b[A\n",
            "Iteration:  78% 46/59 [01:14<00:21,  1.64s/it]\u001b[A\n",
            "Iteration:  80% 47/59 [01:15<00:19,  1.65s/it]\u001b[A\n",
            "Iteration:  81% 48/59 [01:17<00:18,  1.65s/it]\u001b[A\n",
            "Iteration:  83% 49/59 [01:19<00:16,  1.66s/it]\u001b[A\n",
            "Iteration:  85% 50/59 [01:20<00:14,  1.66s/it]\u001b[A\n",
            "Iteration:  86% 51/59 [01:22<00:13,  1.66s/it]\u001b[A\n",
            "Iteration:  88% 52/59 [01:24<00:11,  1.66s/it]\u001b[A\n",
            "Iteration:  90% 53/59 [01:25<00:09,  1.67s/it]\u001b[A\n",
            "Iteration:  92% 54/59 [01:27<00:08,  1.67s/it]\u001b[A\n",
            "Iteration:  93% 55/59 [01:29<00:06,  1.67s/it]\u001b[A\n",
            "Iteration:  95% 56/59 [01:30<00:05,  1.68s/it]\u001b[A\n",
            "Iteration:  97% 57/59 [01:32<00:03,  1.68s/it]\u001b[A\n",
            "Iteration:  98% 58/59 [01:34<00:01,  1.68s/it]\u001b[A\n",
            "Iteration: 100% 59/59 [01:34<00:00,  1.61s/it]\n",
            "Epoch: 100% 1/1 [01:34<00:00, 94.75s/it]\n",
            "============================================================\n",
            "<class 'transformers.tokenization_dna.DNATokenizer'>\n",
            "============================================================\n",
            "<class 'transformers.tokenization_dna.DNATokenizer'>\n",
            "finish loading examples\n",
            "number of processes for converting feature: 2\n",
            "1 processor started !\n",
            "2 processor started !\n",
            "Evaluating: 100% 1/1 [00:04<00:00,  4.41s/it]\n"
          ]
        }
      ],
      "source": [
        "!python run_finetune.py \\\n",
        "    --model_type dna \\\n",
        "    --tokenizer_name=dna6 \\\n",
        "    --model_name_or_path $MODEL_PATH \\\n",
        "    --task_name dnaprom \\\n",
        "    --do_train \\\n",
        "    --do_eval\\\n",
        "    --evaluate_during_training \\\n",
        "    --data_dir $DATA_PATH \\\n",
        "    --max_seq_length 512 \\\n",
        "    --per_gpu_eval_batch_size=256  \\\n",
        "    --per_gpu_train_batch_size=18   \\\n",
        "    --learning_rate 2e-4 \\\n",
        "    --num_train_epochs 1.0 \\\n",
        "    --output_dir $OUTPUT_PATH \\\n",
        "    --logging_steps 400 \\\n",
        "    --evaluate_during_training \\\n",
        "    --save_steps 400 \\\n",
        "    --warmup_percent 0.1 \\\n",
        "    --hidden_dropout_prob 0.1 \\\n",
        "    --overwrite_output_dir \\\n",
        "    --weight_decay 0.01 \\\n",
        "    --n_process 8 \\\n",
        "    --early_stop 3\n"
      ]
    },
    {
      "cell_type": "code",
      "execution_count": null,
      "metadata": {
        "id": "XcxNY8uNJfgc"
      },
      "outputs": [],
      "source": [
        " # -- overwrite_output_dir, --should_continue (useful features)"
      ]
    },
    {
      "cell_type": "code",
      "execution_count": null,
      "metadata": {
        "id": "jT4nzeFgAhzR"
      },
      "outputs": [],
      "source": [
        "# # using essential genes data as test set since i do not have any\n",
        "# new_test_set = pd.read_csv('/content/drive/MyDrive/Bioinformatics/snRNA + snoRNA + ncRNA + essential genes + overlapping cuts + nonoverlappingcuts (kmer formats and labels).csv')\n",
        "# new_test_set = new_test_set[new_test_set['sequence'].str.len() < 131072]\n",
        "# new_test_set = new_test_set.drop('Unnamed: 0', axis = 1)\n",
        "# new_test_set.to_csv(\"/content/data/dev.tsv\" ,index=False,encoding='utf-8', sep='\\t')\n",
        "# new_test_set\n"
      ]
    },
    {
      "cell_type": "markdown",
      "source": [
        "### Making new test set for motif finding"
      ],
      "metadata": {
        "id": "t8YIcLk_qXeK"
      }
    },
    {
      "cell_type": "code",
      "source": [
        "def kmer2seq(kmers):\n",
        "    \"\"\"\n",
        "    Convert kmers to original sequence\n",
        "    \n",
        "    Arguments:\n",
        "    kmers -- str, kmers separated by space.\n",
        "    \n",
        "    Returns:\n",
        "    seq -- str, original sequence.\n",
        "    \"\"\"\n",
        "    kmers_list = kmers.split(\" \")\n",
        "    bases = [kmer[0] for kmer in kmers_list[0:-1]]\n",
        "    bases.append(kmers_list[-1])\n",
        "    seq = \"\".join(bases)\n",
        "    assert len(seq) == len(kmers_list) + len(kmers_list[0]) - 1\n",
        "    return seq"
      ],
      "metadata": {
        "id": "fn2hV8DyrdKD"
      },
      "execution_count": null,
      "outputs": []
    },
    {
      "cell_type": "code",
      "source": [
        "new_validation_for_motif =  validation.loc[validation['label'] == 1]\n",
        "\n",
        "import numpy as np\n",
        "lengths = new_validation_for_motif[\"sequence\"].apply(kmer2seq).str.len()\n",
        "import seaborn as sns\n",
        "sns.histplot(lengths, stat=\"count\")"
      ],
      "metadata": {
        "colab": {
          "base_uri": "https://localhost:8080/",
          "height": 294
        },
        "id": "oz6QAZgwbq8J",
        "outputId": "a2c33806-f77a-4620-e3e1-691b3b6eba8f"
      },
      "execution_count": null,
      "outputs": [
        {
          "output_type": "execute_result",
          "data": {
            "text/plain": [
              "<matplotlib.axes._subplots.AxesSubplot at 0x7fa566ee6d10>"
            ]
          },
          "metadata": {},
          "execution_count": 16
        },
        {
          "output_type": "display_data",
          "data": {
            "text/plain": [
              "<Figure size 432x288 with 1 Axes>"
            ],
            "image/png": "[encoded data removed]"
          },
          "metadata": {
            "needs_background": "light"
          }
        }
      ]
    },
    {
      "cell_type": "code",
      "source": [
        "import random\n",
        "new_validation_for_motif =  validation.loc[validation['label'] == 1]\n",
        "add_test_set = test.loc[test['label'] == 1]\n",
        "new_validation_for_motif = pd.concat([new_validation_for_motif, add_test_set])\n",
        "for i in new_validation_for_motif['sequence']:\n",
        "  main_seq = kmer2seq(i)\n",
        "  length = len(main_seq)\n",
        "  neg_seq = main_seq\n",
        "  while(neg_seq == main_seq):\n",
        "    chromosome = random.randint(1, 16)\n",
        "    f = open(\"/content/drive/MyDrive/Bioinformatics/chromosome/{}.fsa\".format(chromosome), \"r\")\n",
        "    data = f.read().replace('\\n', '')\n",
        "    start = random.randint(0, len(data) - length)\n",
        "    if (start < 0):\n",
        "      continue\n",
        "    end = start + length\n",
        "    if (end >= len(data)):\n",
        "      continue\n",
        "    neg_seq = data[start: end]\n",
        "  # this is not very efficient. random sequences should be selected from non_cut sections of the chromosome. also consider the intersections\n",
        "  assert (len(neg_seq) == length)\n",
        "  df2 = {'sequence': seq2kmer(neg_seq), 'label':0}\n",
        "  new_validation_for_motif = new_validation_for_motif.append(df2, ignore_index = True)\n",
        "new_validation_for_motif\n",
        "  "
      ],
      "metadata": {
        "colab": {
          "base_uri": "https://localhost:8080/",
          "height": 411
        },
        "id": "af1NmjdLqckT",
        "outputId": "65998d09-443d-4018-e962-e2b436c203ed"
      },
      "execution_count": null,
      "outputs": [
        {
          "output_type": "execute_result",
          "data": {
            "text/plain": [
              "                                              sequence  label\n",
              "0    TAGTCG AGTCGA GTCGAT TCGATA CGATAT GATATA ATAT...      1\n",
              "1    ATACGT TACGTA ACGTAT CGTATA GTATAT TATATA ATAT...      1\n",
              "2    CAGAAT AGAATC GAATCA AATCAT ATCATG TCATGG CATG...      1\n",
              "3    TCTATT CTATTG TATTGC ATTGCA TTGCAT TGCATT GCAT...      1\n",
              "4    GAATTG AATTGC ATTGCA TTGCAG TGCAGG GCAGGG CAGG...      1\n",
              "..                                                 ...    ...\n",
              "339  GCCGGT CCGGTT CGGTTT GGTTTC GTTTCG TTTCGG TTCG...      0\n",
              "340  CGCAAA GCAAAC CAAACA AAACAT AACATC ACATCA CATC...      0\n",
              "341  AACCAC ACCACA CCACAA CACAAA ACAAAA CAAAAC AAAA...      0\n",
              "342  ATATAC TATACC ATACCC TACCCA ACCCAC CCCACA CCAC...      0\n",
              "343  AAAAAC AAAACA AAACAG AACAGC ACAGCT CAGCTC AGCT...      0\n",
              "\n",
              "[344 rows x 2 columns]"
            ],
            "text/html": [
              "\n",
              "  <div id=\"df-acbf6e19-5ec6-43ba-b927-cbab75e52486\">\n",
              "    <div class=\"colab-df-container\">\n",
              "      <div>\n",
              "<style scoped>\n",
              "    .dataframe tbody tr th:only-of-type {\n",
              "        vertical-align: middle;\n",
              "    }\n",
              "\n",
              "    .dataframe tbody tr th {\n",
              "        vertical-align: top;\n",
              "    }\n",
              "\n",
              "    .dataframe thead th {\n",
              "        text-align: right;\n",
              "    }\n",
              "</style>\n",
              "<table border=\"1\" class=\"dataframe\">\n",
              "  <thead>\n",
              "    <tr style=\"text-align: right;\">\n",
              "      <th></th>\n",
              "      <th>sequence</th>\n",
              "      <th>label</th>\n",
              "    </tr>\n",
              "  </thead>\n",
              "  <tbody>\n",
              "    <tr>\n",
              "      <th>0</th>\n",
              "      <td>TAGTCG AGTCGA GTCGAT TCGATA CGATAT GATATA ATAT...</td>\n",
              "      <td>1</td>\n",
              "    </tr>\n",
              "    <tr>\n",
              "      <th>1</th>\n",
              "      <td>ATACGT TACGTA ACGTAT CGTATA GTATAT TATATA ATAT...</td>\n",
              "      <td>1</td>\n",
              "    </tr>\n",
              "    <tr>\n",
              "      <th>2</th>\n",
              "      <td>CAGAAT AGAATC GAATCA AATCAT ATCATG TCATGG CATG...</td>\n",
              "      <td>1</td>\n",
              "    </tr>\n",
              "    <tr>\n",
              "      <th>3</th>\n",
              "      <td>TCTATT CTATTG TATTGC ATTGCA TTGCAT TGCATT GCAT...</td>\n",
              "      <td>1</td>\n",
              "    </tr>\n",
              "    <tr>\n",
              "      <th>4</th>\n",
              "      <td>GAATTG AATTGC ATTGCA TTGCAG TGCAGG GCAGGG CAGG...</td>\n",
              "      <td>1</td>\n",
              "    </tr>\n",
              "    <tr>\n",
              "      <th>...</th>\n",
              "      <td>...</td>\n",
              "      <td>...</td>\n",
              "    </tr>\n",
              "    <tr>\n",
              "      <th>339</th>\n",
              "      <td>GCCGGT CCGGTT CGGTTT GGTTTC GTTTCG TTTCGG TTCG...</td>\n",
              "      <td>0</td>\n",
              "    </tr>\n",
              "    <tr>\n",
              "      <th>340</th>\n",
              "      <td>CGCAAA GCAAAC CAAACA AAACAT AACATC ACATCA CATC...</td>\n",
              "      <td>0</td>\n",
              "    </tr>\n",
              "    <tr>\n",
              "      <th>341</th>\n",
              "      <td>AACCAC ACCACA CCACAA CACAAA ACAAAA CAAAAC AAAA...</td>\n",
              "      <td>0</td>\n",
              "    </tr>\n",
              "    <tr>\n",
              "      <th>342</th>\n",
              "      <td>ATATAC TATACC ATACCC TACCCA ACCCAC CCCACA CCAC...</td>\n",
              "      <td>0</td>\n",
              "    </tr>\n",
              "    <tr>\n",
              "      <th>343</th>\n",
              "      <td>AAAAAC AAAACA AAACAG AACAGC ACAGCT CAGCTC AGCT...</td>\n",
              "      <td>0</td>\n",
              "    </tr>\n",
              "  </tbody>\n",
              "</table>\n",
              "<p>344 rows × 2 columns</p>\n",
              "</div>\n",
              "      <button class=\"colab-df-convert\" onclick=\"convertToInteractive('df-acbf6e19-5ec6-43ba-b927-cbab75e52486')\"\n",
              "              title=\"Convert this dataframe to an interactive table.\"\n",
              "              style=\"display:none;\">\n",
              "        \n",
              "  <svg xmlns=\"http://www.w3.org/2000/svg\" height=\"24px\"viewBox=\"0 0 24 24\"\n",
              "       width=\"24px\">\n",
              "    <path d=\"M0 0h24v24H0V0z\" fill=\"none\"/>\n",
              "    <path d=\"M18.56 5.44l.94 2.06.94-2.06 2.06-.94-2.06-.94-.94-2.06-.94 2.06-2.06.94zm-11 1L8.5 8.5l.94-2.06 2.06-.94-2.06-.94L8.5 2.5l-.94 2.06-2.06.94zm10 10l.94 2.06.94-2.06 2.06-.94-2.06-.94-.94-2.06-.94 2.06-2.06.94z\"/><path d=\"M17.41 7.96l-1.37-1.37c-.4-.4-.92-.59-1.43-.59-.52 0-1.04.2-1.43.59L10.3 9.45l-7.72 7.72c-.78.78-.78 2.05 0 2.83L4 21.41c.39.39.9.59 1.41.59.51 0 1.02-.2 1.41-.59l7.78-7.78 2.81-2.81c.8-.78.8-2.07 0-2.86zM5.41 20L4 18.59l7.72-7.72 1.47 1.35L5.41 20z\"/>\n",
              "  </svg>\n",
              "      </button>\n",
              "      \n",
              "  <style>\n",
              "    .colab-df-container {\n",
              "      display:flex;\n",
              "      flex-wrap:wrap;\n",
              "      gap: 12px;\n",
              "    }\n",
              "\n",
              "    .colab-df-convert {\n",
              "      background-color: #E8F0FE;\n",
              "      border: none;\n",
              "      border-radius: 50%;\n",
              "      cursor: pointer;\n",
              "      display: none;\n",
              "      fill: #1967D2;\n",
              "      height: 32px;\n",
              "      padding: 0 0 0 0;\n",
              "      width: 32px;\n",
              "    }\n",
              "\n",
              "    .colab-df-convert:hover {\n",
              "      background-color: #E2EBFA;\n",
              "      box-shadow: 0px 1px 2px rgba(60, 64, 67, 0.3), 0px 1px 3px 1px rgba(60, 64, 67, 0.15);\n",
              "      fill: #174EA6;\n",
              "    }\n",
              "\n",
              "    [theme=dark] .colab-df-convert {\n",
              "      background-color: #3B4455;\n",
              "      fill: #D2E3FC;\n",
              "    }\n",
              "\n",
              "    [theme=dark] .colab-df-convert:hover {\n",
              "      background-color: #434B5C;\n",
              "      box-shadow: 0px 1px 3px 1px rgba(0, 0, 0, 0.15);\n",
              "      filter: drop-shadow(0px 1px 2px rgba(0, 0, 0, 0.3));\n",
              "      fill: #FFFFFF;\n",
              "    }\n",
              "  </style>\n",
              "\n",
              "      <script>\n",
              "        const buttonEl =\n",
              "          document.querySelector('#df-acbf6e19-5ec6-43ba-b927-cbab75e52486 button.colab-df-convert');\n",
              "        buttonEl.style.display =\n",
              "          google.colab.kernel.accessAllowed ? 'block' : 'none';\n",
              "\n",
              "        async function convertToInteractive(key) {\n",
              "          const element = document.querySelector('#df-acbf6e19-5ec6-43ba-b927-cbab75e52486');\n",
              "          const dataTable =\n",
              "            await google.colab.kernel.invokeFunction('convertToInteractive',\n",
              "                                                     [key], {});\n",
              "          if (!dataTable) return;\n",
              "\n",
              "          const docLinkHtml = 'Like what you see? Visit the ' +\n",
              "            '<a target=\"_blank\" href=https://colab.research.google.com/notebooks/data_table.ipynb>data table notebook</a>'\n",
              "            + ' to learn more about interactive tables.';\n",
              "          element.innerHTML = '';\n",
              "          dataTable['output_type'] = 'display_data';\n",
              "          await google.colab.output.renderOutput(dataTable, element);\n",
              "          const docLink = document.createElement('div');\n",
              "          docLink.innerHTML = docLinkHtml;\n",
              "          element.appendChild(docLink);\n",
              "        }\n",
              "      </script>\n",
              "    </div>\n",
              "  </div>\n",
              "  "
            ]
          },
          "metadata": {},
          "execution_count": 17
        }
      ]
    },
    {
      "cell_type": "code",
      "source": [
        "validation"
      ],
      "metadata": {
        "colab": {
          "base_uri": "https://localhost:8080/",
          "height": 411
        },
        "id": "jMf_t-5m5RAk",
        "outputId": "891bfa94-3eeb-4104-b887-25da87e3ae82"
      },
      "execution_count": null,
      "outputs": [
        {
          "output_type": "execute_result",
          "data": {
            "text/plain": [
              "                                              sequence  label\n",
              "0    TAGTCG AGTCGA GTCGAT TCGATA CGATAT GATATA ATAT...      1\n",
              "1    CTCTCG TCTCGG CTCGGT TCGGTA CGGTAG GGTAGC GTAG...      0\n",
              "2    ATACGT TACGTA ACGTAT CGTATA GTATAT TATATA ATAT...      1\n",
              "3    CAGAAT AGAATC GAATCA AATCAT ATCATG TCATGG CATG...      1\n",
              "4    TCTATT CTATTG TATTGC ATTGCA TTGCAT TGCATT GCAT...      1\n",
              "..                                                 ...    ...\n",
              "127  AGAAGA GAAGAA AAGAAG AGAAGT GAAGTA AAGTAT AGTA...      1\n",
              "128  TTTTAA TTTAAA TTAAAA TAAAAC AAAACG AAACGA AACG...      1\n",
              "129  CTAGTA TAGTAC AGTACT GTACTA TACTAT ACTATT CTAT...      1\n",
              "130  GCTAGG CTAGGC TAGGCA AGGCAG GGCAGA GCAGAA CAGA...      0\n",
              "131  CGAGAA GAGAAC AGAACT GAACTA AACTAG ACTAGA CTAG...      0\n",
              "\n",
              "[132 rows x 2 columns]"
            ],
            "text/html": [
              "\n",
              "  <div id=\"df-964d5bb6-4a4c-441a-9b1f-ec4c7934f059\">\n",
              "    <div class=\"colab-df-container\">\n",
              "      <div>\n",
              "<style scoped>\n",
              "    .dataframe tbody tr th:only-of-type {\n",
              "        vertical-align: middle;\n",
              "    }\n",
              "\n",
              "    .dataframe tbody tr th {\n",
              "        vertical-align: top;\n",
              "    }\n",
              "\n",
              "    .dataframe thead th {\n",
              "        text-align: right;\n",
              "    }\n",
              "</style>\n",
              "<table border=\"1\" class=\"dataframe\">\n",
              "  <thead>\n",
              "    <tr style=\"text-align: right;\">\n",
              "      <th></th>\n",
              "      <th>sequence</th>\n",
              "      <th>label</th>\n",
              "    </tr>\n",
              "  </thead>\n",
              "  <tbody>\n",
              "    <tr>\n",
              "      <th>0</th>\n",
              "      <td>TAGTCG AGTCGA GTCGAT TCGATA CGATAT GATATA ATAT...</td>\n",
              "      <td>1</td>\n",
              "    </tr>\n",
              "    <tr>\n",
              "      <th>1</th>\n",
              "      <td>CTCTCG TCTCGG CTCGGT TCGGTA CGGTAG GGTAGC GTAG...</td>\n",
              "      <td>0</td>\n",
              "    </tr>\n",
              "    <tr>\n",
              "      <th>2</th>\n",
              "      <td>ATACGT TACGTA ACGTAT CGTATA GTATAT TATATA ATAT...</td>\n",
              "      <td>1</td>\n",
              "    </tr>\n",
              "    <tr>\n",
              "      <th>3</th>\n",
              "      <td>CAGAAT AGAATC GAATCA AATCAT ATCATG TCATGG CATG...</td>\n",
              "      <td>1</td>\n",
              "    </tr>\n",
              "    <tr>\n",
              "      <th>4</th>\n",
              "      <td>TCTATT CTATTG TATTGC ATTGCA TTGCAT TGCATT GCAT...</td>\n",
              "      <td>1</td>\n",
              "    </tr>\n",
              "    <tr>\n",
              "      <th>...</th>\n",
              "      <td>...</td>\n",
              "      <td>...</td>\n",
              "    </tr>\n",
              "    <tr>\n",
              "      <th>127</th>\n",
              "      <td>AGAAGA GAAGAA AAGAAG AGAAGT GAAGTA AAGTAT AGTA...</td>\n",
              "      <td>1</td>\n",
              "    </tr>\n",
              "    <tr>\n",
              "      <th>128</th>\n",
              "      <td>TTTTAA TTTAAA TTAAAA TAAAAC AAAACG AAACGA AACG...</td>\n",
              "      <td>1</td>\n",
              "    </tr>\n",
              "    <tr>\n",
              "      <th>129</th>\n",
              "      <td>CTAGTA TAGTAC AGTACT GTACTA TACTAT ACTATT CTAT...</td>\n",
              "      <td>1</td>\n",
              "    </tr>\n",
              "    <tr>\n",
              "      <th>130</th>\n",
              "      <td>GCTAGG CTAGGC TAGGCA AGGCAG GGCAGA GCAGAA CAGA...</td>\n",
              "      <td>0</td>\n",
              "    </tr>\n",
              "    <tr>\n",
              "      <th>131</th>\n",
              "      <td>CGAGAA GAGAAC AGAACT GAACTA AACTAG ACTAGA CTAG...</td>\n",
              "      <td>0</td>\n",
              "    </tr>\n",
              "  </tbody>\n",
              "</table>\n",
              "<p>132 rows × 2 columns</p>\n",
              "</div>\n",
              "      <button class=\"colab-df-convert\" onclick=\"convertToInteractive('df-964d5bb6-4a4c-441a-9b1f-ec4c7934f059')\"\n",
              "              title=\"Convert this dataframe to an interactive table.\"\n",
              "              style=\"display:none;\">\n",
              "        \n",
              "  <svg xmlns=\"http://www.w3.org/2000/svg\" height=\"24px\"viewBox=\"0 0 24 24\"\n",
              "       width=\"24px\">\n",
              "    <path d=\"M0 0h24v24H0V0z\" fill=\"none\"/>\n",
              "    <path d=\"M18.56 5.44l.94 2.06.94-2.06 2.06-.94-2.06-.94-.94-2.06-.94 2.06-2.06.94zm-11 1L8.5 8.5l.94-2.06 2.06-.94-2.06-.94L8.5 2.5l-.94 2.06-2.06.94zm10 10l.94 2.06.94-2.06 2.06-.94-2.06-.94-.94-2.06-.94 2.06-2.06.94z\"/><path d=\"M17.41 7.96l-1.37-1.37c-.4-.4-.92-.59-1.43-.59-.52 0-1.04.2-1.43.59L10.3 9.45l-7.72 7.72c-.78.78-.78 2.05 0 2.83L4 21.41c.39.39.9.59 1.41.59.51 0 1.02-.2 1.41-.59l7.78-7.78 2.81-2.81c.8-.78.8-2.07 0-2.86zM5.41 20L4 18.59l7.72-7.72 1.47 1.35L5.41 20z\"/>\n",
              "  </svg>\n",
              "      </button>\n",
              "      \n",
              "  <style>\n",
              "    .colab-df-container {\n",
              "      display:flex;\n",
              "      flex-wrap:wrap;\n",
              "      gap: 12px;\n",
              "    }\n",
              "\n",
              "    .colab-df-convert {\n",
              "      background-color: #E8F0FE;\n",
              "      border: none;\n",
              "      border-radius: 50%;\n",
              "      cursor: pointer;\n",
              "      display: none;\n",
              "      fill: #1967D2;\n",
              "      height: 32px;\n",
              "      padding: 0 0 0 0;\n",
              "      width: 32px;\n",
              "    }\n",
              "\n",
              "    .colab-df-convert:hover {\n",
              "      background-color: #E2EBFA;\n",
              "      box-shadow: 0px 1px 2px rgba(60, 64, 67, 0.3), 0px 1px 3px 1px rgba(60, 64, 67, 0.15);\n",
              "      fill: #174EA6;\n",
              "    }\n",
              "\n",
              "    [theme=dark] .colab-df-convert {\n",
              "      background-color: #3B4455;\n",
              "      fill: #D2E3FC;\n",
              "    }\n",
              "\n",
              "    [theme=dark] .colab-df-convert:hover {\n",
              "      background-color: #434B5C;\n",
              "      box-shadow: 0px 1px 3px 1px rgba(0, 0, 0, 0.15);\n",
              "      filter: drop-shadow(0px 1px 2px rgba(0, 0, 0, 0.3));\n",
              "      fill: #FFFFFF;\n",
              "    }\n",
              "  </style>\n",
              "\n",
              "      <script>\n",
              "        const buttonEl =\n",
              "          document.querySelector('#df-964d5bb6-4a4c-441a-9b1f-ec4c7934f059 button.colab-df-convert');\n",
              "        buttonEl.style.display =\n",
              "          google.colab.kernel.accessAllowed ? 'block' : 'none';\n",
              "\n",
              "        async function convertToInteractive(key) {\n",
              "          const element = document.querySelector('#df-964d5bb6-4a4c-441a-9b1f-ec4c7934f059');\n",
              "          const dataTable =\n",
              "            await google.colab.kernel.invokeFunction('convertToInteractive',\n",
              "                                                     [key], {});\n",
              "          if (!dataTable) return;\n",
              "\n",
              "          const docLinkHtml = 'Like what you see? Visit the ' +\n",
              "            '<a target=\"_blank\" href=https://colab.research.google.com/notebooks/data_table.ipynb>data table notebook</a>'\n",
              "            + ' to learn more about interactive tables.';\n",
              "          element.innerHTML = '';\n",
              "          dataTable['output_type'] = 'display_data';\n",
              "          await google.colab.output.renderOutput(dataTable, element);\n",
              "          const docLink = document.createElement('div');\n",
              "          docLink.innerHTML = docLinkHtml;\n",
              "          element.appendChild(docLink);\n",
              "        }\n",
              "      </script>\n",
              "    </div>\n",
              "  </div>\n",
              "  "
            ]
          },
          "metadata": {},
          "execution_count": 22
        }
      ]
    },
    {
      "cell_type": "code",
      "source": [
        "new_validation_for_motif.to_csv(\"/content/data/dev.tsv\" ,index=False,encoding='utf-8', sep='\\t')\n",
        "os.environ['DATA_PATH'] = \"/content/data\""
      ],
      "metadata": {
        "id": "Bk5L4IYd1_Eq"
      },
      "execution_count": null,
      "outputs": []
    },
    {
      "cell_type": "code",
      "execution_count": null,
      "metadata": {
        "colab": {
          "base_uri": "https://localhost:8080/"
        },
        "id": "YHjNYhmShWlX",
        "outputId": "3c1becec-8369-4ae1-f72f-e0edde36a9e4"
      },
      "outputs": [
        {
          "output_type": "stream",
          "name": "stdout",
          "text": [
            "WARNING:__main__:Process rank: -1, device: cuda, n_gpu: 1, distributed training: False, 16-bits training: False\n",
            "============================================================\n",
            "<class 'transformers.tokenization_dna.DNATokenizer'>\n",
            "============================================================\n",
            "<class 'transformers.tokenization_dna.DNATokenizer'>\n",
            "finish loading examples\n",
            "number of processes for converting feature: 12\n",
            "1 processor started !\n",
            "2 processor started !\n",
            "3 processor started !\n",
            "4 processor started !\n",
            "5 processor started !\n",
            "6 processor started !\n",
            "7 processor started !\n",
            "8 processor started !\n",
            "9 processor started !\n",
            "10 processor started !\n",
            "11 processor started !\n",
            "12 processor started !\n",
            "Evaluating: 100% 43/43 [00:11<00:00,  3.89it/s]\n",
            "============================================================\n",
            "<class 'transformers.tokenization_dna.DNATokenizer'>\n",
            "Predicting: 100% 2/2 [00:10<00:00,  5.21s/it]\n"
          ]
        }
      ],
      "source": [
        "import os\n",
        "KMER=6\n",
        "os.environ['PREDICTION_PATH']=\"/content/prediction\"\n",
        "os.environ['MODEL_PATH'] = \"/content/drive/MyDrive/Bioinformatics/danbert_fintune_results/1/output\"\n",
        "# os.environ['MODEL_PATH'] = \"/content/drive/MyDrive/Bioinformatics/6-new-12w-0\"\n",
        "!python run_finetune.py\\\n",
        "    --model_type dna \\\n",
        "    --do_eval\\\n",
        "    --tokenizer_name=dna6 \\\n",
        "    --model_name_or_path $MODEL_PATH \\\n",
        "    --task_name dnaprom \\\n",
        "    --do_predict \\\n",
        "    --data_dir $DATA_PATH  \\\n",
        "    --max_seq_length 512 \\\n",
        "    --per_gpu_pred_batch_size=256   \\\n",
        "    --output_dir $MODEL_PATH \\\n",
        "    --predict_dir $PREDICTION_PATH \\\n",
        "    --n_process 48"
      ]
    },
    {
      "cell_type": "code",
      "execution_count": null,
      "metadata": {
        "id": "USWnzFLWswP3"
      },
      "outputs": [],
      "source": [
        "import numpy as np\n",
        "# predicted = np.load('/content/drive/MyDrive/Bioinformatics/danbert_fintune_results/1/prediction/pred_results.npy')\n",
        "predicted = np.load('/content/prediction/pred_results.npy')"
      ]
    },
    {
      "cell_type": "code",
      "execution_count": null,
      "metadata": {
        "id": "J7w6fxVrN6Zn",
        "colab": {
          "base_uri": "https://localhost:8080/"
        },
        "outputId": "02df50e7-90d5-44a7-85eb-47d319d55d92"
      },
      "outputs": [
        {
          "output_type": "execute_result",
          "data": {
            "text/plain": [
              "0      1\n",
              "1      1\n",
              "2      1\n",
              "3      1\n",
              "4      1\n",
              "      ..\n",
              "339    0\n",
              "340    0\n",
              "341    0\n",
              "342    0\n",
              "343    0\n",
              "Name: label, Length: 344, dtype: int64"
            ]
          },
          "metadata": {},
          "execution_count": 34
        }
      ],
      "source": [
        "new_validation_for_motif\n",
        "y_test = new_validation_for_motif['label']\n",
        "y_test"
      ]
    },
    {
      "cell_type": "code",
      "execution_count": null,
      "metadata": {
        "colab": {
          "base_uri": "https://localhost:8080/"
        },
        "id": "mjaCsRLuJ3wF",
        "outputId": "e824b0cf-c58b-4b7f-af14-b5809263d603"
      },
      "outputs": [
        {
          "output_type": "execute_result",
          "data": {
            "text/plain": [
              "1    172\n",
              "0    172\n",
              "Name: label, dtype: int64"
            ]
          },
          "metadata": {},
          "execution_count": 35
        }
      ],
      "source": [
        "y_test.value_counts()"
      ]
    },
    {
      "cell_type": "code",
      "execution_count": null,
      "metadata": {
        "id": "fnMrFNxSKtde",
        "colab": {
          "base_uri": "https://localhost:8080/"
        },
        "outputId": "e8588ed5-61db-4571-d7d2-34d91af8f82f"
      },
      "outputs": [
        {
          "output_type": "stream",
          "name": "stdout",
          "text": [
            "0.6664244186046512\n"
          ]
        }
      ],
      "source": [
        "from sklearn.metrics import roc_auc_score\n",
        "print(roc_auc_score(y_test, predicted))"
      ]
    },
    {
      "cell_type": "code",
      "execution_count": null,
      "metadata": {
        "id": "D1AEHHagNegK",
        "colab": {
          "base_uri": "https://localhost:8080/",
          "height": 294
        },
        "outputId": "cdc429fa-dcf9-46fa-968c-fba6dbf596ea"
      },
      "outputs": [
        {
          "output_type": "stream",
          "name": "stdout",
          "text": [
            "ROC AUC=0.666\n"
          ]
        },
        {
          "output_type": "display_data",
          "data": {
            "text/plain": [
              "<Figure size 432x288 with 1 Axes>"
            ],
            "image/png": "[encoded data removed]"
          },
          "metadata": {
            "needs_background": "light"
          }
        }
      ],
      "source": [
        "from sklearn.metrics import roc_curve\n",
        "from sklearn.metrics import roc_auc_score\n",
        "auc = roc_auc_score(y_test, predicted)\n",
        "print('ROC AUC=%.3f' % (auc))\n",
        "# calculate roc curves\n",
        "fpr, tpr, _ = roc_curve(y_test, predicted)\n",
        "# plot the roc curve for the model\n",
        "from matplotlib import pyplot\n",
        "pyplot.plot(fpr, tpr, linestyle='--', label='roc curve')\n",
        "# axis labels\n",
        "pyplot.xlabel('False Positive Rate')\n",
        "pyplot.ylabel('True Positive Rate')\n",
        "# show the legend\n",
        "pyplot.legend()\n",
        "# show the plot\n",
        "pyplot.show()"
      ]
    },
    {
      "cell_type": "code",
      "execution_count": null,
      "metadata": {
        "id": "Xj-HHIVPu_5L"
      },
      "outputs": [],
      "source": [
        "predicted[predicted > 0.5] = 1\n",
        "predicted[predicted < 0.5] = 0\n",
        "from sklearn import metrics\n",
        "confusion_matrix = metrics.confusion_matrix(y_test, predicted)\n"
      ]
    },
    {
      "cell_type": "code",
      "execution_count": null,
      "metadata": {
        "id": "dBkm8UMqJABQ",
        "colab": {
          "base_uri": "https://localhost:8080/"
        },
        "outputId": "4c0e3fa0-49e7-4c92-a606-646e52ab85e9"
      },
      "outputs": [
        {
          "output_type": "execute_result",
          "data": {
            "text/plain": [
              "array([[ 39, 133],\n",
              "       [ 19, 153]])"
            ]
          },
          "metadata": {},
          "execution_count": 39
        }
      ],
      "source": [
        "confusion_matrix"
      ]
    },
    {
      "cell_type": "code",
      "source": [
        "cd ../examples\n"
      ],
      "metadata": {
        "colab": {
          "base_uri": "https://localhost:8080/"
        },
        "id": "SQaHjs76-PRT",
        "outputId": "03c611e4-74b8-419e-dacf-7fa47705431a"
      },
      "execution_count": null,
      "outputs": [
        {
          "output_type": "stream",
          "name": "stdout",
          "text": [
            "/content/drive/MyDrive/Bioinformatics/DNABERT-master/examples\n"
          ]
        }
      ]
    },
    {
      "cell_type": "code",
      "source": [
        "!python run_finetune.py \\\n",
        "    --model_type dna \\\n",
        "    --tokenizer_name=dna6 \\\n",
        "    --model_name_or_path $MODEL_PATH \\\n",
        "    --task_name dnaprom \\\n",
        "    --do_visualize \\\n",
        "    --visualize_data_dir $DATA_PATH \\\n",
        "    --visualize_models 6 \\\n",
        "    --data_dir $DATA_PATH \\\n",
        "    --max_seq_length 512 \\\n",
        "    --per_gpu_pred_batch_size=16   \\\n",
        "    --output_dir $MODEL_PATH \\\n",
        "    --predict_dir $PREDICTION_PATH \\\n",
        "    --n_process 96"
      ],
      "metadata": {
        "id": "21vmmSKEhNwx",
        "colab": {
          "base_uri": "https://localhost:8080/"
        },
        "outputId": "559e2c5f-3bd1-4837-d4d2-9e973baecb86"
      },
      "execution_count": null,
      "outputs": [
        {
          "output_type": "stream",
          "name": "stdout",
          "text": [
            "WARNING:__main__:Process rank: -1, device: cuda, n_gpu: 1, distributed training: False, 16-bits training: False\n",
            "============================================================\n",
            "<class 'transformers.tokenization_dna.DNATokenizer'>\n",
            "finish loading examples\n",
            "number of processes for converting feature: 24\n",
            "1 processor started !\n",
            "2 processor started !\n",
            "3 processor started !\n",
            "4 processor started !\n",
            "5 processor started !\n",
            "6 processor started !\n",
            "7 processor started !\n",
            "8 processor started !\n",
            "9 processor started !\n",
            "10 processor started !\n",
            "11 processor started !\n",
            "12 processor started !\n",
            "13 processor started !\n",
            "14 processor started !\n",
            "15 processor started !\n",
            "16 processor started !\n",
            "17 processor started !\n",
            "18 processor started !\n",
            "19 processor started !\n",
            "20 processor started !\n",
            "21 processor started !\n",
            "22 processor started !\n",
            "23 processor started !\n",
            "24 processor started !\n",
            "tcmalloc: large alloc 8657043456 bytes == 0x7f9b94000000 @  0x7f9ef5678001 0x7f9ef20551af 0x7f9ef20abc23 0x7f9ef20aca87 0x7f9ef214e823 0x58f62c 0x5105e2 0x5b575e 0x58ff2e 0x50d482 0x5b575e 0x58ff2e 0x50c4fc 0x5b4ee6 0x6005a3 0x607796 0x60785c 0x60a436 0x64db82 0x64dd2e 0x7f9ef5273c87 0x5b636a\n",
            "Predicting: 100% 22/22 [00:16<00:00,  1.31it/s]\n"
          ]
        }
      ]
    },
    {
      "cell_type": "code",
      "source": [
        "import numpy as np\n",
        "\n",
        "attention = np.load('/content/prediction/atten.npy')\n",
        "attention.shape"
      ],
      "metadata": {
        "colab": {
          "base_uri": "https://localhost:8080/"
        },
        "id": "esI_5oNrwRYA",
        "outputId": "2bc90b10-62d4-4744-e38a-486bd8b80ec0"
      },
      "execution_count": null,
      "outputs": [
        {
          "output_type": "execute_result",
          "data": {
            "text/plain": [
              "(344, 512)"
            ]
          },
          "metadata": {},
          "execution_count": 42
        }
      ]
    },
    {
      "cell_type": "code",
      "source": [
        "os.environ['MOTIF_PATH'] = \"/content/motif\"\n",
        "KMER=6\n",
        "# os.environ['PREDICTION_PATH']=\"/content/drive/MyDrive/Bioinformatics/danbert_fintune_results/1/prediction\"\n",
        "# os.environ['MODEL_PATH'] = \"/content/drive/MyDrive/Bioinformatics/danbert_fintune_results/1/output\"\n",
        "# os.environ['DATA_PATH'] = \"/content/drive/MyDrive/Bioinformatics/danbert_fintune_results/1/data\""
      ],
      "metadata": {
        "id": "jyPvhjqFMwox"
      },
      "execution_count": null,
      "outputs": []
    },
    {
      "cell_type": "code",
      "source": [
        "cd ../motif"
      ],
      "metadata": {
        "colab": {
          "base_uri": "https://localhost:8080/"
        },
        "id": "rd2jJKIGOks3",
        "outputId": "4c24e2fa-3cad-418a-dc56-f817dd2ab03a"
      },
      "execution_count": null,
      "outputs": [
        {
          "output_type": "stream",
          "name": "stdout",
          "text": [
            "/content/drive/MyDrive/Bioinformatics/DNABERT-master/motif\n"
          ]
        }
      ]
    },
    {
      "cell_type": "code",
      "source": [
        "!pip install colab-xterm\n",
        "%load_ext colabxterm"
      ],
      "metadata": {
        "colab": {
          "base_uri": "https://localhost:8080/"
        },
        "id": "cOQ9HAOCBqr8",
        "outputId": "e077ead9-1c6f-4bd3-890f-5a0e4eca5413"
      },
      "execution_count": null,
      "outputs": [
        {
          "output_type": "stream",
          "name": "stdout",
          "text": [
            "Looking in indexes: https://pypi.org/simple, https://us-python.pkg.dev/colab-wheels/public/simple/\n",
            "Collecting colab-xterm\n",
            "  Downloading colab_xterm-0.1.2-py3-none-any.whl (115 kB)\n",
            "\u001b[K     |████████████████████████████████| 115 kB 16.1 MB/s \n",
            "\u001b[?25hRequirement already satisfied: tornado>5.1 in /usr/local/lib/python3.7/dist-packages (from colab-xterm) (5.1.1)\n",
            "Requirement already satisfied: ptyprocess~=0.7.0 in /usr/local/lib/python3.7/dist-packages (from colab-xterm) (0.7.0)\n",
            "Installing collected packages: colab-xterm\n",
            "Successfully installed colab-xterm-0.1.2\n"
          ]
        }
      ]
    },
    {
      "cell_type": "code",
      "source": [
        "!chmod 755 '/content/motifs.sh'"
      ],
      "metadata": {
        "id": "E4GySY_k6Sff"
      },
      "execution_count": null,
      "outputs": []
    },
    {
      "cell_type": "code",
      "source": [
        "!'/content/motifs.sh'"
      ],
      "metadata": {
        "colab": {
          "base_uri": "https://localhost:8080/"
        },
        "id": "hcQZ87Wr5i6A",
        "outputId": "4d4a1e10-c14d-4ae1-9a42-e6a5e62e5652"
      },
      "execution_count": null,
      "outputs": [
        {
          "output_type": "stream",
          "name": "stdout",
          "text": [
            "*** Begin motif analysis ***\n",
            "* pos_seqs: 172; neg_seqs: 172\n",
            "* Finding high attention motif regions\n",
            "* Filtering motifs by hypergeometric test\n",
            "* Merging similar motif instances\n",
            "* Making fixed_length window = 5\n",
            "* Removing motifs with less than 2 instances\n",
            "* Saving outputs to directory\n",
            "*** Begin motif analysis ***\n",
            "* pos_seqs: 172; neg_seqs: 172\n",
            "* Finding high attention motif regions\n",
            "* Filtering motifs by hypergeometric test\n",
            "* Merging similar motif instances\n",
            "* Making fixed_length window = 6\n",
            "* Removing motifs with less than 2 instances\n",
            "* Saving outputs to directory\n",
            "*** Begin motif analysis ***\n",
            "* pos_seqs: 172; neg_seqs: 172\n",
            "* Finding high attention motif regions\n",
            "* Filtering motifs by hypergeometric test\n",
            "* Merging similar motif instances\n",
            "* Making fixed_length window = 7\n",
            "* Removing motifs with less than 2 instances\n",
            "* Saving outputs to directory\n",
            "*** Begin motif analysis ***\n",
            "* pos_seqs: 172; neg_seqs: 172\n",
            "* Finding high attention motif regions\n",
            "* Filtering motifs by hypergeometric test\n",
            "* Merging similar motif instances\n",
            "* Making fixed_length window = 8\n",
            "* Removing motifs with less than 2 instances\n",
            "* Saving outputs to directory\n",
            "*** Begin motif analysis ***\n",
            "* pos_seqs: 172; neg_seqs: 172\n",
            "* Finding high attention motif regions\n",
            "* Filtering motifs by hypergeometric test\n",
            "* Merging similar motif instances\n",
            "* Making fixed_length window = 9\n",
            "* Removing motifs with less than 2 instances\n",
            "* Saving outputs to directory\n",
            "*** Begin motif analysis ***\n",
            "* pos_seqs: 172; neg_seqs: 172\n",
            "* Finding high attention motif regions\n",
            "* Filtering motifs by hypergeometric test\n",
            "* Merging similar motif instances\n",
            "* Making fixed_length window = 10\n",
            "* Removing motifs with less than 2 instances\n",
            "* Saving outputs to directory\n",
            "*** Begin motif analysis ***\n",
            "* pos_seqs: 172; neg_seqs: 172\n",
            "* Finding high attention motif regions\n",
            "* Filtering motifs by hypergeometric test\n",
            "* Merging similar motif instances\n",
            "* Making fixed_length window = 11\n",
            "* Removing motifs with less than 2 instances\n",
            "* Saving outputs to directory\n",
            "*** Begin motif analysis ***\n",
            "* pos_seqs: 172; neg_seqs: 172\n",
            "* Finding high attention motif regions\n",
            "* Filtering motifs by hypergeometric test\n",
            "* Merging similar motif instances\n",
            "* Making fixed_length window = 12\n",
            "* Removing motifs with less than 2 instances\n",
            "* Saving outputs to directory\n",
            "*** Begin motif analysis ***\n",
            "* pos_seqs: 172; neg_seqs: 172\n",
            "* Finding high attention motif regions\n",
            "* Filtering motifs by hypergeometric test\n",
            "* Merging similar motif instances\n",
            "* Making fixed_length window = 13\n",
            "* Removing motifs with less than 2 instances\n",
            "* Saving outputs to directory\n",
            "*** Begin motif analysis ***\n",
            "* pos_seqs: 172; neg_seqs: 172\n",
            "* Finding high attention motif regions\n",
            "* Filtering motifs by hypergeometric test\n",
            "* Merging similar motif instances\n",
            "* Making fixed_length window = 14\n",
            "* Removing motifs with less than 2 instances\n",
            "* Saving outputs to directory\n",
            "*** Begin motif analysis ***\n",
            "* pos_seqs: 172; neg_seqs: 172\n",
            "* Finding high attention motif regions\n",
            "* Filtering motifs by hypergeometric test\n",
            "* Merging similar motif instances\n",
            "* Making fixed_length window = 15\n",
            "* Removing motifs with less than 2 instances\n",
            "* Saving outputs to directory\n",
            "*** Begin motif analysis ***\n",
            "* pos_seqs: 172; neg_seqs: 172\n",
            "* Finding high attention motif regions\n",
            "* Filtering motifs by hypergeometric test\n",
            "* Merging similar motif instances\n",
            "* Making fixed_length window = 16\n",
            "* Removing motifs with less than 2 instances\n",
            "* Saving outputs to directory\n",
            "*** Begin motif analysis ***\n",
            "* pos_seqs: 172; neg_seqs: 172\n",
            "* Finding high attention motif regions\n",
            "* Filtering motifs by hypergeometric test\n",
            "* Merging similar motif instances\n",
            "* Making fixed_length window = 17\n",
            "* Removing motifs with less than 2 instances\n",
            "* Saving outputs to directory\n",
            "*** Begin motif analysis ***\n",
            "* pos_seqs: 172; neg_seqs: 172\n",
            "* Finding high attention motif regions\n",
            "* Filtering motifs by hypergeometric test\n",
            "* Merging similar motif instances\n",
            "* Making fixed_length window = 18\n",
            "* Removing motifs with less than 2 instances\n",
            "* Saving outputs to directory\n",
            "*** Begin motif analysis ***\n",
            "* pos_seqs: 172; neg_seqs: 172\n",
            "* Finding high attention motif regions\n",
            "* Filtering motifs by hypergeometric test\n",
            "* Merging similar motif instances\n",
            "* Making fixed_length window = 19\n",
            "* Removing motifs with less than 2 instances\n",
            "* Saving outputs to directory\n",
            "*** Begin motif analysis ***\n",
            "* pos_seqs: 172; neg_seqs: 172\n",
            "* Finding high attention motif regions\n",
            "* Filtering motifs by hypergeometric test\n",
            "* Merging similar motif instances\n",
            "* Making fixed_length window = 20\n",
            "* Removing motifs with less than 2 instances\n",
            "* Saving outputs to directory\n",
            "*** Begin motif analysis ***\n",
            "* pos_seqs: 172; neg_seqs: 172\n",
            "* Finding high attention motif regions\n",
            "* Filtering motifs by hypergeometric test\n",
            "* Merging similar motif instances\n",
            "* Making fixed_length window = 21\n",
            "* Removing motifs with less than 2 instances\n",
            "* Saving outputs to directory\n",
            "*** Begin motif analysis ***\n",
            "* pos_seqs: 172; neg_seqs: 172\n",
            "* Finding high attention motif regions\n",
            "* Filtering motifs by hypergeometric test\n",
            "* Merging similar motif instances\n",
            "* Making fixed_length window = 22\n",
            "* Removing motifs with less than 2 instances\n",
            "* Saving outputs to directory\n",
            "*** Begin motif analysis ***\n",
            "* pos_seqs: 172; neg_seqs: 172\n",
            "* Finding high attention motif regions\n",
            "* Filtering motifs by hypergeometric test\n",
            "* Merging similar motif instances\n",
            "* Making fixed_length window = 23\n",
            "* Removing motifs with less than 2 instances\n",
            "* Saving outputs to directory\n",
            "*** Begin motif analysis ***\n",
            "* pos_seqs: 172; neg_seqs: 172\n",
            "* Finding high attention motif regions\n",
            "* Filtering motifs by hypergeometric test\n",
            "* Merging similar motif instances\n",
            "* Making fixed_length window = 24\n",
            "* Removing motifs with less than 2 instances\n",
            "* Saving outputs to directory\n",
            "*** Begin motif analysis ***\n",
            "* pos_seqs: 172; neg_seqs: 172\n",
            "* Finding high attention motif regions\n",
            "* Filtering motifs by hypergeometric test\n",
            "* Merging similar motif instances\n",
            "* Making fixed_length window = 25\n",
            "* Removing motifs with less than 2 instances\n",
            "* Saving outputs to directory\n",
            "*** Begin motif analysis ***\n",
            "* pos_seqs: 172; neg_seqs: 172\n",
            "* Finding high attention motif regions\n",
            "* Filtering motifs by hypergeometric test\n",
            "* Merging similar motif instances\n",
            "* Making fixed_length window = 26\n",
            "* Removing motifs with less than 2 instances\n",
            "* Saving outputs to directory\n",
            "*** Begin motif analysis ***\n",
            "* pos_seqs: 172; neg_seqs: 172\n",
            "* Finding high attention motif regions\n",
            "* Filtering motifs by hypergeometric test\n",
            "* Merging similar motif instances\n",
            "* Making fixed_length window = 27\n",
            "* Removing motifs with less than 2 instances\n",
            "* Saving outputs to directory\n",
            "*** Begin motif analysis ***\n",
            "* pos_seqs: 172; neg_seqs: 172\n",
            "* Finding high attention motif regions\n",
            "* Filtering motifs by hypergeometric test\n",
            "* Merging similar motif instances\n",
            "* Making fixed_length window = 28\n",
            "* Removing motifs with less than 2 instances\n",
            "* Saving outputs to directory\n",
            "*** Begin motif analysis ***\n",
            "* pos_seqs: 172; neg_seqs: 172\n",
            "* Finding high attention motif regions\n",
            "* Filtering motifs by hypergeometric test\n",
            "* Merging similar motif instances\n",
            "* Making fixed_length window = 29\n",
            "* Removing motifs with less than 2 instances\n",
            "* Saving outputs to directory\n",
            "*** Begin motif analysis ***\n",
            "* pos_seqs: 172; neg_seqs: 172\n",
            "* Finding high attention motif regions\n",
            "* Filtering motifs by hypergeometric test\n",
            "* Merging similar motif instances\n",
            "* Making fixed_length window = 30\n",
            "* Removing motifs with less than 2 instances\n",
            "* Saving outputs to directory\n"
          ]
        }
      ]
    },
    {
      "cell_type": "code",
      "source": [
        "for i in {5..30}\n",
        "do\n",
        "python find_motifs.py \\\n",
        "    --data_dir $DATA_PATH \\\n",
        "    --predict_dir $PREDICTION_PATH \\\n",
        "    --window_size $i \\\n",
        "    --min_len 3 \\\n",
        "    --pval_cutoff 0.05 \\\n",
        "    --min_n_motif 2 \\\n",
        "    --align_all_ties \\\n",
        "    --save_file_dir $MOTIF_PATH \\\n",
        "    --verbose\n",
        "done\n",
        "\n"
      ],
      "metadata": {
        "colab": {
          "base_uri": "https://localhost:8080/",
          "height": 125
        },
        "id": "QSZkzTCiOMra",
        "outputId": "32676a75-b362-4335-b1c6-a8bcc7f4cda7"
      },
      "execution_count": null,
      "outputs": [
        {
          "output_type": "error",
          "ename": "SyntaxError",
          "evalue": "ignored",
          "traceback": [
            "\u001b[0;36m  File \u001b[0;32m\"<ipython-input-68-5f2f4d14de3b>\"\u001b[0;36m, line \u001b[0;32m1\u001b[0m\n\u001b[0;31m    for i in {5..30}\u001b[0m\n\u001b[0m                  ^\u001b[0m\n\u001b[0;31mSyntaxError\u001b[0m\u001b[0;31m:\u001b[0m invalid syntax\n"
          ]
        }
      ]
    },
    {
      "cell_type": "code",
      "source": [
        "from PIL import Image                                                                                \n",
        "img = Image.open('/content/motif/motif_TTTT_1_weblogo.png')\n",
        "img.show() "
      ],
      "metadata": {
        "colab": {
          "base_uri": "https://localhost:8080/",
          "height": 307
        },
        "id": "eWGJBlGVOltN",
        "outputId": "2f4a6dfe-c13f-47c0-bca5-acf50cdeb2e1"
      },
      "execution_count": null,
      "outputs": [
        {
          "output_type": "error",
          "ename": "UnidentifiedImageError",
          "evalue": "ignored",
          "traceback": [
            "\u001b[0;31m---------------------------------------------------------------------------\u001b[0m",
            "\u001b[0;31mUnidentifiedImageError\u001b[0m                    Traceback (most recent call last)",
            "\u001b[0;32m<ipython-input-30-2499b15921cc>\u001b[0m in \u001b[0;36m<module>\u001b[0;34m\u001b[0m\n\u001b[1;32m      1\u001b[0m \u001b[0;32mfrom\u001b[0m \u001b[0mPIL\u001b[0m \u001b[0;32mimport\u001b[0m \u001b[0mImage\u001b[0m\u001b[0;34m\u001b[0m\u001b[0;34m\u001b[0m\u001b[0m\n\u001b[0;32m----> 2\u001b[0;31m \u001b[0mimg\u001b[0m \u001b[0;34m=\u001b[0m \u001b[0mImage\u001b[0m\u001b[0;34m.\u001b[0m\u001b[0mopen\u001b[0m\u001b[0;34m(\u001b[0m\u001b[0;34m'/content/motif/motif_TTTT_1_weblogo.png'\u001b[0m\u001b[0;34m)\u001b[0m\u001b[0;34m\u001b[0m\u001b[0;34m\u001b[0m\u001b[0m\n\u001b[0m\u001b[1;32m      3\u001b[0m \u001b[0mimg\u001b[0m\u001b[0;34m.\u001b[0m\u001b[0mshow\u001b[0m\u001b[0;34m(\u001b[0m\u001b[0;34m)\u001b[0m\u001b[0;34m\u001b[0m\u001b[0;34m\u001b[0m\u001b[0m\n",
            "\u001b[0;32m/usr/local/lib/python3.7/dist-packages/PIL/Image.py\u001b[0m in \u001b[0;36mopen\u001b[0;34m(fp, mode)\u001b[0m\n\u001b[1;32m   2894\u001b[0m         \u001b[0mwarnings\u001b[0m\u001b[0;34m.\u001b[0m\u001b[0mwarn\u001b[0m\u001b[0;34m(\u001b[0m\u001b[0mmessage\u001b[0m\u001b[0;34m)\u001b[0m\u001b[0;34m\u001b[0m\u001b[0;34m\u001b[0m\u001b[0m\n\u001b[1;32m   2895\u001b[0m     raise UnidentifiedImageError(\n\u001b[0;32m-> 2896\u001b[0;31m         \u001b[0;34m\"cannot identify image file %r\"\u001b[0m \u001b[0;34m%\u001b[0m \u001b[0;34m(\u001b[0m\u001b[0mfilename\u001b[0m \u001b[0;32mif\u001b[0m \u001b[0mfilename\u001b[0m \u001b[0;32melse\u001b[0m \u001b[0mfp\u001b[0m\u001b[0;34m)\u001b[0m\u001b[0;34m\u001b[0m\u001b[0;34m\u001b[0m\u001b[0m\n\u001b[0m\u001b[1;32m   2897\u001b[0m     )\n\u001b[1;32m   2898\u001b[0m \u001b[0;34m\u001b[0m\u001b[0m\n",
            "\u001b[0;31mUnidentifiedImageError\u001b[0m: cannot identify image file '/content/motif/motif_TTTT_1_weblogo.png'"
          ]
        }
      ]
    },
    {
      "cell_type": "code",
      "source": [],
      "metadata": {
        "id": "NS3UjmIOQUO8"
      },
      "execution_count": null,
      "outputs": []
    }
  ],
  "metadata": {
    "colab": {
      "collapsed_sections": [],
      "provenance": [],
      "authorship_tag": "ABX9TyNaoNHOuF+ulixBbbkTuO9j",
      "include_colab_link": true
    },
    "gpuClass": "standard",
    "kernelspec": {
      "display_name": "Python 3",
      "name": "python3"
    },
    "language_info": {
      "name": "python"
    },
    "accelerator": "GPU"
  },
  "nbformat": 4,
  "nbformat_minor": 0
}